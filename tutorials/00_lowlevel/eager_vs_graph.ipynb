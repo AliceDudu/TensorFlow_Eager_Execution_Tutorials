{
  "nbformat": 4,
  "nbformat_minor": 0,
  "metadata": {
    "colab": {
      "name": "eager_vs_graph.ipynb",
      "version": "0.3.2",
      "provenance": [],
      "include_colab_link": true
    },
    "kernelspec": {
      "name": "python3",
      "display_name": "Python 3"
    },
    "accelerator": "GPU"
  },
  "cells": [
    {
      "cell_type": "markdown",
      "metadata": {
        "id": "view-in-github",
        "colab_type": "text"
      },
      "source": [
        "<a href=\"https://colab.research.google.com/github/hellocybernetics/TensorFlow_Eager_Execution_Tutorials/blob/master/tutorials/00_lowlevel/eager_vs_graph.ipynb\" target=\"_parent\"><img src=\"https://colab.research.google.com/assets/colab-badge.svg\" alt=\"Open In Colab\"/></a>"
      ]
    },
    {
      "metadata": {
        "id": "PmHadRahG81Z",
        "colab_type": "code",
        "colab": {}
      },
      "cell_type": "code",
      "source": [
        "import tensorflow as tf\n",
        "import numpy as np\n",
        "import time\n",
        "tf.enable_eager_execution()"
      ],
      "execution_count": 0,
      "outputs": []
    },
    {
      "metadata": {
        "id": "H7tDRcgs4hs8",
        "colab_type": "text"
      },
      "cell_type": "markdown",
      "source": [
        "## time measurement\n",
        "In this section, we measure a calculation time.\n",
        "\n",
        "$$\n",
        "f({\\bf x}) = {\\bf W_3W_2W_1x}\n",
        "$$\n"
      ]
    },
    {
      "metadata": {
        "id": "rwCqyz1rG-4G",
        "colab_type": "code",
        "colab": {}
      },
      "cell_type": "code",
      "source": [
        "model = tf.keras.Sequential([\n",
        "    tf.keras.layers.Dense(1000),\n",
        "    tf.keras.layers.Dense(1000),\n",
        "    tf.keras.layers.Dense(1),\n",
        "])"
      ],
      "execution_count": 0,
      "outputs": []
    },
    {
      "metadata": {
        "id": "LrojM-LrHWhJ",
        "colab_type": "code",
        "colab": {}
      },
      "cell_type": "code",
      "source": [
        "# batch_size is 1024.\n",
        "x = tf.random_normal([1024, 1000])\n",
        "y = tf.random_normal([1024, 1])\n",
        "\n",
        "def loss(y, y_pre):\n",
        "    return tf.losses.mean_squared_error(y, y_pre)\n",
        "optimizer = tf.train.GradientDescentOptimizer(1e-4)"
      ],
      "execution_count": 0,
      "outputs": []
    },
    {
      "metadata": {
        "id": "AToFnb9PHdA-",
        "colab_type": "text"
      },
      "cell_type": "markdown",
      "source": [
        "## Eager Execution"
      ]
    },
    {
      "metadata": {
        "id": "5QkqMeQ0RQt3",
        "colab_type": "code",
        "colab": {}
      },
      "cell_type": "code",
      "source": [
        "def measurement(gpu=False):\n",
        "    if gpu:\n",
        "        device = \"/gpu:0\"\n",
        "    else:\n",
        "        device = \"/cpu:0\" \n",
        "        \n",
        "    with tf.device(device):\n",
        "        with tf.GradientTape() as tape:\n",
        "            y_pre = model(x)\n",
        "            loss_value = loss(y, y_pre)\n",
        "        grads = tape.gradient(loss_value, model.variables)\n",
        "        optimizer.apply_gradients(zip(grads, model.variables))"
      ],
      "execution_count": 0,
      "outputs": []
    },
    {
      "metadata": {
        "id": "PARxOh5_HXdM",
        "colab_type": "code",
        "outputId": "23200c1f-3084-413b-a1fc-54f411cd73c1",
        "colab": {
          "base_uri": "https://localhost:8080/",
          "height": 35
        }
      },
      "cell_type": "code",
      "source": [
        "%%timeit\n",
        "measurement(False)"
      ],
      "execution_count": 143,
      "outputs": [
        {
          "output_type": "stream",
          "text": [
            "10 loops, best of 3: 204 ms per loop\n"
          ],
          "name": "stdout"
        }
      ]
    },
    {
      "metadata": {
        "id": "CbQvbPro7klI",
        "colab_type": "code",
        "outputId": "6a5e17d0-f33e-41ce-c75d-692057dcf23c",
        "colab": {
          "base_uri": "https://localhost:8080/",
          "height": 35
        }
      },
      "cell_type": "code",
      "source": [
        "%%timeit\n",
        "measurement(True)"
      ],
      "execution_count": 144,
      "outputs": [
        {
          "output_type": "stream",
          "text": [
            "10 loops, best of 3: 25.8 ms per loop\n"
          ],
          "name": "stdout"
        }
      ]
    },
    {
      "metadata": {
        "id": "5fmjAcco8y4o",
        "colab_type": "text"
      },
      "cell_type": "markdown",
      "source": [
        "## graph"
      ]
    },
    {
      "metadata": {
        "id": "_Zc8mxmd4WFe",
        "colab_type": "code",
        "colab": {}
      },
      "cell_type": "code",
      "source": [
        "@tf.contrib.eager.defun\n",
        "def graph_measurement(gpu=False):\n",
        "    if gpu:\n",
        "        device = \"/gpu:0\"\n",
        "    else:\n",
        "        device = \"/cpu:0\" \n",
        "        \n",
        "    with tf.device(device):\n",
        "        with tf.GradientTape() as tape:\n",
        "            y_pre = model(x)\n",
        "            loss_value = loss(y, y_pre)\n",
        "        grads = tape.gradient(loss_value, model.variables)\n",
        "        optimizer.apply_gradients(zip(grads, model.variables))"
      ],
      "execution_count": 0,
      "outputs": []
    },
    {
      "metadata": {
        "id": "gjgYSvfzAR6Y",
        "colab_type": "code",
        "outputId": "3894d153-3bc8-45b1-f9ac-252be756fa07",
        "colab": {
          "base_uri": "https://localhost:8080/",
          "height": 35
        }
      },
      "cell_type": "code",
      "source": [
        "%%timeit\n",
        "graph_measurement(False)"
      ],
      "execution_count": 146,
      "outputs": [
        {
          "output_type": "stream",
          "text": [
            "1 loop, best of 3: 166 ms per loop\n"
          ],
          "name": "stdout"
        }
      ]
    },
    {
      "metadata": {
        "id": "eop4TssL8XsP",
        "colab_type": "code",
        "outputId": "8b0aedac-0a93-4cac-9043-546bc404d4ef",
        "colab": {
          "base_uri": "https://localhost:8080/",
          "height": 53
        }
      },
      "cell_type": "code",
      "source": [
        "%%timeit\n",
        "graph_measurement(True)"
      ],
      "execution_count": 147,
      "outputs": [
        {
          "output_type": "stream",
          "text": [
            "The slowest run took 12.24 times longer than the fastest. This could mean that an intermediate result is being cached.\n",
            "1 loop, best of 3: 16.8 ms per loop\n"
          ],
          "name": "stdout"
        }
      ]
    },
    {
      "metadata": {
        "id": "gA5kHUIu8eyE",
        "colab_type": "text"
      },
      "cell_type": "markdown",
      "source": [
        "## for loop Eager"
      ]
    },
    {
      "metadata": {
        "id": "fQwCTsvL8jk_",
        "colab_type": "code",
        "colab": {}
      },
      "cell_type": "code",
      "source": [
        "def measurement_forloop(gpu=False):\n",
        "    if gpu:\n",
        "        device = \"/gpu:0\"\n",
        "    else:\n",
        "        device = \"/cpu:0\" \n",
        "    for _ in range(10):\n",
        "        with tf.device(device):\n",
        "            with tf.GradientTape() as tape:\n",
        "                y_pre = model(x)\n",
        "                loss_value = loss(y, y_pre)\n",
        "            grads = tape.gradient(loss_value, model.variables)\n",
        "            optimizer.apply_gradients(zip(grads, model.variables))"
      ],
      "execution_count": 0,
      "outputs": []
    },
    {
      "metadata": {
        "id": "jrw2AYYm-2zM",
        "colab_type": "code",
        "outputId": "31de44f2-0f59-48cd-f974-058ac429441b",
        "colab": {
          "base_uri": "https://localhost:8080/",
          "height": 35
        }
      },
      "cell_type": "code",
      "source": [
        "%%timeit\n",
        "measurement_forloop(False)"
      ],
      "execution_count": 149,
      "outputs": [
        {
          "output_type": "stream",
          "text": [
            "1 loop, best of 3: 2.15 s per loop\n"
          ],
          "name": "stdout"
        }
      ]
    },
    {
      "metadata": {
        "id": "5QEKkI_lA1w-",
        "colab_type": "code",
        "outputId": "560c6162-c1f3-4ba4-f59e-c68a9f408a44",
        "colab": {
          "base_uri": "https://localhost:8080/",
          "height": 35
        }
      },
      "cell_type": "code",
      "source": [
        "%%timeit\n",
        "measurement_forloop(True)"
      ],
      "execution_count": 150,
      "outputs": [
        {
          "output_type": "stream",
          "text": [
            "1 loop, best of 3: 260 ms per loop\n"
          ],
          "name": "stdout"
        }
      ]
    },
    {
      "metadata": {
        "id": "jwI3ETC8Hu6v",
        "colab_type": "text"
      },
      "cell_type": "markdown",
      "source": [
        "## for loop Graph"
      ]
    },
    {
      "metadata": {
        "id": "6cj1P5A2_gGI",
        "colab_type": "code",
        "colab": {}
      },
      "cell_type": "code",
      "source": [
        "@tf.contrib.eager.defun\n",
        "def graph_measurement_forloop(gpu=False):\n",
        "    if gpu:\n",
        "        device = \"/gpu:0\"\n",
        "    else:\n",
        "        device = \"/cpu:0\"\n",
        "    with tf.device(device):\n",
        "        for _ in range(10):\n",
        "            with tf.GradientTape() as tape:\n",
        "                y_pre = model(x)\n",
        "                loss_value = loss(y, y_pre)\n",
        "            grads = tape.gradient(loss_value, model.variables)\n",
        "            optimizer.apply_gradients(zip(grads, model.variables))"
      ],
      "execution_count": 0,
      "outputs": []
    },
    {
      "metadata": {
        "id": "jdqkR_-d_qqn",
        "colab_type": "code",
        "outputId": "d9c13eb4-d533-4d04-e2b6-bb0ff1c2d1bb",
        "colab": {
          "base_uri": "https://localhost:8080/",
          "height": 35
        }
      },
      "cell_type": "code",
      "source": [
        "%%timeit\n",
        "graph_measurement_forloop(False)"
      ],
      "execution_count": 152,
      "outputs": [
        {
          "output_type": "stream",
          "text": [
            "1 loop, best of 3: 1.7 s per loop\n"
          ],
          "name": "stdout"
        }
      ]
    },
    {
      "metadata": {
        "id": "6CqXniJb_wVj",
        "colab_type": "code",
        "outputId": "cec8d3f5-d94b-4d3f-c996-af2e7e06d228",
        "colab": {
          "base_uri": "https://localhost:8080/",
          "height": 53
        }
      },
      "cell_type": "code",
      "source": [
        "%%timeit\n",
        "graph_measurement_forloop(True)"
      ],
      "execution_count": 153,
      "outputs": [
        {
          "output_type": "stream",
          "text": [
            "The slowest run took 12.86 times longer than the fastest. This could mean that an intermediate result is being cached.\n",
            "1 loop, best of 3: 118 ms per loop\n"
          ],
          "name": "stdout"
        }
      ]
    },
    {
      "metadata": {
        "id": "U3CXRLD5BzAl",
        "colab_type": "text"
      },
      "cell_type": "markdown",
      "source": [
        ""
      ]
    },
    {
      "metadata": {
        "id": "jSoSINEKH24r",
        "colab_type": "code",
        "colab": {}
      },
      "cell_type": "code",
      "source": [
        ""
      ],
      "execution_count": 0,
      "outputs": []
    },
    {
      "metadata": {
        "id": "iXpZbyXSIH2i",
        "colab_type": "code",
        "colab": {}
      },
      "cell_type": "code",
      "source": [
        ""
      ],
      "execution_count": 0,
      "outputs": []
    }
  ]
}