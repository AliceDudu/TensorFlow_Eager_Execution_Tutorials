{
  "nbformat": 4,
  "nbformat_minor": 0,
  "metadata": {
    "colab": {
      "name": "eager_vs_graph.ipynb",
      "version": "0.3.2",
      "provenance": [],
      "include_colab_link": true
    },
    "kernelspec": {
      "name": "python3",
      "display_name": "Python 3"
    },
    "accelerator": "GPU"
  },
  "cells": [
    {
      "cell_type": "markdown",
      "metadata": {
        "id": "view-in-github",
        "colab_type": "text"
      },
      "source": [
        "<a href=\"https://colab.research.google.com/github/hellocybernetics/TensorFlow_Eager_Execution_Tutorials/blob/master/tutorials/00_lowlevel/eager_vs_graph.ipynb\" target=\"_parent\"><img src=\"https://colab.research.google.com/assets/colab-badge.svg\" alt=\"Open In Colab\"/></a>"
      ]
    },
    {
      "metadata": {
        "id": "PmHadRahG81Z",
        "colab_type": "code",
        "colab": {}
      },
      "cell_type": "code",
      "source": [
        "import tensorflow as tf\n",
        "import numpy as np\n",
        "import time\n",
        "tf.enable_eager_execution()"
      ],
      "execution_count": 0,
      "outputs": []
    },
    {
      "metadata": {
        "id": "H7tDRcgs4hs8",
        "colab_type": "text"
      },
      "cell_type": "markdown",
      "source": [
        "### measurement time\n",
        "In this section, we measure a calculation time.\n",
        "\n",
        "$$\n",
        "f({\\bf x}) = {\\bf W_3W_2W_1x}\n",
        "$$\n"
      ]
    },
    {
      "metadata": {
        "id": "rwCqyz1rG-4G",
        "colab_type": "code",
        "colab": {}
      },
      "cell_type": "code",
      "source": [
        "model = tf.keras.Sequential([\n",
        "    tf.keras.layers.Dense(1000),\n",
        "    tf.keras.layers.Dense(1000),\n",
        "    tf.keras.layers.Dense(1),\n",
        "])"
      ],
      "execution_count": 0,
      "outputs": []
    },
    {
      "metadata": {
        "id": "LrojM-LrHWhJ",
        "colab_type": "code",
        "colab": {}
      },
      "cell_type": "code",
      "source": [
        "# batch_size is 1024.\n",
        "x = tf.random_normal([1024, 1000])\n",
        "y = tf.random_normal([1024, 1])\n",
        "\n",
        "def loss(y, y_pre):\n",
        "    return tf.losses.mean_squared_error(y, y_pre)\n",
        "optimizer = tf.train.GradientDescentOptimizer(1e-4)"
      ],
      "execution_count": 0,
      "outputs": []
    },
    {
      "metadata": {
        "id": "5QkqMeQ0RQt3",
        "colab_type": "code",
        "colab": {}
      },
      "cell_type": "code",
      "source": [
        "def measurement(gpu=False):\n",
        "    if gpu:\n",
        "        device = \"/gpu:0\"\n",
        "    else:\n",
        "        device = \"/cpu:0\" \n",
        "        \n",
        "    with tf.device(device):\n",
        "        with tf.GradientTape() as tape:\n",
        "            y_pre = model(x)\n",
        "            loss_value = loss(y, y_pre)\n",
        "        grads = tape.gradient(loss_value, model.variables)\n",
        "        optimizer.apply_gradients(zip(grads, model.variables))"
      ],
      "execution_count": 0,
      "outputs": []
    },
    {
      "metadata": {
        "id": "PARxOh5_HXdM",
        "colab_type": "code",
        "colab": {
          "base_uri": "https://localhost:8080/",
          "height": 35
        },
        "outputId": "ea8a7169-add3-4cc3-90cd-1e90a7e4c4b8"
      },
      "cell_type": "code",
      "source": [
        "%%timeit\n",
        "measurement(False)"
      ],
      "execution_count": 128,
      "outputs": [
        {
          "output_type": "stream",
          "text": [
            "1 loop, best of 3: 211 ms per loop\n"
          ],
          "name": "stdout"
        }
      ]
    },
    {
      "metadata": {
        "id": "CbQvbPro7klI",
        "colab_type": "code",
        "colab": {
          "base_uri": "https://localhost:8080/",
          "height": 35
        },
        "outputId": "4506e64c-229d-45e9-9448-0848b858d81f"
      },
      "cell_type": "code",
      "source": [
        "%%timeit\n",
        "measurement(True)"
      ],
      "execution_count": 129,
      "outputs": [
        {
          "output_type": "stream",
          "text": [
            "10 loops, best of 3: 19.7 ms per loop\n"
          ],
          "name": "stdout"
        }
      ]
    },
    {
      "metadata": {
        "id": "5fmjAcco8y4o",
        "colab_type": "text"
      },
      "cell_type": "markdown",
      "source": [
        "### graph"
      ]
    },
    {
      "metadata": {
        "id": "_Zc8mxmd4WFe",
        "colab_type": "code",
        "colab": {}
      },
      "cell_type": "code",
      "source": [
        "@tf.contrib.eager.defun\n",
        "def graph_measurement(gpu=False):\n",
        "    if gpu:\n",
        "        device = \"/gpu:0\"\n",
        "    else:\n",
        "        device = \"/cpu:0\" \n",
        "        \n",
        "    with tf.device(device):\n",
        "        with tf.GradientTape() as tape:\n",
        "            y_pre = model(x)\n",
        "            loss_value = loss(y, y_pre)\n",
        "        grads = tape.gradient(loss_value, model.variables)\n",
        "        optimizer.apply_gradients(zip(grads, model.variables))"
      ],
      "execution_count": 0,
      "outputs": []
    },
    {
      "metadata": {
        "id": "gjgYSvfzAR6Y",
        "colab_type": "code",
        "colab": {
          "base_uri": "https://localhost:8080/",
          "height": 35
        },
        "outputId": "e7cc0f3f-a15c-44d6-c3ec-3f0c1deb5343"
      },
      "cell_type": "code",
      "source": [
        "%%timeit\n",
        "graph_measurement(False)"
      ],
      "execution_count": 127,
      "outputs": [
        {
          "output_type": "stream",
          "text": [
            "10 loops, best of 3: 183 ms per loop\n"
          ],
          "name": "stdout"
        }
      ]
    },
    {
      "metadata": {
        "id": "eop4TssL8XsP",
        "colab_type": "code",
        "colab": {
          "base_uri": "https://localhost:8080/",
          "height": 35
        },
        "outputId": "2b666c1e-3b76-42c5-ae34-c4a945dea6a4"
      },
      "cell_type": "code",
      "source": [
        "%%timeit\n",
        "graph_measurement(True)"
      ],
      "execution_count": 126,
      "outputs": [
        {
          "output_type": "stream",
          "text": [
            "100 loops, best of 3: 13.2 ms per loop\n"
          ],
          "name": "stdout"
        }
      ]
    },
    {
      "metadata": {
        "id": "gA5kHUIu8eyE",
        "colab_type": "text"
      },
      "cell_type": "markdown",
      "source": [
        "### for loop"
      ]
    },
    {
      "metadata": {
        "id": "fQwCTsvL8jk_",
        "colab_type": "code",
        "colab": {}
      },
      "cell_type": "code",
      "source": [
        "def measurement_forloop(gpu=False):\n",
        "    if gpu:\n",
        "        device = \"/gpu:0\"\n",
        "    else:\n",
        "        device = \"/cpu:0\" \n",
        "    for _ in range(10):\n",
        "        with tf.device(device):\n",
        "            with tf.GradientTape() as tape:\n",
        "                y_pre = model(x)\n",
        "                loss_value = loss(y, y_pre)\n",
        "            grads = tape.gradient(loss_value, model.variables)\n",
        "            optimizer.apply_gradients(zip(grads, model.variables))"
      ],
      "execution_count": 0,
      "outputs": []
    },
    {
      "metadata": {
        "id": "jrw2AYYm-2zM",
        "colab_type": "code",
        "colab": {
          "base_uri": "https://localhost:8080/",
          "height": 35
        },
        "outputId": "490fb7f3-3caa-44b9-8154-d68aa127cf15"
      },
      "cell_type": "code",
      "source": [
        "%%timeit\n",
        "measurement_forloop(False)"
      ],
      "execution_count": 130,
      "outputs": [
        {
          "output_type": "stream",
          "text": [
            "1 loop, best of 3: 2.23 s per loop\n"
          ],
          "name": "stdout"
        }
      ]
    },
    {
      "metadata": {
        "id": "5QEKkI_lA1w-",
        "colab_type": "code",
        "colab": {
          "base_uri": "https://localhost:8080/",
          "height": 35
        },
        "outputId": "4916c47b-1160-4a4b-f927-7bc84072f96a"
      },
      "cell_type": "code",
      "source": [
        "%%timeit\n",
        "measurement_forloop(True)"
      ],
      "execution_count": 134,
      "outputs": [
        {
          "output_type": "stream",
          "text": [
            "1 loop, best of 3: 245 ms per loop\n"
          ],
          "name": "stdout"
        }
      ]
    },
    {
      "metadata": {
        "id": "6cj1P5A2_gGI",
        "colab_type": "code",
        "colab": {}
      },
      "cell_type": "code",
      "source": [
        "@tf.contrib.eager.defun\n",
        "def graph_measurement_forloop(gpu=False):\n",
        "    if gpu:\n",
        "        device = \"/gpu:0\"\n",
        "    else:\n",
        "        device = \"/cpu:0\"\n",
        "    with tf.device(device):\n",
        "        for _ in range(10):\n",
        "            with tf.GradientTape() as tape:\n",
        "                y_pre = model(x)\n",
        "                loss_value = loss(y, y_pre)\n",
        "            grads = tape.gradient(loss_value, model.variables)\n",
        "            optimizer.apply_gradients(zip(grads, model.variables))"
      ],
      "execution_count": 0,
      "outputs": []
    },
    {
      "metadata": {
        "id": "jdqkR_-d_qqn",
        "colab_type": "code",
        "colab": {
          "base_uri": "https://localhost:8080/",
          "height": 35
        },
        "outputId": "e41c8d00-c5a3-4f84-85f5-abe146423c1c"
      },
      "cell_type": "code",
      "source": [
        "%%timeit\n",
        "graph_measurement_forloop(False)"
      ],
      "execution_count": 136,
      "outputs": [
        {
          "output_type": "stream",
          "text": [
            "1 loop, best of 3: 1.75 s per loop\n"
          ],
          "name": "stdout"
        }
      ]
    },
    {
      "metadata": {
        "id": "6CqXniJb_wVj",
        "colab_type": "code",
        "colab": {
          "base_uri": "https://localhost:8080/",
          "height": 53
        },
        "outputId": "a4607ff7-0d50-4aec-f4fd-cfdeca7e29ae"
      },
      "cell_type": "code",
      "source": [
        "%%timeit\n",
        "graph_measurement_forloop(True)"
      ],
      "execution_count": 137,
      "outputs": [
        {
          "output_type": "stream",
          "text": [
            "The slowest run took 13.78 times longer than the fastest. This could mean that an intermediate result is being cached.\n",
            "1 loop, best of 3: 111 ms per loop\n"
          ],
          "name": "stdout"
        }
      ]
    },
    {
      "metadata": {
        "id": "U3CXRLD5BzAl",
        "colab_type": "code",
        "colab": {}
      },
      "cell_type": "code",
      "source": [
        ""
      ],
      "execution_count": 0,
      "outputs": []
    }
  ]
}