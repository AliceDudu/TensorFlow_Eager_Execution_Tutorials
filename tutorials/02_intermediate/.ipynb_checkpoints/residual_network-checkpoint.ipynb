{
 "cells": [
  {
   "cell_type": "markdown",
   "metadata": {
    "colab_type": "text",
    "id": "view-in-github"
   },
   "source": [
    "<a href=\"https://colab.research.google.com/github/hellocybernetics/TensorFlow_Eager_Execution_Tutorials/blob/master/tutorials/02_intermediate/residual_network.ipynb\" target=\"_parent\"><img src=\"https://colab.research.google.com/assets/colab-badge.svg\" alt=\"Open In Colab\"/></a>"
   ]
  },
  {
   "cell_type": "code",
   "execution_count": 0,
   "metadata": {
    "colab": {},
    "colab_type": "code",
    "id": "W-2MApJumG9i"
   },
   "outputs": [],
   "source": [
    "import numpy as np\n",
    "import tensorflow as tf\n",
    "import matplotlib.pyplot as plt\n",
    "%matplotlib inline"
   ]
  },
  {
   "cell_type": "code",
   "execution_count": 0,
   "metadata": {
    "colab": {},
    "colab_type": "code",
    "id": "YY0lj_PWmNKz"
   },
   "outputs": [],
   "source": [
    "L = tf.keras.layers\n",
    "tfe = tf.contrib.eager\n",
    "\n",
    "tf.enable_eager_execution()"
   ]
  },
  {
   "cell_type": "code",
   "execution_count": 3,
   "metadata": {
    "colab": {
     "base_uri": "https://localhost:8080/",
     "height": 197
    },
    "colab_type": "code",
    "id": "Az2CgxXFmilT",
    "outputId": "af93c658-6067-4d2d-96a7-2c95806b3421"
   },
   "outputs": [
    {
     "name": "stdout",
     "output_type": "stream",
     "text": [
      "Downloading data from https://www.cs.toronto.edu/~kriz/cifar-10-python.tar.gz\n",
      "170500096/170498071 [==============================] - 11s 0us/step\n",
      "training_data\n",
      " (50000, 32, 32, 3)\n",
      "test_data\n",
      " (10000, 32, 32, 3)\n",
      "training_label\n",
      " (50000, 1)\n",
      "test_label\n",
      " (10000, 1)\n"
     ]
    }
   ],
   "source": [
    "# Hyper parameters\n",
    "num_epochs = 10\n",
    "num_classes = 10\n",
    "batch_size = 256\n",
    "learning_rate = 0.001\n",
    "\n",
    "(x_train, y_train), (x_test, y_test) = tfk.datasets.cifar10.load_data()\n",
    "\n",
    "print(\"training_data\\n\", x_train.shape)\n",
    "print(\"test_data\\n\", x_test.shape)\n",
    "print(\"training_label\\n\", y_train.shape)\n",
    "print(\"test_label\\n\", y_test.shape)"
   ]
  },
  {
   "cell_type": "code",
   "execution_count": 4,
   "metadata": {
    "colab": {
     "base_uri": "https://localhost:8080/",
     "height": 53
    },
    "colab_type": "code",
    "id": "U6MRu-QDok4N",
    "outputId": "0fdd32cf-0dd4-4473-85b3-711893e1d4a4"
   },
   "outputs": [
    {
     "name": "stdout",
     "output_type": "stream",
     "text": [
      "(50000, 32, 32, 3)\n",
      "(50000, 10)\n"
     ]
    }
   ],
   "source": [
    "x_train_ = tf.convert_to_tensor(x_train, dtype=tf.float32)\n",
    "y_train_ = tf.reshape(tf.one_hot(y_train, 10), (-1, 10))\n",
    "\n",
    "\n",
    "print(x_train_.shape)\n",
    "print(y_train_.shape)"
   ]
  },
  {
   "cell_type": "code",
   "execution_count": 18,
   "metadata": {
    "colab": {
     "base_uri": "https://localhost:8080/",
     "height": 35
    },
    "colab_type": "code",
    "id": "6f15_qjHtZl8",
    "outputId": "c6d0117e-3ee9-4fa8-d7d2-d0ca4b49d8d1"
   },
   "outputs": [
    {
     "name": "stdout",
     "output_type": "stream",
     "text": [
      "<MapDataset shapes: ((?, 32, 32, 3), (?, 10)), types: (tf.float32, tf.float32)>\n"
     ]
    }
   ],
   "source": [
    "train_dataset = (\n",
    "    tf.data.Dataset.from_tensor_slices((x_train, y_train))\n",
    "    .batch(batch_size)\n",
    "    .shuffle(10000)\n",
    ")\n",
    "\n",
    "train_dataset = (\n",
    "    train_dataset.map(lambda x, y: \n",
    "                      (tf.div(tf.cast(x, tf.float32), 255.0), \n",
    "                       tf.reshape(tf.one_hot(y, 10), (-1, 10))))\n",
    ")\n",
    "\n",
    "print(train_dataset)"
   ]
  },
  {
   "cell_type": "code",
   "execution_count": 19,
   "metadata": {
    "colab": {
     "base_uri": "https://localhost:8080/",
     "height": 35
    },
    "colab_type": "code",
    "id": "hL_0Ca4mvJ1m",
    "outputId": "dcd2e3c2-1cba-4db4-d061-332a6337c3ca"
   },
   "outputs": [
    {
     "name": "stdout",
     "output_type": "stream",
     "text": [
      "<MapDataset shapes: ((?, 32, 32, 3), (?, 10)), types: (tf.float32, tf.float32)>\n"
     ]
    }
   ],
   "source": [
    "test_dataset = (\n",
    "    tf.data.Dataset.from_tensor_slices((x_test, y_test))\n",
    "    .batch(1000)\n",
    "    .shuffle(10000)\n",
    ")\n",
    "test_dataset = (\n",
    "    test_dataset.map(lambda x, y: \n",
    "                      (tf.div(tf.cast(x, tf.float32), 255.0), \n",
    "                       tf.reshape(tf.one_hot(y, 10), (-1, 10))))\n",
    ")\n",
    "\n",
    "print(test_dataset)"
   ]
  },
  {
   "cell_type": "code",
   "execution_count": 0,
   "metadata": {
    "colab": {},
    "colab_type": "code",
    "id": "jUvyjTFXm_0d"
   },
   "outputs": [],
   "source": [
    "def conv3x3(out_channels, strides=1):\n",
    "    return L.Conv2D(out_channels, kernel_size=3, \n",
    "                    strides=strides, padding='same', use_bias=False)"
   ]
  },
  {
   "cell_type": "markdown",
   "metadata": {
    "colab_type": "text",
    "id": "LoUv_nFf_jvM"
   },
   "source": [
    "### training flag\n",
    "`call` method of `L.BatchNormalization` need to have `traininig` flag because this method have different behavior between traning and evaluation.  "
   ]
  },
  {
   "cell_type": "code",
   "execution_count": 0,
   "metadata": {
    "colab": {},
    "colab_type": "code",
    "id": "ppETst-0nQtu"
   },
   "outputs": [],
   "source": [
    "# Residual block\n",
    "class ResidualBlock(tf.keras.Model):\n",
    "    def __init__(self, out_channels, strides=1, downsample=None):\n",
    "        super(ResidualBlock, self).__init__(name='ResidualBlock')\n",
    "        self.conv1 = conv3x3(out_channels, strides)\n",
    "        self.bn1 = L.BatchNormalization(axis=-1)\n",
    "        self.relu = L.ReLU()\n",
    "        self.conv2 = conv3x3(out_channels)\n",
    "        self.bn2 = L.BatchNormalization(axis=-1)\n",
    "        self.downsample = downsample\n",
    "    \n",
    "\n",
    "    def call(self, x, training=False):\n",
    "        residual = x\n",
    "        out = self.conv1(x)\n",
    "        out = self.bn1(out, training=training)\n",
    "        out = self.relu(out)\n",
    "        out = self.conv2(out)\n",
    "        out = self.bn2(out, training=training)\n",
    "        if self.downsample:\n",
    "            residual = self.downsample(x)\n",
    "        out += residual\n",
    "        out = self.relu(out)\n",
    "        return out"
   ]
  },
  {
   "cell_type": "markdown",
   "metadata": {
    "colab_type": "text",
    "id": "ME6MBqumAR35"
   },
   "source": [
    "### tf.keras.Sequential\n",
    "`call` method of `tf.keras.Sequential` have `training` flag. This flag affects all layers included by the `tf.keras.Sequential` instance."
   ]
  },
  {
   "cell_type": "code",
   "execution_count": 0,
   "metadata": {
    "colab": {},
    "colab_type": "code",
    "id": "c4dcZi3boLkG"
   },
   "outputs": [],
   "source": [
    "class ResNet(tf.keras.Model):\n",
    "    def __init__(self, block, layers, num_classes=10):\n",
    "        super(ResNet, self).__init__(name='ResNet')\n",
    "        self.in_channels = 16\n",
    "        self.conv = conv3x3(16)\n",
    "        self.bn = L.BatchNormalization(axis=-1)\n",
    "        self.relu = L.ReLU()\n",
    "        self.layer1 = self.make_layer(block, 16, layers[0])\n",
    "        self.layer2 = self.make_layer(block, 32, layers[1], 2)\n",
    "        self.layer3 = self.make_layer(block, 64, layers[2], 2)\n",
    "        self.avg_pool = L.AvgPool2D(8)\n",
    "        self.flatten = L.Flatten()\n",
    "        self.fc = L.Dense(num_classes)\n",
    "        \n",
    "    def make_layer(self, block, out_channels, blocks, strides=1):\n",
    "        downsample = None\n",
    "        if (strides != 1) or (self.in_channels != out_channels):\n",
    "            downsample = tf.keras.Sequential([\n",
    "                conv3x3(out_channels, strides=strides),\n",
    "                L.BatchNormalization(axis=-1)])\n",
    "        layers = []\n",
    "        layers.append(block(out_channels, strides, downsample))\n",
    "        self.in_channels = out_channels\n",
    "        for i in range(1, blocks):\n",
    "            layers.append(block(out_channels))\n",
    "        return tf.keras.Sequential(layers)\n",
    "    \n",
    "    def call(self, x, training=False):\n",
    "        out = self.conv(x)\n",
    "        out = self.bn(out, training=training)\n",
    "        out = self.relu(out)\n",
    "        out = self.layer1(out, training=training)\n",
    "        out = self.layer2(out, training=training)\n",
    "        out = self.layer3(out, training=training)\n",
    "        out = self.avg_pool(out)\n",
    "        out = self.flatten(out)\n",
    "        out = self.fc(out)\n",
    "        return out"
   ]
  },
  {
   "cell_type": "code",
   "execution_count": 0,
   "metadata": {
    "colab": {},
    "colab_type": "code",
    "id": "E6vmD9PdoQxW"
   },
   "outputs": [],
   "source": [
    "model = ResNet(ResidualBlock, [2, 2, 2])"
   ]
  },
  {
   "cell_type": "code",
   "execution_count": 0,
   "metadata": {
    "colab": {},
    "colab_type": "code",
    "id": "Qx0zHRhaqUL3"
   },
   "outputs": [],
   "source": [
    "def loss_fn(y, y_pre):\n",
    "    return tf.losses.softmax_cross_entropy(y, y_pre)\n",
    "\n",
    "def accuracy(y, y_pre):\n",
    "    return tf.keras.metrics.categorical_accuracy(y, y_pre)\n",
    "\n",
    "optimizer = tf.train.AdamOptimizer(learning_rate)"
   ]
  },
  {
   "cell_type": "code",
   "execution_count": 34,
   "metadata": {
    "colab": {
     "base_uri": "https://localhost:8080/",
     "height": 557
    },
    "colab_type": "code",
    "id": "EGEcgjposP9I",
    "outputId": "3bb6ebf5-3483-4808-ff18-7c6d403e1650"
   },
   "outputs": [
    {
     "name": "stdout",
     "output_type": "stream",
     "text": [
      "-----epoch 1 -----\n",
      "loss:  1.4503074178890305\n",
      "acc:  0.4708187336824378\n",
      "-----epoch 2 -----\n",
      "loss:  1.030255531778141\n",
      "acc:  0.6327248008883729\n",
      "-----epoch 3 -----\n",
      "loss:  0.8536564573949698\n",
      "acc:  0.6990194515306123\n",
      "-----epoch 4 -----\n",
      "loss:  0.7369005631427376\n",
      "acc:  0.741896493094308\n",
      "-----epoch 5 -----\n",
      "loss:  0.6444133836395887\n",
      "acc:  0.7760403691505899\n",
      "-----epoch 6 -----\n",
      "loss:  0.5748496152916733\n",
      "acc:  0.7999720670738999\n",
      "-----epoch 7 -----\n",
      "loss:  0.5158630682497608\n",
      "acc:  0.8208665653150908\n",
      "-----epoch 8 -----\n",
      "loss:  0.46397267555703925\n",
      "acc:  0.8399194989885602\n",
      "-----epoch 9 -----\n",
      "loss:  0.405785541145169\n",
      "acc:  0.8601921237244898\n",
      "-----epoch 10 -----\n",
      "loss:  0.36217514349489793\n",
      "acc:  0.8758011642767458\n"
     ]
    }
   ],
   "source": [
    "for j in range(num_epochs):\n",
    "    \n",
    "    running_loss = 0\n",
    "    running_acc = 0\n",
    "\n",
    "    for i, (x_, y_) in enumerate(train_dataset):\n",
    "        \n",
    "        with tf.device(\"/gpu:0\"):\n",
    "            with tf.GradientTape() as tape:\n",
    "                y_pre = model(x_, training=True)\n",
    "                loss = loss_fn(y_, y_pre)\n",
    "            acc = accuracy(y_, y_pre)\n",
    "            grads = tape.gradient(loss, model.variables)\n",
    "            optimizer.apply_gradients(zip(grads, model.variables))\n",
    "            running_loss += loss\n",
    "            running_acc += tf.reduce_mean(acc)\n",
    "    \n",
    "    print(\"-----epoch {} -----\".format(j + 1))\n",
    "    print(\"loss: \", running_loss.numpy()/(i + 1))\n",
    "    print(\"acc: \", running_acc.numpy()/(i + 1))    "
   ]
  },
  {
   "cell_type": "code",
   "execution_count": 42,
   "metadata": {
    "colab": {
     "base_uri": "https://localhost:8080/",
     "height": 35
    },
    "colab_type": "code",
    "id": "8M37rwRAt0kk",
    "outputId": "df534c9f-923c-47ab-f21d-ddc07fbc21a0"
   },
   "outputs": [
    {
     "name": "stdout",
     "output_type": "stream",
     "text": [
      "test accuracy 0.723\n"
     ]
    }
   ],
   "source": [
    "test_accuracy = 0\n",
    "for i, (x_, y_) in enumerate(test_dataset):\n",
    "    y_pre = model(x_, training=False)\n",
    "    test_accuracy += tf.reduce_mean(accuracy(y_, y_pre))\n",
    "test_accuracy /= i + 1\n",
    "\n",
    "print(\"test accuracy {:0.3f}\".format(test_accuracy.numpy()))"
   ]
  },
  {
   "cell_type": "code",
   "execution_count": 0,
   "metadata": {
    "colab": {},
    "colab_type": "code",
    "id": "p1EN7x6nhkxu"
   },
   "outputs": [],
   "source": []
  },
  {
   "cell_type": "code",
   "execution_count": 0,
   "metadata": {
    "colab": {},
    "colab_type": "code",
    "id": "oq81ZIfC9SZD"
   },
   "outputs": [],
   "source": []
  }
 ],
 "metadata": {
  "accelerator": "GPU",
  "colab": {
   "collapsed_sections": [],
   "include_colab_link": true,
   "name": "residual_network.ipynb",
   "provenance": [],
   "version": "0.3.2"
  },
  "kernelspec": {
   "display_name": "Python 3",
   "language": "python",
   "name": "python3"
  },
  "language_info": {
   "codemirror_mode": {
    "name": "ipython",
    "version": 3
   },
   "file_extension": ".py",
   "mimetype": "text/x-python",
   "name": "python",
   "nbconvert_exporter": "python",
   "pygments_lexer": "ipython3",
   "version": "3.5.3"
  }
 },
 "nbformat": 4,
 "nbformat_minor": 1
}
