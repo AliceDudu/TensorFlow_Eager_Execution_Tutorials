{
 "cells": [
  {
   "cell_type": "markdown",
   "metadata": {
    "colab_type": "text",
    "id": "view-in-github"
   },
   "source": [
    "<a href=\"https://colab.research.google.com/github/hellocybernetics/TensorFlow_Eager_Execution_Tutorials/blob/master/tutorials/02-intermediate/Convolutinal_Neural_Network_using_KerasAPI.ipynb\" target=\"_parent\"><img src=\"https://colab.research.google.com/assets/colab-badge.svg\" alt=\"Open In Colab\"/></a>"
   ]
  },
  {
   "cell_type": "code",
   "execution_count": 0,
   "metadata": {
    "colab": {},
    "colab_type": "code",
    "id": "Wzbzil3EquvD"
   },
   "outputs": [],
   "source": [
    "import tensorflow as tf\n",
    "import numpy as np\n",
    "\n",
    "tf.enable_eager_execution()\n",
    "tfe = tf.contrib.eager\n",
    "L = tf.keras.layers"
   ]
  },
  {
   "cell_type": "code",
   "execution_count": 134,
   "metadata": {
    "colab": {
     "base_uri": "https://localhost:8080/",
     "height": 161
    },
    "colab_type": "code",
    "id": "_b3wl5DyrGbv",
    "outputId": "fa8b9ed5-5caf-46bf-8cb6-1941aaa7e67d"
   },
   "outputs": [
    {
     "name": "stdout",
     "output_type": "stream",
     "text": [
      "training_data\n",
      " (50000, 32, 32, 3)\n",
      "test_data\n",
      " (10000, 32, 32, 3)\n",
      "training_label\n",
      " (50000, 1)\n",
      "test_label\n",
      " (10000, 1)\n"
     ]
    }
   ],
   "source": [
    "# Hyper parameters\n",
    "num_epochs = 10\n",
    "num_classes = 10\n",
    "batch_size = 32\n",
    "learning_rate = 0.001\n",
    "\n",
    "(x_train, y_train), (x_test, y_test) = tfk.datasets.cifar10.load_data()\n",
    "\n",
    "print(\"training_data\\n\", x_train.shape)\n",
    "print(\"test_data\\n\", x_test.shape)\n",
    "print(\"training_label\\n\", y_train.shape)\n",
    "print(\"test_label\\n\", y_test.shape)"
   ]
  },
  {
   "cell_type": "code",
   "execution_count": 135,
   "metadata": {
    "colab": {
     "base_uri": "https://localhost:8080/",
     "height": 53
    },
    "colab_type": "code",
    "id": "zQ9dPufBDY_e",
    "outputId": "31cbe65f-3882-46cd-e5c0-c74682b8b065"
   },
   "outputs": [
    {
     "name": "stdout",
     "output_type": "stream",
     "text": [
      "(50000, 3, 32, 32)\n",
      "(50000, 10)\n"
     ]
    }
   ],
   "source": [
    "x_train_ = tf.transpose(tf.convert_to_tensor(x_train, dtype=tf.float32), \n",
    "                        [0, 3, 1, 2])\n",
    "y_train_ = tf.reshape(tf.one_hot(y_train, 10), (-1, 10))\n",
    "\n",
    "\n",
    "print(x_train_.shape)\n",
    "print(y_train_.shape)"
   ]
  },
  {
   "cell_type": "code",
   "execution_count": 136,
   "metadata": {
    "colab": {
     "base_uri": "https://localhost:8080/",
     "height": 35
    },
    "colab_type": "code",
    "id": "EIFr75qmBuM-",
    "outputId": "af256cc5-31f2-4062-a75d-8a088bdbd6b8"
   },
   "outputs": [
    {
     "name": "stdout",
     "output_type": "stream",
     "text": [
      "<RepeatDataset shapes: ((?, 3, 32, 32), (?, 10)), types: (tf.float32, tf.float32)>\n"
     ]
    }
   ],
   "source": [
    "train_dataset = (\n",
    "    tf.data.Dataset.from_tensor_slices((x_train, y_train))\n",
    "    .batch(batch_size)\n",
    "    .shuffle(10000)\n",
    ")\n",
    "\n",
    "train_dataset = (\n",
    "    train_dataset.map(lambda x, y: \n",
    "                      (tf.div(tf.cast(\n",
    "                          tf.transpose(x, [0, 3, 1, 2]), tf.float32), 255.0), \n",
    "                       tf.reshape(tf.one_hot(y, 10), (-1, 10))))\n",
    ")\n",
    "\n",
    "train_dataset = train_dataset.repeat()\n",
    "print(train_dataset)"
   ]
  },
  {
   "cell_type": "code",
   "execution_count": 137,
   "metadata": {
    "colab": {
     "base_uri": "https://localhost:8080/",
     "height": 35
    },
    "colab_type": "code",
    "id": "jNdtaRRB7d5O",
    "outputId": "6016ab3e-f921-4c62-abff-842253f3679e"
   },
   "outputs": [
    {
     "name": "stdout",
     "output_type": "stream",
     "text": [
      "<RepeatDataset shapes: ((?, 3, 32, 32), (?, 10)), types: (tf.float32, tf.float32)>\n"
     ]
    }
   ],
   "source": [
    "test_dataset = (\n",
    "    tf.data.Dataset.from_tensor_slices((x_test, y_test))\n",
    "    .batch(1000)\n",
    "    .shuffle(10000)\n",
    ")\n",
    "test_dataset = (\n",
    "    test_dataset.map(lambda x, y: \n",
    "                      (tf.div(tf.cast(\n",
    "                          tf.transpose(x, [0, 3, 1, 2]), tf.float32), 255.0), \n",
    "                       tf.reshape(tf.one_hot(y, 10), (-1, 10))))\n",
    ")\n",
    "test_dataset = test_dataset.repeat()\n",
    "print(test_dataset)"
   ]
  },
  {
   "cell_type": "code",
   "execution_count": 0,
   "metadata": {
    "colab": {},
    "colab_type": "code",
    "id": "P5PNiSQWrfAF"
   },
   "outputs": [],
   "source": []
  },
  {
   "cell_type": "code",
   "execution_count": 0,
   "metadata": {
    "colab": {},
    "colab_type": "code",
    "id": "S2mYcv4D2UGO"
   },
   "outputs": [],
   "source": [
    "class Cifar10Model(tf.keras.Model):\n",
    "    def __init__(self):\n",
    "        super(Cifar10Model, self).__init__(name='cifar_cnn')\n",
    "        \n",
    "        self.conv_block1 = tf.keras.Sequential([\n",
    "            L.Conv2D(\n",
    "                8, \n",
    "                5,\n",
    "                padding='same',\n",
    "                activation=tf.nn.relu,\n",
    "                kernel_initializer=tf.initializers.variance_scaling,\n",
    "                kernel_regularizer=tf.keras.regularizers.l2(l=0.001),\n",
    "                data_format=\"channels_first\"\n",
    "            ),\n",
    "            L.MaxPooling2D(\n",
    "                (3, 3), \n",
    "                (2, 2), \n",
    "                padding='same',\n",
    "                data_format=\"channels_first\"\n",
    "            ),\n",
    "            L.BatchNormalization(axis=1),\n",
    "        ])\n",
    "\n",
    "        self.conv_block2 = tf.keras.Sequential([\n",
    "            L.Conv2D(\n",
    "                16, \n",
    "                5,\n",
    "                padding='same',\n",
    "                activation=tf.nn.relu,\n",
    "                kernel_initializer=tf.initializers.variance_scaling,\n",
    "                kernel_regularizer=tf.keras.regularizers.l2(l=0.001),\n",
    "                data_format=\"channels_first\"\n",
    "            ),\n",
    "            L.MaxPooling2D(\n",
    "                (3, 3), \n",
    "                (2, 2), \n",
    "                padding='same',\n",
    "                data_format=\"channels_first\"\n",
    "            ),\n",
    "            L.BatchNormalization(axis=1),\n",
    "        ])\n",
    "        \n",
    "        self.conv_block3 = tf.keras.Sequential([\n",
    "            L.Conv2D(\n",
    "                32, \n",
    "                5,\n",
    "                padding='same',\n",
    "                activation=tf.nn.relu,\n",
    "                kernel_initializer=tf.initializers.variance_scaling,\n",
    "                kernel_regularizer=tf.keras.regularizers.l2(l=0.001),\n",
    "                data_format=\"channels_first\"\n",
    "            ),\n",
    "            L.MaxPooling2D(\n",
    "                (3, 3), \n",
    "                (2, 2), \n",
    "                padding='same',\n",
    "                data_format=\"channels_first\"\n",
    "            ),\n",
    "            L.BatchNormalization(axis=1),\n",
    "        ])\n",
    "        \n",
    "        self.flatten = L.Flatten()\n",
    "        self.fc1 = L.Dense(\n",
    "            256, \n",
    "            activation=tf.nn.relu,\n",
    "            kernel_initializer=tf.initializers.variance_scaling,\n",
    "            kernel_regularizer=tf.keras.regularizers.l2(l=0.001))\n",
    "        self.dropout = L.Dropout(0.8)\n",
    "        self.fc2 = L.Dense(10)\n",
    "        self.softmax = L.Softmax()\n",
    "\n",
    "    def call(self, x):\n",
    "        x = self.conv_block1(x)\n",
    "        x = self.conv_block2(x)\n",
    "        x = self.conv_block3(x)\n",
    "        x = self.flatten(x)\n",
    "        x = self.dropout(self.fc1(x))\n",
    "        x = self.fc2(x)\n",
    "        return self.softmax(x)"
   ]
  },
  {
   "cell_type": "code",
   "execution_count": 140,
   "metadata": {
    "colab": {
     "base_uri": "https://localhost:8080/",
     "height": 35
    },
    "colab_type": "code",
    "id": "6VyzP7OTtDGf",
    "outputId": "d9f4d85c-ffe5-42a7-ab20-110876907e38"
   },
   "outputs": [
    {
     "data": {
      "text/plain": [
       "TensorShape([Dimension(100), Dimension(10)])"
      ]
     },
     "execution_count": 140,
     "metadata": {
      "tags": []
     },
     "output_type": "execute_result"
    }
   ],
   "source": [
    "model = Cifar10Model()\n",
    "model.compile(optimizer=tf.train.AdamOptimizer(learning_rate),\n",
    "              loss='categorical_crossentropy',\n",
    "              metrics=['accuracy'])\n",
    "y_init = model(x_train_[:100])\n",
    "y_init.shape"
   ]
  },
  {
   "cell_type": "code",
   "execution_count": 141,
   "metadata": {
    "colab": {
     "base_uri": "https://localhost:8080/",
     "height": 431
    },
    "colab_type": "code",
    "id": "7zrxUvWPu6PK",
    "outputId": "80d0b9b4-2b46-4d55-cc90-331367db911e"
   },
   "outputs": [
    {
     "name": "stdout",
     "output_type": "stream",
     "text": [
      "_________________________________________________________________\n",
      "Layer (type)                 Output Shape              Param #   \n",
      "=================================================================\n",
      "sequential_31 (Sequential)   multiple                  640       \n",
      "_________________________________________________________________\n",
      "sequential_32 (Sequential)   multiple                  3280      \n",
      "_________________________________________________________________\n",
      "sequential_33 (Sequential)   multiple                  12960     \n",
      "_________________________________________________________________\n",
      "flatten_14 (Flatten)         multiple                  0         \n",
      "_________________________________________________________________\n",
      "dense_24 (Dense)             multiple                  131328    \n",
      "_________________________________________________________________\n",
      "dropout_10 (Dropout)         multiple                  0         \n",
      "_________________________________________________________________\n",
      "dense_25 (Dense)             multiple                  2570      \n",
      "_________________________________________________________________\n",
      "softmax_10 (Softmax)         multiple                  0         \n",
      "=================================================================\n",
      "Total params: 150,778\n",
      "Trainable params: 150,666\n",
      "Non-trainable params: 112\n",
      "_________________________________________________________________\n"
     ]
    }
   ],
   "source": [
    "model.summary()"
   ]
  },
  {
   "cell_type": "code",
   "execution_count": 142,
   "metadata": {
    "colab": {
     "base_uri": "https://localhost:8080/",
     "height": 395
    },
    "colab_type": "code",
    "id": "8m2XzQv3G-na",
    "outputId": "5b822073-7f3c-43f7-e77b-614da749d074"
   },
   "outputs": [
    {
     "name": "stdout",
     "output_type": "stream",
     "text": [
      "Epoch 1/10\n",
      "1562/1562 [==============================] - 94s 60ms/step - loss: 2.0714 - acc: 0.3507\n",
      "Epoch 2/10\n",
      "1562/1562 [==============================] - 93s 59ms/step - loss: 1.6550 - acc: 0.4786\n",
      "Epoch 3/10\n",
      "1562/1562 [==============================] - 99s 64ms/step - loss: 1.4775 - acc: 0.5425\n",
      "Epoch 4/10\n",
      "1562/1562 [==============================] - 98s 63ms/step - loss: 1.3834 - acc: 0.5780\n",
      "Epoch 5/10\n",
      "1562/1562 [==============================] - 94s 60ms/step - loss: 1.3222 - acc: 0.6098\n",
      "Epoch 6/10\n",
      "1562/1562 [==============================] - 94s 60ms/step - loss: 1.2834 - acc: 0.6273\n",
      "Epoch 7/10\n",
      "1562/1562 [==============================] - 95s 61ms/step - loss: 1.2596 - acc: 0.6392\n",
      "Epoch 8/10\n",
      "1562/1562 [==============================] - 95s 61ms/step - loss: 1.2430 - acc: 0.6477\n",
      "Epoch 9/10\n",
      "1562/1562 [==============================] - 92s 59ms/step - loss: 1.2210 - acc: 0.6587\n",
      "Epoch 10/10\n",
      "1562/1562 [==============================] - 95s 61ms/step - loss: 1.2108 - acc: 0.6642\n"
     ]
    },
    {
     "data": {
      "text/plain": [
       "<tensorflow.python.keras.callbacks.History at 0x7f0bf2bf6e80>"
      ]
     },
     "execution_count": 142,
     "metadata": {
      "tags": []
     },
     "output_type": "execute_result"
    }
   ],
   "source": [
    "steps_per_epoch = int(x_train.shape[0]/batch_size)\n",
    "\n",
    "model.fit(\n",
    "    train_dataset,\n",
    "    batch_size=batch_size,\n",
    "    epochs=10,\n",
    "    steps_per_epoch=steps_per_epoch,\n",
    "    verbose=1,\n",
    "    shuffle=True,\n",
    "    workers=5\n",
    ")"
   ]
  },
  {
   "cell_type": "code",
   "execution_count": 144,
   "metadata": {
    "colab": {
     "base_uri": "https://localhost:8080/",
     "height": 89
    },
    "colab_type": "code",
    "id": "dnuY_yuOLrO-",
    "outputId": "ca7a1bae-9fb6-4a00-d567-1efca72a7d93"
   },
   "outputs": [
    {
     "name": "stdout",
     "output_type": "stream",
     "text": [
      "1562/1562 [==============================] - 36s 23ms/step\n",
      "train_acc: 0.720\n",
      "10/10 [==============================] - 1s 136ms/step\n",
      "test_acc: 0.688\n"
     ]
    }
   ],
   "source": [
    "train_loss, train_acc = model.evaluate(train_dataset, \n",
    "                                       steps=int(y_train.shape[0]/batch_size))\n",
    "print(\"train_acc: {:0.3f}\".format(train_acc))\n",
    "\n",
    "test_loss, test_acc = model.evaluate(test_dataset, \n",
    "                                     steps=int(y_test.shape[0]/1000))\n",
    "print(\"test_acc: {:0.3f}\".format(test_acc))"
   ]
  },
  {
   "cell_type": "code",
   "execution_count": 0,
   "metadata": {
    "colab": {},
    "colab_type": "code",
    "id": "Rzz2FNtOqzdC"
   },
   "outputs": [],
   "source": []
  }
 ],
 "metadata": {
  "accelerator": "GPU",
  "colab": {
   "collapsed_sections": [],
   "include_colab_link": true,
   "name": "Convolutinal_Neural_Network_using_KerasAPI",
   "provenance": [],
   "version": "0.3.2"
  },
  "kernelspec": {
   "display_name": "Python 3",
   "language": "python",
   "name": "python3"
  },
  "language_info": {
   "codemirror_mode": {
    "name": "ipython",
    "version": 3
   },
   "file_extension": ".py",
   "mimetype": "text/x-python",
   "name": "python",
   "nbconvert_exporter": "python",
   "pygments_lexer": "ipython3",
   "version": "3.5.3"
  }
 },
 "nbformat": 4,
 "nbformat_minor": 1
}
