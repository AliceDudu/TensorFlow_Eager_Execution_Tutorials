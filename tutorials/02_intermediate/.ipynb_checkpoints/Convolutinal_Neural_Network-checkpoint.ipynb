{
 "cells": [
  {
   "cell_type": "markdown",
   "metadata": {
    "colab_type": "text",
    "id": "view-in-github"
   },
   "source": [
    "<a href=\"https://colab.research.google.com/github/hellocybernetics/TensorFlow_Eager_Execution_Tutorials/blob/master/tutorials/02_intermediate/Convolutinal_Neural_Network.ipynb\" target=\"_parent\"><img src=\"https://colab.research.google.com/assets/colab-badge.svg\" alt=\"Open In Colab\"/></a>"
   ]
  },
  {
   "cell_type": "code",
   "execution_count": 0,
   "metadata": {
    "colab": {},
    "colab_type": "code",
    "id": "Wzbzil3EquvD"
   },
   "outputs": [],
   "source": [
    "import tensorflow as tf\n",
    "import numpy as np\n",
    "\n",
    "tf.enable_eager_execution()\n",
    "tfe = tf.contrib.eager\n",
    "L = tf.keras.layers"
   ]
  },
  {
   "cell_type": "code",
   "execution_count": 10,
   "metadata": {
    "colab": {
     "base_uri": "https://localhost:8080/",
     "height": 161
    },
    "colab_type": "code",
    "id": "_b3wl5DyrGbv",
    "outputId": "d220cab9-7499-4529-d376-c9f521fe3f02"
   },
   "outputs": [
    {
     "name": "stdout",
     "output_type": "stream",
     "text": [
      "training_data\n",
      " (50000, 32, 32, 3)\n",
      "test_data\n",
      " (10000, 32, 32, 3)\n",
      "training_label\n",
      " (50000, 1)\n",
      "test_label\n",
      " (10000, 1)\n"
     ]
    }
   ],
   "source": [
    "# Hyper parameters\n",
    "num_epochs = 10\n",
    "num_classes = 10\n",
    "batch_size = 1024\n",
    "learning_rate = 0.001\n",
    "\n",
    "(x_train, y_train), (x_test, y_test) = tfk.datasets.cifar10.load_data()\n",
    "\n",
    "print(\"training_data\\n\", x_train.shape)\n",
    "print(\"test_data\\n\", x_test.shape)\n",
    "print(\"training_label\\n\", y_train.shape)\n",
    "print(\"test_label\\n\", y_test.shape)"
   ]
  },
  {
   "cell_type": "code",
   "execution_count": 19,
   "metadata": {
    "colab": {
     "base_uri": "https://localhost:8080/",
     "height": 53
    },
    "colab_type": "code",
    "id": "zQ9dPufBDY_e",
    "outputId": "aefb4022-f220-4bec-a09e-2eadf72d110e"
   },
   "outputs": [
    {
     "name": "stdout",
     "output_type": "stream",
     "text": [
      "(50000, 3, 32, 32)\n",
      "(50000, 10)\n"
     ]
    }
   ],
   "source": [
    "x_train_ = tf.transpose(tf.convert_to_tensor(x_train, dtype=tf.float32), \n",
    "                        [0, 3, 1, 2])\n",
    "y_train_ = tf.reshape(tf.one_hot(y_train, 10), (-1, 10))\n",
    "\n",
    "print(x_train_.shape)\n",
    "print(y_train_.shape)"
   ]
  },
  {
   "cell_type": "code",
   "execution_count": 20,
   "metadata": {
    "colab": {
     "base_uri": "https://localhost:8080/",
     "height": 35
    },
    "colab_type": "code",
    "id": "EIFr75qmBuM-",
    "outputId": "79a90c99-eb94-4118-a0de-e527a429441b"
   },
   "outputs": [
    {
     "name": "stdout",
     "output_type": "stream",
     "text": [
      "<MapDataset shapes: ((?, 3, 32, 32), (?, 10)), types: (tf.float32, tf.float32)>\n"
     ]
    }
   ],
   "source": [
    "train_dataset = (\n",
    "    tf.data.Dataset.from_tensor_slices((x_train, y_train))\n",
    "    .batch(batch_size)\n",
    "    .shuffle(10000)\n",
    ")\n",
    "\n",
    "train_dataset = (\n",
    "    train_dataset.map(lambda x, y: \n",
    "                      (tf.div(tf.cast(\n",
    "                          tf.transpose(x, [0, 3, 1, 2]), tf.float32), 255.0), \n",
    "                       tf.reshape(tf.one_hot(y, 10), (-1, 10))))\n",
    ")\n",
    "\n",
    "print(train_dataset)"
   ]
  },
  {
   "cell_type": "code",
   "execution_count": 21,
   "metadata": {
    "colab": {
     "base_uri": "https://localhost:8080/",
     "height": 35
    },
    "colab_type": "code",
    "id": "jNdtaRRB7d5O",
    "outputId": "1d3eecd2-65a7-4c63-e947-eb476b0dcc29"
   },
   "outputs": [
    {
     "name": "stdout",
     "output_type": "stream",
     "text": [
      "<MapDataset shapes: ((?, 3, 32, 32), (?, 10)), types: (tf.float32, tf.float32)>\n"
     ]
    }
   ],
   "source": [
    "test_dataset = (\n",
    "    tf.data.Dataset.from_tensor_slices((x_test, y_test))\n",
    "    .batch(1000)\n",
    "    .shuffle(10000)\n",
    ")\n",
    "test_dataset = (\n",
    "    test_dataset.map(lambda x, y: \n",
    "                      (tf.div(tf.cast(\n",
    "                          tf.transpose(x, [0, 3, 1, 2]), tf.float32), 255.0), \n",
    "                       tf.reshape(tf.one_hot(y, 10), (-1, 10))))\n",
    ")\n",
    "print(test_dataset)"
   ]
  },
  {
   "cell_type": "code",
   "execution_count": 0,
   "metadata": {
    "colab": {},
    "colab_type": "code",
    "id": "P5PNiSQWrfAF"
   },
   "outputs": [],
   "source": []
  },
  {
   "cell_type": "code",
   "execution_count": 0,
   "metadata": {
    "colab": {},
    "colab_type": "code",
    "id": "S2mYcv4D2UGO"
   },
   "outputs": [],
   "source": [
    "class Cifar10Model(L.Model):\n",
    "    def __init__(self):\n",
    "        super(Cifar10Model, self).__init__(name='cifar_cnn')\n",
    "        \n",
    "        self.conv_block1 = L.Sequential([\n",
    "            L.layers.Conv2D(\n",
    "                8, \n",
    "                5,\n",
    "                padding='same',\n",
    "                activation=tf.nn.relu,\n",
    "                kernel_initializer=tf.initializers.variance_scaling,\n",
    "                kernel_regularizer=L.regularizers.l2(l=0.001),\n",
    "                data_format=\"channels_first\"\n",
    "            ),\n",
    "            L.layers.MaxPooling2D(\n",
    "                (3, 3), \n",
    "                (2, 2), \n",
    "                padding='same',\n",
    "                data_format=\"channels_first\"\n",
    "            ),\n",
    "            L.layers.BatchNormalization(axis=1),\n",
    "        ])\n",
    "\n",
    "        self.conv_block2 = L.Sequential([\n",
    "            L.layers.Conv2D(\n",
    "                16, \n",
    "                5,\n",
    "                padding='same',\n",
    "                activation=tf.nn.relu,\n",
    "                kernel_initializer=tf.initializers.variance_scaling,\n",
    "                kernel_regularizer=L.regularizers.l2(l=0.001),\n",
    "                data_format=\"channels_first\"\n",
    "            ),\n",
    "            L.layers.MaxPooling2D(\n",
    "                (3, 3), \n",
    "                (2, 2), \n",
    "                padding='same',\n",
    "                data_format=\"channels_first\"\n",
    "            ),\n",
    "            L.layers.BatchNormalization(axis=1),\n",
    "        ])\n",
    "        \n",
    "        self.conv_block3 = L.Sequential([\n",
    "            L.layers.Conv2D(\n",
    "                32, \n",
    "                5,\n",
    "                padding='same',\n",
    "                activation=tf.nn.relu,\n",
    "                kernel_initializer=tf.initializers.variance_scaling,\n",
    "                kernel_regularizer=L.regularizers.l2(l=0.001),\n",
    "                data_format=\"channels_first\"\n",
    "            ),\n",
    "            L.layers.MaxPooling2D(\n",
    "                (3, 3), \n",
    "                (2, 2), \n",
    "                padding='same',\n",
    "                data_format=\"channels_first\"\n",
    "            ),\n",
    "            L.layers.BatchNormalization(axis=1),\n",
    "        ])\n",
    "        \n",
    "        self.flatten = L.layers.Flatten()\n",
    "        self.fc1 = L.layers.Dense(\n",
    "            256, \n",
    "            activation=tf.nn.relu,\n",
    "            kernel_initializer=tf.initializers.variance_scaling,\n",
    "            kernel_regularizer=L.regularizers.l2(l=0.001))\n",
    "        self.dropout = L.layers.Dropout(0.8)\n",
    "        self.fc2 = L.layers.Dense(10)\n",
    "        self.softmax = L.layers.Softmax()\n",
    "\n",
    "    def call(self, x):\n",
    "        x = self.conv_block1(x)\n",
    "        x = self.conv_block2(x)\n",
    "        x = self.conv_block3(x)\n",
    "        x = self.flatten(x)\n",
    "        x = self.dropout(self.fc1(x))\n",
    "        x = self.fc2(x)\n",
    "        return self.softmax(x)"
   ]
  },
  {
   "cell_type": "code",
   "execution_count": 0,
   "metadata": {
    "colab": {},
    "colab_type": "code",
    "id": "6VyzP7OTtDGf"
   },
   "outputs": [],
   "source": [
    "model = Cifar10Model()\n",
    "\n",
    "def loss_fn(model, x, y):\n",
    "    y_pre = model(x)\n",
    "    return tf.keras.losses.categorical_crossentropy(y, y_pre)\n",
    "\n",
    "def accuracy(model, x, y):\n",
    "    y_pre = model(x)\n",
    "    return tf.keras.metrics.categorical_accuracy(y, y_pre)\n",
    "\n",
    "optimizer = tf.train.AdamOptimizer(learning_rate)"
   ]
  },
  {
   "cell_type": "code",
   "execution_count": 45,
   "metadata": {
    "colab": {
     "base_uri": "https://localhost:8080/",
     "height": 557
    },
    "colab_type": "code",
    "id": "7zrxUvWPu6PK",
    "outputId": "e3b65c6e-5951-4ca6-9a0e-05125c65e466"
   },
   "outputs": [
    {
     "name": "stdout",
     "output_type": "stream",
     "text": [
      "-----epoch 1 -----\n",
      "loss:  1.9387904575892858\n",
      "acc:  0.29365350762192083\n",
      "-----epoch 2 -----\n",
      "loss:  1.5621210215043049\n",
      "acc:  0.43229566301618305\n",
      "-----epoch 3 -----\n",
      "loss:  1.4413411665935905\n",
      "acc:  0.48328862871442524\n",
      "-----epoch 4 -----\n",
      "loss:  1.3570086420798788\n",
      "acc:  0.5132680231211136\n",
      "-----epoch 5 -----\n",
      "loss:  1.300194720832669\n",
      "acc:  0.5373571746203364\n",
      "-----epoch 6 -----\n",
      "loss:  1.2398374907824459\n",
      "acc:  0.5596067856769172\n",
      "-----epoch 7 -----\n",
      "loss:  1.197290459457709\n",
      "acc:  0.5755784949477838\n",
      "-----epoch 8 -----\n",
      "loss:  1.154668379803093\n",
      "acc:  0.5920901785091478\n",
      "-----epoch 9 -----\n",
      "loss:  1.130118311667929\n",
      "acc:  0.600405790367905\n",
      "-----epoch 10 -----\n",
      "loss:  1.1001540981993383\n",
      "acc:  0.6116759631098533\n"
     ]
    }
   ],
   "source": [
    "for j in range(num_epochs):\n",
    "    \n",
    "    running_loss = 0\n",
    "    running_acc = 0\n",
    "\n",
    "    for i, (x_, y_) in enumerate(train_dataset):\n",
    "        \n",
    "        with tf.device(\"/gpu:0\"):\n",
    "            with tf.GradientTape() as tape:\n",
    "                loss = loss_fn(model, x_, y_)\n",
    "            acc = accuracy(model, x_, y_)\n",
    "            grads = tape.gradient(loss, model.variables)\n",
    "            optimizer.apply_gradients(zip(grads, model.variables))\n",
    "            running_loss += tf.reduce_mean(loss)\n",
    "            running_acc += tf.reduce_mean(acc)\n",
    "    \n",
    "    print(\"-----epoch {} -----\".format(j + 1))\n",
    "    print(\"loss: \", running_loss.numpy()/(i + 1))\n",
    "    print(\"acc: \", running_acc.numpy()/(i + 1))    "
   ]
  },
  {
   "cell_type": "code",
   "execution_count": 47,
   "metadata": {
    "colab": {
     "base_uri": "https://localhost:8080/",
     "height": 35
    },
    "colab_type": "code",
    "id": "8m2XzQv3G-na",
    "outputId": "ebdcd658-7392-4c43-f688-be07ea468c1d"
   },
   "outputs": [
    {
     "name": "stdout",
     "output_type": "stream",
     "text": [
      "test accuracy 0.605\n"
     ]
    }
   ],
   "source": [
    "test_accuracy = 0\n",
    "for i, (x_, y_) in enumerate(test_dataset):\n",
    "    test_accuracy += tf.reduce_mean(accuracy(model, x_, y_))\n",
    "test_accuracy /= i + 1\n",
    "\n",
    "print(\"test accuracy {:0.3f}\".format(test_accuracy.numpy()))"
   ]
  },
  {
   "cell_type": "code",
   "execution_count": 0,
   "metadata": {
    "colab": {},
    "colab_type": "code",
    "id": "dnuY_yuOLrO-"
   },
   "outputs": [],
   "source": []
  },
  {
   "cell_type": "code",
   "execution_count": 0,
   "metadata": {
    "colab": {},
    "colab_type": "code",
    "id": "Rzz2FNtOqzdC"
   },
   "outputs": [],
   "source": []
  }
 ],
 "metadata": {
  "accelerator": "GPU",
  "colab": {
   "collapsed_sections": [],
   "include_colab_link": true,
   "name": "Convolutinal_Neural_Network",
   "provenance": [],
   "version": "0.3.2"
  },
  "kernelspec": {
   "display_name": "Python 3",
   "language": "python",
   "name": "python3"
  },
  "language_info": {
   "codemirror_mode": {
    "name": "ipython",
    "version": 3
   },
   "file_extension": ".py",
   "mimetype": "text/x-python",
   "name": "python",
   "nbconvert_exporter": "python",
   "pygments_lexer": "ipython3",
   "version": "3.5.3"
  }
 },
 "nbformat": 4,
 "nbformat_minor": 1
}
