{
  "nbformat": 4,
  "nbformat_minor": 0,
  "metadata": {
    "colab": {
      "name": "residual_network.ipynb",
      "version": "0.3.2",
      "provenance": [],
      "collapsed_sections": [],
      "include_colab_link": true
    },
    "kernelspec": {
      "display_name": "Python 3",
      "language": "python",
      "name": "python3"
    },
    "accelerator": "GPU"
  },
  "cells": [
    {
      "cell_type": "markdown",
      "metadata": {
        "id": "view-in-github",
        "colab_type": "text"
      },
      "source": [
        "<a href=\"https://colab.research.google.com/github/hellocybernetics/TensorFlow_Eager_Execution_Tutorials/blob/master/tutorials/02_intermediate/residual_network.ipynb\" target=\"_parent\"><img src=\"https://colab.research.google.com/assets/colab-badge.svg\" alt=\"Open In Colab\"/></a>"
      ]
    },
    {
      "metadata": {
        "colab_type": "code",
        "id": "W-2MApJumG9i",
        "colab": {}
      },
      "cell_type": "code",
      "source": [
        "import numpy as np\n",
        "import tensorflow as tf\n",
        "import matplotlib.pyplot as plt\n",
        "%matplotlib inline"
      ],
      "execution_count": 0,
      "outputs": []
    },
    {
      "metadata": {
        "colab_type": "code",
        "id": "YY0lj_PWmNKz",
        "colab": {}
      },
      "cell_type": "code",
      "source": [
        "L = tf.keras.layers\n",
        "tfe = tf.contrib.eager\n",
        "\n",
        "tf.enable_eager_execution()"
      ],
      "execution_count": 0,
      "outputs": []
    },
    {
      "metadata": {
        "colab_type": "code",
        "id": "Az2CgxXFmilT",
        "outputId": "fb8c42ee-8a1d-4152-b71d-fc6f9bf64ff2",
        "colab": {
          "base_uri": "https://localhost:8080/",
          "height": 197
        }
      },
      "cell_type": "code",
      "source": [
        "# Hyper parameters\n",
        "num_epochs = 10\n",
        "num_classes = 10\n",
        "batch_size = 256\n",
        "learning_rate = 0.001\n",
        "\n",
        "(x_train, y_train), (x_test, y_test) = tf.keras.datasets.cifar10.load_data()\n",
        "\n",
        "print(\"training_data\\n\", x_train.shape)\n",
        "print(\"test_data\\n\", x_test.shape)\n",
        "print(\"training_label\\n\", y_train.shape)\n",
        "print(\"test_label\\n\", y_test.shape)"
      ],
      "execution_count": 4,
      "outputs": [
        {
          "output_type": "stream",
          "text": [
            "Downloading data from https://www.cs.toronto.edu/~kriz/cifar-10-python.tar.gz\n",
            "170500096/170498071 [==============================] - 7s 0us/step\n",
            "training_data\n",
            " (50000, 32, 32, 3)\n",
            "test_data\n",
            " (10000, 32, 32, 3)\n",
            "training_label\n",
            " (50000, 1)\n",
            "test_label\n",
            " (10000, 1)\n"
          ],
          "name": "stdout"
        }
      ]
    },
    {
      "metadata": {
        "colab_type": "code",
        "id": "U6MRu-QDok4N",
        "outputId": "65e6fafd-3f61-4f89-b901-1d789dcd08a2",
        "colab": {
          "base_uri": "https://localhost:8080/",
          "height": 53
        }
      },
      "cell_type": "code",
      "source": [
        "x_train_ = tf.convert_to_tensor(x_train, dtype=tf.float32)\n",
        "y_train_ = tf.reshape(tf.one_hot(y_train, 10), (-1, 10))\n",
        "\n",
        "\n",
        "print(x_train_.shape)\n",
        "print(y_train_.shape)"
      ],
      "execution_count": 5,
      "outputs": [
        {
          "output_type": "stream",
          "text": [
            "(50000, 32, 32, 3)\n",
            "(50000, 10)\n"
          ],
          "name": "stdout"
        }
      ]
    },
    {
      "metadata": {
        "colab_type": "code",
        "id": "6f15_qjHtZl8",
        "outputId": "bcacc346-748b-4668-fa28-66683ea36d82",
        "colab": {
          "base_uri": "https://localhost:8080/",
          "height": 35
        }
      },
      "cell_type": "code",
      "source": [
        "train_dataset = (\n",
        "    tf.data.Dataset.from_tensor_slices((x_train, y_train))\n",
        "    .batch(batch_size)\n",
        "    .shuffle(10000)\n",
        ")\n",
        "\n",
        "train_dataset = (\n",
        "    train_dataset.map(lambda x, y: \n",
        "                      (tf.div(tf.cast(x, tf.float32), 255.0), \n",
        "                       tf.reshape(tf.one_hot(y, 10), (-1, 10))))\n",
        ")\n",
        "\n",
        "print(train_dataset)"
      ],
      "execution_count": 6,
      "outputs": [
        {
          "output_type": "stream",
          "text": [
            "<MapDataset shapes: ((?, 32, 32, 3), (?, 10)), types: (tf.float32, tf.float32)>\n"
          ],
          "name": "stdout"
        }
      ]
    },
    {
      "metadata": {
        "colab_type": "code",
        "id": "hL_0Ca4mvJ1m",
        "outputId": "389083a5-d3e9-43f6-e7f1-58c2a51acfcb",
        "colab": {
          "base_uri": "https://localhost:8080/",
          "height": 35
        }
      },
      "cell_type": "code",
      "source": [
        "test_dataset = (\n",
        "    tf.data.Dataset.from_tensor_slices((x_test, y_test))\n",
        "    .batch(1000)\n",
        "    .shuffle(10000)\n",
        ")\n",
        "test_dataset = (\n",
        "    test_dataset.map(lambda x, y: \n",
        "                      (tf.div(tf.cast(x, tf.float32), 255.0), \n",
        "                       tf.reshape(tf.one_hot(y, 10), (-1, 10))))\n",
        ")\n",
        "\n",
        "print(test_dataset)"
      ],
      "execution_count": 7,
      "outputs": [
        {
          "output_type": "stream",
          "text": [
            "<MapDataset shapes: ((?, 32, 32, 3), (?, 10)), types: (tf.float32, tf.float32)>\n"
          ],
          "name": "stdout"
        }
      ]
    },
    {
      "metadata": {
        "colab_type": "code",
        "id": "jUvyjTFXm_0d",
        "colab": {}
      },
      "cell_type": "code",
      "source": [
        "def conv3x3(out_channels, strides=1):\n",
        "    return L.Conv2D(out_channels, kernel_size=3, \n",
        "                    strides=strides, padding='same', use_bias=False)"
      ],
      "execution_count": 0,
      "outputs": []
    },
    {
      "metadata": {
        "colab_type": "text",
        "id": "LoUv_nFf_jvM"
      },
      "cell_type": "markdown",
      "source": [
        "### training flag\n",
        "`call` method of `L.BatchNormalization` need to have `traininig` flag because this method have different behavior between traning and evaluation.  "
      ]
    },
    {
      "metadata": {
        "colab_type": "code",
        "id": "ppETst-0nQtu",
        "colab": {}
      },
      "cell_type": "code",
      "source": [
        "# Residual block\n",
        "class ResidualBlock(tf.keras.Model):\n",
        "    def __init__(self, out_channels, strides=1, downsample=None):\n",
        "        super(ResidualBlock, self).__init__(name='ResidualBlock')\n",
        "        self.conv1 = conv3x3(out_channels, strides)\n",
        "        self.bn1 = L.BatchNormalization(axis=-1)\n",
        "        self.relu = L.ReLU()\n",
        "        self.conv2 = conv3x3(out_channels)\n",
        "        self.bn2 = L.BatchNormalization(axis=-1)\n",
        "        self.downsample = downsample\n",
        "    \n",
        "\n",
        "    def call(self, x, training=False):\n",
        "        residual = x\n",
        "        out = self.conv1(x)\n",
        "        out = self.bn1(out, training=training)\n",
        "        out = self.relu(out)\n",
        "        out = self.conv2(out)\n",
        "        out = self.bn2(out, training=training)\n",
        "        if self.downsample:\n",
        "            residual = self.downsample(x)\n",
        "        out += residual\n",
        "        out = self.relu(out)\n",
        "        return out"
      ],
      "execution_count": 0,
      "outputs": []
    },
    {
      "metadata": {
        "colab_type": "text",
        "id": "ME6MBqumAR35"
      },
      "cell_type": "markdown",
      "source": [
        "### tf.keras.Sequential\n",
        "`call` method of `tf.keras.Sequential` have `training` flag. This flag affects all layers included by the `tf.keras.Sequential` instance."
      ]
    },
    {
      "metadata": {
        "colab_type": "code",
        "id": "c4dcZi3boLkG",
        "colab": {}
      },
      "cell_type": "code",
      "source": [
        "class ResNet(tf.keras.Model):\n",
        "    def __init__(self, block, layers, num_classes=10):\n",
        "        super(ResNet, self).__init__(name='ResNet')\n",
        "        self.in_channels = 16\n",
        "        self.conv = conv3x3(16)\n",
        "        self.bn = L.BatchNormalization(axis=-1)\n",
        "        self.relu = L.ReLU()\n",
        "        self.layer1 = self.make_layer(block, 16, layers[0])\n",
        "        self.layer2 = self.make_layer(block, 32, layers[1], 2)\n",
        "        self.layer3 = self.make_layer(block, 64, layers[2], 2)\n",
        "        self.avg_pool = L.AvgPool2D(8)\n",
        "        self.flatten = L.Flatten()\n",
        "        self.fc = L.Dense(num_classes)\n",
        "        \n",
        "    def make_layer(self, block, out_channels, blocks, strides=1):\n",
        "        downsample = None\n",
        "        if (strides != 1) or (self.in_channels != out_channels):\n",
        "            downsample = tf.keras.Sequential([\n",
        "                conv3x3(out_channels, strides=strides),\n",
        "                L.BatchNormalization(axis=-1)])\n",
        "        layers = []\n",
        "        layers.append(block(out_channels, strides, downsample))\n",
        "        self.in_channels = out_channels\n",
        "        for i in range(1, blocks):\n",
        "            layers.append(block(out_channels))\n",
        "        return tf.keras.Sequential(layers)\n",
        "    \n",
        "    def call(self, x, training=False):\n",
        "        out = self.conv(x)\n",
        "        out = self.bn(out, training=training)\n",
        "        out = self.relu(out)\n",
        "        out = self.layer1(out, training=training)\n",
        "        out = self.layer2(out, training=training)\n",
        "        out = self.layer3(out, training=training)\n",
        "        out = self.avg_pool(out)\n",
        "        out = self.flatten(out)\n",
        "        out = self.fc(out)\n",
        "        return out"
      ],
      "execution_count": 0,
      "outputs": []
    },
    {
      "metadata": {
        "colab_type": "code",
        "id": "E6vmD9PdoQxW",
        "colab": {}
      },
      "cell_type": "code",
      "source": [
        "model = ResNet(ResidualBlock, [2, 2, 2])"
      ],
      "execution_count": 0,
      "outputs": []
    },
    {
      "metadata": {
        "colab_type": "code",
        "id": "Qx0zHRhaqUL3",
        "colab": {}
      },
      "cell_type": "code",
      "source": [
        "def loss_fn(y, y_pre):\n",
        "    return tf.losses.softmax_cross_entropy(y, y_pre)\n",
        "\n",
        "def accuracy(y, y_pre):\n",
        "    return tf.keras.metrics.categorical_accuracy(y, y_pre)\n",
        "\n",
        "optimizer = tf.train.AdamOptimizer(learning_rate)"
      ],
      "execution_count": 0,
      "outputs": []
    },
    {
      "metadata": {
        "colab_type": "code",
        "id": "EGEcgjposP9I",
        "outputId": "7217070c-359d-49e2-e4e7-29905e026658",
        "colab": {
          "base_uri": "https://localhost:8080/",
          "height": 557
        }
      },
      "cell_type": "code",
      "source": [
        "for j in range(num_epochs):\n",
        "    \n",
        "    running_loss = 0\n",
        "    running_acc = 0\n",
        "\n",
        "    for i, (x_, y_) in enumerate(train_dataset):\n",
        "        \n",
        "        with tf.device(\"/gpu:0\"):\n",
        "            with tf.GradientTape() as tape:\n",
        "                y_pre = model(x_, training=True)\n",
        "                loss = loss_fn(y_, y_pre)\n",
        "            acc = accuracy(y_, y_pre)\n",
        "            grads = tape.gradient(loss, model.variables)\n",
        "            optimizer.apply_gradients(zip(grads, model.variables))\n",
        "            running_loss += loss\n",
        "            running_acc += tf.reduce_mean(acc)\n",
        "    \n",
        "    print(\"-----epoch {} -----\".format(j + 1))\n",
        "    print(\"loss: \", running_loss.numpy()/(i + 1))\n",
        "    print(\"acc: \", running_acc.numpy()/(i + 1))    "
      ],
      "execution_count": 13,
      "outputs": [
        {
          "output_type": "stream",
          "text": [
            "-----epoch 1 -----\n",
            "loss:  1.4640736482581314\n",
            "acc:  0.46222098992795363\n",
            "-----epoch 2 -----\n",
            "loss:  1.0621227342255262\n",
            "acc:  0.620826682265924\n",
            "-----epoch 3 -----\n",
            "loss:  0.8796643626933195\n",
            "acc:  0.6883091829261001\n",
            "-----epoch 4 -----\n",
            "loss:  0.7625276215222417\n",
            "acc:  0.7311224645497848\n",
            "-----epoch 5 -----\n",
            "loss:  0.6696112496512276\n",
            "acc:  0.7655612400599888\n",
            "-----epoch 6 -----\n",
            "loss:  0.587175057858837\n",
            "acc:  0.7948740745077327\n",
            "-----epoch 7 -----\n",
            "loss:  0.5221498839709223\n",
            "acc:  0.8188416617257255\n",
            "-----epoch 8 -----\n",
            "loss:  0.46745358681192206\n",
            "acc:  0.8398397796008051\n",
            "-----epoch 9 -----\n",
            "loss:  0.4200403252426459\n",
            "acc:  0.856154305594308\n",
            "-----epoch 10 -----\n",
            "loss:  0.3670301632005341\n",
            "acc:  0.873748390042052\n"
          ],
          "name": "stdout"
        }
      ]
    },
    {
      "metadata": {
        "colab_type": "code",
        "id": "8M37rwRAt0kk",
        "outputId": "0a889455-b61f-4ffb-bce5-a4315ea31d7e",
        "colab": {
          "base_uri": "https://localhost:8080/",
          "height": 35
        }
      },
      "cell_type": "code",
      "source": [
        "test_accuracy = 0\n",
        "for i, (x_, y_) in enumerate(test_dataset):\n",
        "    y_pre = model(x_, training=False)\n",
        "    test_accuracy += tf.reduce_mean(accuracy(y_, y_pre))\n",
        "test_accuracy /= i + 1\n",
        "\n",
        "print(\"test accuracy {:0.3f}\".format(test_accuracy.numpy()))"
      ],
      "execution_count": 14,
      "outputs": [
        {
          "output_type": "stream",
          "text": [
            "test accuracy 0.655\n"
          ],
          "name": "stdout"
        }
      ]
    },
    {
      "metadata": {
        "colab_type": "code",
        "id": "p1EN7x6nhkxu",
        "colab": {}
      },
      "cell_type": "code",
      "source": [
        ""
      ],
      "execution_count": 0,
      "outputs": []
    },
    {
      "metadata": {
        "colab_type": "code",
        "id": "oq81ZIfC9SZD",
        "colab": {}
      },
      "cell_type": "code",
      "source": [
        ""
      ],
      "execution_count": 0,
      "outputs": []
    }
  ]
}