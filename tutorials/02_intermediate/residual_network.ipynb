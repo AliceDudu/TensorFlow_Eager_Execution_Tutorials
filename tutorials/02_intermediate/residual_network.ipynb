{
  "nbformat": 4,
  "nbformat_minor": 0,
  "metadata": {
    "colab": {
      "name": "residual_network.ipynb",
      "version": "0.3.2",
      "provenance": [],
      "collapsed_sections": [],
      "include_colab_link": true
    },
    "kernelspec": {
      "name": "python3",
      "display_name": "Python 3"
    },
    "accelerator": "GPU"
  },
  "cells": [
    {
      "cell_type": "markdown",
      "metadata": {
        "id": "view-in-github",
        "colab_type": "text"
      },
      "source": [
        "<a href=\"https://colab.research.google.com/github/hellocybernetics/TensorFlow_Eager_Execution_Tutorials/blob/master/tutorials/02_intermediate/residual_network.ipynb\" target=\"_parent\"><img src=\"https://colab.research.google.com/assets/colab-badge.svg\" alt=\"Open In Colab\"/></a>"
      ]
    },
    {
      "metadata": {
        "id": "W-2MApJumG9i",
        "colab_type": "code",
        "colab": {}
      },
      "cell_type": "code",
      "source": [
        "import numpy as np\n",
        "import tensorflow as tf\n",
        "import matplotlib.pyplot as plt\n",
        "%matplotlib inline"
      ],
      "execution_count": 0,
      "outputs": []
    },
    {
      "metadata": {
        "id": "YY0lj_PWmNKz",
        "colab_type": "code",
        "colab": {}
      },
      "cell_type": "code",
      "source": [
        "tfk = tf.keras\n",
        "tfe = tf.contrib.eager\n",
        "\n",
        "tf.enable_eager_execution()"
      ],
      "execution_count": 0,
      "outputs": []
    },
    {
      "metadata": {
        "id": "Az2CgxXFmilT",
        "colab_type": "code",
        "outputId": "99d839d8-bfc7-4115-f4e5-e01296d613ce",
        "colab": {
          "base_uri": "https://localhost:8080/",
          "height": 161
        }
      },
      "cell_type": "code",
      "source": [
        "# Hyper parameters\n",
        "num_epochs = 10\n",
        "num_classes = 10\n",
        "batch_size = 256\n",
        "learning_rate = 0.001\n",
        "\n",
        "(x_train, y_train), (x_test, y_test) = tfk.datasets.cifar10.load_data()\n",
        "\n",
        "print(\"training_data\\n\", x_train.shape)\n",
        "print(\"test_data\\n\", x_test.shape)\n",
        "print(\"training_label\\n\", y_train.shape)\n",
        "print(\"test_label\\n\", y_test.shape)"
      ],
      "execution_count": 16,
      "outputs": [
        {
          "output_type": "stream",
          "text": [
            "training_data\n",
            " (50000, 32, 32, 3)\n",
            "test_data\n",
            " (10000, 32, 32, 3)\n",
            "training_label\n",
            " (50000, 1)\n",
            "test_label\n",
            " (10000, 1)\n"
          ],
          "name": "stdout"
        }
      ]
    },
    {
      "metadata": {
        "id": "U6MRu-QDok4N",
        "colab_type": "code",
        "outputId": "34ad18c3-84a3-4734-9c1d-0428a76f3faa",
        "colab": {
          "base_uri": "https://localhost:8080/",
          "height": 53
        }
      },
      "cell_type": "code",
      "source": [
        "x_train_ = tf.convert_to_tensor(x_train, dtype=tf.float32)\n",
        "y_train_ = tf.reshape(tf.one_hot(y_train, 10), (-1, 10))\n",
        "\n",
        "\n",
        "print(x_train_.shape)\n",
        "print(y_train_.shape)"
      ],
      "execution_count": 17,
      "outputs": [
        {
          "output_type": "stream",
          "text": [
            "(50000, 32, 32, 3)\n",
            "(50000, 10)\n"
          ],
          "name": "stdout"
        }
      ]
    },
    {
      "metadata": {
        "id": "6f15_qjHtZl8",
        "colab_type": "code",
        "outputId": "068afd83-a8c6-4d90-f4ae-e02fee09f5cf",
        "colab": {
          "base_uri": "https://localhost:8080/",
          "height": 35
        }
      },
      "cell_type": "code",
      "source": [
        "train_dataset = (\n",
        "    tf.data.Dataset.from_tensor_slices((x_train, y_train))\n",
        "    .batch(batch_size)\n",
        "    .shuffle(10000)\n",
        ")\n",
        "\n",
        "train_dataset = (\n",
        "    train_dataset.map(lambda x, y: \n",
        "                      (tf.div(tf.cast(x, tf.float32), 255.0), \n",
        "                       tf.reshape(tf.one_hot(y, 10), (-1, 10))))\n",
        ")\n",
        "\n",
        "print(train_dataset)"
      ],
      "execution_count": 18,
      "outputs": [
        {
          "output_type": "stream",
          "text": [
            "<MapDataset shapes: ((?, 32, 32, 3), (?, 10)), types: (tf.float32, tf.float32)>\n"
          ],
          "name": "stdout"
        }
      ]
    },
    {
      "metadata": {
        "id": "hL_0Ca4mvJ1m",
        "colab_type": "code",
        "outputId": "ff116e42-7890-432f-f1c5-aa3f040d601d",
        "colab": {
          "base_uri": "https://localhost:8080/",
          "height": 35
        }
      },
      "cell_type": "code",
      "source": [
        "test_dataset = (\n",
        "    tf.data.Dataset.from_tensor_slices((x_test, y_test))\n",
        "    .batch(1000)\n",
        "    .shuffle(10000)\n",
        ")\n",
        "test_dataset = (\n",
        "    test_dataset.map(lambda x, y: \n",
        "                      (tf.div(tf.cast(x, tf.float32), 255.0), \n",
        "                       tf.reshape(tf.one_hot(y, 10), (-1, 10))))\n",
        ")\n",
        "\n",
        "print(test_dataset)"
      ],
      "execution_count": 41,
      "outputs": [
        {
          "output_type": "stream",
          "text": [
            "<MapDataset shapes: ((?, 32, 32, 3), (?, 10)), types: (tf.float32, tf.float32)>\n"
          ],
          "name": "stdout"
        }
      ]
    },
    {
      "metadata": {
        "id": "jUvyjTFXm_0d",
        "colab_type": "code",
        "colab": {}
      },
      "cell_type": "code",
      "source": [
        "def conv3x3(out_channels, strides=1):\n",
        "    return tfk.layers.Conv2D(out_channels, kernel_size=3, \n",
        "                             strides=strides, padding='same', use_bias=False)"
      ],
      "execution_count": 0,
      "outputs": []
    },
    {
      "metadata": {
        "id": "ppETst-0nQtu",
        "colab_type": "code",
        "colab": {}
      },
      "cell_type": "code",
      "source": [
        "# Residual block\n",
        "class ResidualBlock(tfk.Model):\n",
        "    def __init__(self, out_channels, strides=1, downsample=None):\n",
        "        super(ResidualBlock, self).__init__(name='ResidualBlock')\n",
        "        self.conv1 = conv3x3(out_channels, strides)\n",
        "        self.bn1 = tfk.layers.BatchNormalization(axis=-1)\n",
        "        self.relu = tfk.layers.ReLU()\n",
        "        self.conv2 = conv3x3(out_channels)\n",
        "        self.bn2 = tfk.layers.BatchNormalization(axis=-1)\n",
        "        self.downsample = downsample\n",
        "    \n",
        "\n",
        "    def call(self, x):\n",
        "        residual = x\n",
        "        out = self.conv1(x)\n",
        "        out = self.bn1(out)\n",
        "        out = self.relu(out)\n",
        "        out = self.conv2(out)\n",
        "        out = self.bn2(out)\n",
        "        if self.downsample:\n",
        "            residual = self.downsample(x)\n",
        "        out += residual\n",
        "        out = self.relu(out)\n",
        "        return out"
      ],
      "execution_count": 0,
      "outputs": []
    },
    {
      "metadata": {
        "id": "c4dcZi3boLkG",
        "colab_type": "code",
        "colab": {}
      },
      "cell_type": "code",
      "source": [
        "class ResNet(tfk.Model):\n",
        "    def __init__(self, block, layers, num_classes=10):\n",
        "        super(ResNet, self).__init__(name='ResNet')\n",
        "        self.in_channels = 16\n",
        "        self.conv = conv3x3(16)\n",
        "        self.bn = tfk.layers.BatchNormalization(axis=-1)\n",
        "        self.relu = tfk.layers.ReLU()\n",
        "        self.layer1 = self.make_layer(block, 16, layers[0])\n",
        "        self.layer2 = self.make_layer(block, 32, layers[1], 2)\n",
        "        self.layer3 = self.make_layer(block, 64, layers[2], 2)\n",
        "        self.avg_pool = tfk.layers.AvgPool2D(8)\n",
        "        self.flatten = tfk.layers.Flatten()\n",
        "        self.fc = tfk.layers.Dense(num_classes)\n",
        "        \n",
        "    def make_layer(self, block, out_channels, blocks, strides=1):\n",
        "        downsample = None\n",
        "        if (strides != 1) or (self.in_channels != out_channels):\n",
        "            downsample = tfk.Sequential([\n",
        "                conv3x3(out_channels, strides=strides),\n",
        "                tfk.layers.BatchNormalization(axis=-1)])\n",
        "        layers = []\n",
        "        layers.append(block(out_channels, strides, downsample))\n",
        "        self.in_channels = out_channels\n",
        "        for i in range(1, blocks):\n",
        "            layers.append(block(out_channels))\n",
        "        return tfk.Sequential(layers)\n",
        "    \n",
        "    def call(self, x):\n",
        "        out = self.conv(x)\n",
        "        out = self.bn(out)\n",
        "        out = self.relu(out)\n",
        "        out = self.layer1(out)\n",
        "        out = self.layer2(out)\n",
        "        out = self.layer3(out)\n",
        "        out = self.avg_pool(out)\n",
        "        out = self.flatten(out)\n",
        "        out = self.fc(out)\n",
        "        return out"
      ],
      "execution_count": 0,
      "outputs": []
    },
    {
      "metadata": {
        "id": "E6vmD9PdoQxW",
        "colab_type": "code",
        "colab": {}
      },
      "cell_type": "code",
      "source": [
        "model = ResNet(ResidualBlock, [2, 2, 2])"
      ],
      "execution_count": 0,
      "outputs": []
    },
    {
      "metadata": {
        "id": "Qx0zHRhaqUL3",
        "colab_type": "code",
        "colab": {}
      },
      "cell_type": "code",
      "source": [
        "def loss_fn(model, x, y):\n",
        "    y_pre = model(x)\n",
        "    return tf.losses.softmax_cross_entropy(y, y_pre)\n",
        "\n",
        "def accuracy(model, x, y):\n",
        "    y_pre = model(x)\n",
        "    return tfk.metrics.categorical_accuracy(y, y_pre)\n",
        "\n",
        "optimizer = tf.train.AdamOptimizer(learning_rate)"
      ],
      "execution_count": 0,
      "outputs": []
    },
    {
      "metadata": {
        "id": "EGEcgjposP9I",
        "colab_type": "code",
        "outputId": "242e68ab-4353-49d3-f6ac-42925a4e02c0",
        "colab": {
          "base_uri": "https://localhost:8080/",
          "height": 557
        }
      },
      "cell_type": "code",
      "source": [
        "for j in range(num_epochs):\n",
        "    \n",
        "    running_loss = 0\n",
        "    running_acc = 0\n",
        "\n",
        "    for i, (x_, y_) in enumerate(train_dataset):\n",
        "        \n",
        "        with tf.device(\"/gpu:0\"):\n",
        "            with tf.GradientTape() as tape:\n",
        "                loss = loss_fn(model, x_, y_)\n",
        "            acc = accuracy(model, x_, y_)\n",
        "            grads = tape.gradient(loss, model.variables)\n",
        "            optimizer.apply_gradients(zip(grads, model.variables))\n",
        "            running_loss += loss\n",
        "            running_acc += tf.reduce_mean(acc)\n",
        "    \n",
        "    print(\"-----epoch {} -----\".format(j + 1))\n",
        "    print(\"loss: \", running_loss.numpy()/(i + 1))\n",
        "    print(\"acc: \", running_acc.numpy()/(i + 1))    "
      ],
      "execution_count": 60,
      "outputs": [
        {
          "output_type": "stream",
          "text": [
            "-----epoch 1 -----\n",
            "loss:  1.8363392109773597\n",
            "acc:  0.3045998008883729\n",
            "-----epoch 2 -----\n",
            "loss:  1.498651154187261\n",
            "acc:  0.4446388556032765\n",
            "-----epoch 3 -----\n",
            "loss:  1.315013651945153\n",
            "acc:  0.520157054978974\n",
            "-----epoch 4 -----\n",
            "loss:  1.1912184734733737\n",
            "acc:  0.565696755234076\n",
            "-----epoch 5 -----\n",
            "loss:  1.0869000493263712\n",
            "acc:  0.6074099248769332\n",
            "-----epoch 6 -----\n",
            "loss:  0.9997970425352758\n",
            "acc:  0.6411112960504026\n",
            "-----epoch 7 -----\n",
            "loss:  0.9260312294473454\n",
            "acc:  0.6677096619897959\n",
            "-----epoch 8 -----\n",
            "loss:  0.8520661957409917\n",
            "acc:  0.6973931448800224\n",
            "-----epoch 9 -----\n",
            "loss:  0.7917091213926977\n",
            "acc:  0.7178770571338887\n",
            "-----epoch 10 -----\n",
            "loss:  0.7451742522570551\n",
            "acc:  0.7367745224310427\n"
          ],
          "name": "stdout"
        }
      ]
    },
    {
      "metadata": {
        "id": "8M37rwRAt0kk",
        "colab_type": "code",
        "outputId": "52e86607-5127-432f-8445-7e4f8f157da4",
        "colab": {
          "base_uri": "https://localhost:8080/",
          "height": 35
        }
      },
      "cell_type": "code",
      "source": [
        "test_accuracy = 0\n",
        "for i, (x_, y_) in enumerate(test_dataset):\n",
        "    test_accuracy += tf.reduce_mean(accuracy(model, x_, y_))\n",
        "test_accuracy /= i + 1\n",
        "\n",
        "print(\"test accuracy {:0.3f}\".format(test_accuracy.numpy()))"
      ],
      "execution_count": 61,
      "outputs": [
        {
          "output_type": "stream",
          "text": [
            "test accuracy 0.702\n"
          ],
          "name": "stdout"
        }
      ]
    },
    {
      "metadata": {
        "id": "p1EN7x6nhkxu",
        "colab_type": "code",
        "colab": {
          "base_uri": "https://localhost:8080/",
          "height": 35
        },
        "outputId": "21223cee-9590-424c-ed50-36e77b727a9d"
      },
      "cell_type": "code",
      "source": [
        ""
      ],
      "execution_count": 57,
      "outputs": [
        {
          "output_type": "execute_result",
          "data": {
            "text/plain": [
              "<tf.Tensor: id=1751747, shape=(), dtype=float32, numpy=-2.0973113>"
            ]
          },
          "metadata": {
            "tags": []
          },
          "execution_count": 57
        }
      ]
    }
  ]
}