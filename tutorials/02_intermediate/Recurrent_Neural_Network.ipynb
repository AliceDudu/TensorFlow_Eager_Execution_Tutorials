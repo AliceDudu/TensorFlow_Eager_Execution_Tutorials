{
  "nbformat": 4,
  "nbformat_minor": 0,
  "metadata": {
    "colab": {
      "name": "Recurrent_Neural_Network",
      "version": "0.3.2",
      "provenance": [],
      "collapsed_sections": [],
      "include_colab_link": true
    },
    "kernelspec": {
      "display_name": "Python 3",
      "language": "python",
      "name": "python3"
    },
    "accelerator": "GPU"
  },
  "cells": [
    {
      "cell_type": "markdown",
      "metadata": {
        "id": "view-in-github",
        "colab_type": "text"
      },
      "source": [
        "<a href=\"https://colab.research.google.com/github/hellocybernetics/TensorFlow_Eager_Execution_Tutorials/blob/master/tutorials/02_intermediate/Recurrent_Neural_Network.ipynb\" target=\"_parent\"><img src=\"https://colab.research.google.com/assets/colab-badge.svg\" alt=\"Open In Colab\"/></a>"
      ]
    },
    {
      "metadata": {
        "colab_type": "code",
        "id": "VkJooysd9saV",
        "colab": {}
      },
      "cell_type": "code",
      "source": [
        "import numpy as np\n",
        "import tensorflow as tf\n",
        "import matplotlib.pyplot as plt\n",
        "%matplotlib inline\n",
        "\n",
        "tf.enable_eager_execution()\n",
        "L = tf.keras.layers\n",
        "tfe = tf.contrib.eager"
      ],
      "execution_count": 0,
      "outputs": []
    },
    {
      "metadata": {
        "colab_type": "code",
        "id": "mvWroGCq-AGM",
        "outputId": "98fd627d-826f-45aa-98e1-254abddb00f0",
        "colab": {
          "base_uri": "https://localhost:8080/",
          "height": 125
        }
      },
      "cell_type": "code",
      "source": [
        "# Hyper parameters\n",
        "num_epochs = 25\n",
        "num_classes = 10\n",
        "batch_size = 512\n",
        "learning_rate = 0.001\n",
        "\n",
        "(x_train, y_train), (x_test, y_test) = tf.keras.datasets.mnist.load_data()\n",
        "\n",
        "print(\"training_data: \", x_train.shape)\n",
        "print(\"test_data: \", x_test.shape)\n",
        "print(\"training_label: \", y_train.shape)\n",
        "print(\"test_label: \", y_test.shape)"
      ],
      "execution_count": 3,
      "outputs": [
        {
          "output_type": "stream",
          "text": [
            "Downloading data from https://storage.googleapis.com/tensorflow/tf-keras-datasets/mnist.npz\n",
            "11493376/11490434 [==============================] - 0s 0us/step\n",
            "training_data:  (60000, 28, 28)\n",
            "test_data:  (10000, 28, 28)\n",
            "training_label:  (60000,)\n",
            "test_label:  (10000,)\n"
          ],
          "name": "stdout"
        }
      ]
    },
    {
      "metadata": {
        "colab_type": "code",
        "id": "int-eal1-RBm",
        "outputId": "676f6ce0-fc7a-471a-ec1e-eb9246e883c2",
        "colab": {
          "base_uri": "https://localhost:8080/",
          "height": 89
        }
      },
      "cell_type": "code",
      "source": [
        "x_train_eager = tf.convert_to_tensor(x_train, dtype=tf.float32)\n",
        "x_test_eager = tf.convert_to_tensor(x_test, dtype=tf.float32)\n",
        "y_train_eager = tf.reshape(tf.one_hot(y_train, 10), (-1, 10))\n",
        "y_test_eager = tf.reshape(tf.one_hot(y_test, 10), (-1, 10))\n",
        "\n",
        "print(\"training_data: \", x_train_eager.shape)\n",
        "print(\"test_data: \", x_test_eager.shape)\n",
        "print(\"training_label: \", y_train_eager.shape)\n",
        "print(\"test_label: \", y_test_eager.shape)"
      ],
      "execution_count": 4,
      "outputs": [
        {
          "output_type": "stream",
          "text": [
            "training_data:  (60000, 28, 28)\n",
            "test_data:  (10000, 28, 28)\n",
            "training_label:  (60000, 10)\n",
            "test_label:  (10000, 10)\n"
          ],
          "name": "stdout"
        }
      ]
    },
    {
      "metadata": {
        "colab_type": "text",
        "id": "jwcKjSDNGD5W"
      },
      "cell_type": "markdown",
      "source": [
        "### DataSet\n",
        "You make Dataset using `tf.data.Dataset` Class but Keras API doesn't need this dataset. If you write training loop code manually, `Dataset` class is very useful. And using keras API, you need numpy.array inputs instead of tf.Tensor. I don't know why...so you only need numpy preprocessing (or get numpy.array from tf.Tensor using numpy() method after preprocessing using function of tf).\n",
        "\n",
        "### NOTE\n",
        "This notebook we don't need 'tf.data.Dataset'. This code only just for reference."
      ]
    },
    {
      "metadata": {
        "colab_type": "code",
        "id": "YNU_cq4L-u10",
        "colab": {}
      },
      "cell_type": "code",
      "source": [
        "train_dataset = (\n",
        "    tf.data.Dataset.from_tensor_slices((x_train_eager, y_train_eager))\n",
        "    .batch(batch_size)\n",
        "    .shuffle(10000)\n",
        ")\n",
        "train_dataset = train_dataset.repeat()"
      ],
      "execution_count": 0,
      "outputs": []
    },
    {
      "metadata": {
        "colab_type": "code",
        "id": "_npuvGwv-588",
        "colab": {}
      },
      "cell_type": "code",
      "source": [
        "test_dataset = (\n",
        "    tf.data.Dataset.from_tensor_slices((x_test_eager, y_test_eager))\n",
        "    .batch(1000)\n",
        "    .shuffle(10000)\n",
        ")\n",
        "test_dataset = test_dataset.repeat()"
      ],
      "execution_count": 0,
      "outputs": []
    },
    {
      "metadata": {
        "colab_type": "text",
        "id": "e-Z06hTWOx4P"
      },
      "cell_type": "markdown",
      "source": [
        "### RNN using LSTM\n",
        "In keras API, LSTM recives inputs tensor whose shape is (batch_size, seqence_length, feature_dim), and output tensor whose shape is (batch_size, fearure_dim).When you need all time sequence data, you have to give `return_sequences=True` to LSTM's constractor. Generally, when you stack LSTM's, you need all sequence data."
      ]
    },
    {
      "metadata": {
        "colab_type": "code",
        "id": "gz5RrFnm_HzM",
        "colab": {}
      },
      "cell_type": "code",
      "source": [
        "class RNN(tf.keras.Model):\n",
        "    def __init__(self, hidden_size=10, num_layers=2, num_classes=10):\n",
        "        super(RNN, self).__init__(name='mnist_rnn')\n",
        "        self.hidden_size = hidden_size\n",
        "        self.num_layers = num_layers\n",
        "        \n",
        "        self.lstm = self.get_lstm_layers(hidden_size, num_layers)            \n",
        "        self.fc = L.Dense(num_classes, activation=\"softmax\")\n",
        "    \n",
        "    @staticmethod\n",
        "    def get_lstm_layers(hidden_size, num_layers):\n",
        "        lstm_layers = []\n",
        "        # we need all sequence data. write return_sequences=True! \n",
        "        for i in range(num_layers-1):\n",
        "            lstm_layers.append(\n",
        "                L.CuDNNLSTM(units=hidden_size, return_sequences=True)\n",
        "            )\n",
        "        # the final layer return only final sequence\n",
        "        # if you need all sequences, you have to write return_sequences=True.\n",
        "        lstm_layers.append(L.CuDNNLSTM(units=hidden_size))\n",
        "        return tf.keras.Sequential(lstm_layers)\n",
        "        \n",
        "    def call(self, x):        \n",
        "        # Forward propagate LSTM\n",
        "        out = self.lstm(x)\n",
        "        out = self.fc(out)\n",
        "        return out"
      ],
      "execution_count": 0,
      "outputs": []
    },
    {
      "metadata": {
        "colab_type": "code",
        "id": "oMARKqbaBjIN",
        "colab": {}
      },
      "cell_type": "code",
      "source": [
        "model = RNN()"
      ],
      "execution_count": 0,
      "outputs": []
    },
    {
      "metadata": {
        "colab_type": "code",
        "id": "_NPkLp-rBzCp",
        "outputId": "d97b975e-0e84-45cd-d9a0-f55eee4e62d4",
        "colab": {
          "base_uri": "https://localhost:8080/",
          "height": 215
        }
      },
      "cell_type": "code",
      "source": [
        "optimizer = tf.train.AdamOptimizer(learning_rate)\n",
        "model.compile(optimizer=optimizer,\n",
        "              loss='categorical_crossentropy',\n",
        "              metrics=[\"accuracy\"])\n",
        "\n",
        "# Eager Execution initialize parameters when using model.call()\n",
        "model(x_train_eager[:50])\n",
        "\n",
        "model.summary()"
      ],
      "execution_count": 9,
      "outputs": [
        {
          "output_type": "stream",
          "text": [
            "_________________________________________________________________\n",
            "Layer (type)                 Output Shape              Param #   \n",
            "=================================================================\n",
            "sequential (Sequential)      multiple                  2480      \n",
            "_________________________________________________________________\n",
            "dense (Dense)                multiple                  110       \n",
            "=================================================================\n",
            "Total params: 2,590\n",
            "Trainable params: 2,590\n",
            "Non-trainable params: 0\n",
            "_________________________________________________________________\n"
          ],
          "name": "stdout"
        }
      ]
    },
    {
      "metadata": {
        "colab_type": "code",
        "id": "wDEyoIMnDKEy",
        "outputId": "384d38ce-8cde-474a-e4b8-e4c2b24a68ef",
        "colab": {
          "base_uri": "https://localhost:8080/",
          "height": 935
        }
      },
      "cell_type": "code",
      "source": [
        "model.fit(x=x_train_eager.numpy(), \n",
        "          y=y_train_eager.numpy(), \n",
        "          validation_split=0.2, \n",
        "          epochs=num_epochs,\n",
        "          batch_size=batch_size)"
      ],
      "execution_count": 10,
      "outputs": [
        {
          "output_type": "stream",
          "text": [
            "Epoch 1/25\n",
            "94/94 [==============================] - 5s 50ms/step - loss: 2.1497 - acc: 0.2485 - val_loss: 1.8979 - val_acc: 0.3624\n",
            "Epoch 2/25\n",
            "94/94 [==============================] - 5s 49ms/step - loss: 1.6330 - acc: 0.4648 - val_loss: 1.3772 - val_acc: 0.5950\n",
            "Epoch 3/25\n",
            "94/94 [==============================] - 5s 48ms/step - loss: 1.2279 - acc: 0.6295 - val_loss: 1.0835 - val_acc: 0.6795\n",
            "Epoch 4/25\n",
            "94/94 [==============================] - 4s 47ms/step - loss: 1.0226 - acc: 0.6914 - val_loss: 0.9252 - val_acc: 0.7232\n",
            "Epoch 5/25\n",
            "94/94 [==============================] - 4s 47ms/step - loss: 0.8952 - acc: 0.7288 - val_loss: 0.8316 - val_acc: 0.7501\n",
            "Epoch 6/25\n",
            "94/94 [==============================] - 4s 46ms/step - loss: 0.8089 - acc: 0.7559 - val_loss: 0.7370 - val_acc: 0.7786\n",
            "Epoch 7/25\n",
            "94/94 [==============================] - 4s 47ms/step - loss: 0.7348 - acc: 0.7785 - val_loss: 0.6799 - val_acc: 0.7974\n",
            "Epoch 8/25\n",
            "94/94 [==============================] - 4s 47ms/step - loss: 0.6806 - acc: 0.7951 - val_loss: 0.6307 - val_acc: 0.8109\n",
            "Epoch 9/25\n",
            "94/94 [==============================] - 4s 47ms/step - loss: 0.6391 - acc: 0.8079 - val_loss: 0.5920 - val_acc: 0.8205\n",
            "Epoch 10/25\n",
            "94/94 [==============================] - 4s 47ms/step - loss: 0.6045 - acc: 0.8187 - val_loss: 0.5606 - val_acc: 0.8320\n",
            "Epoch 11/25\n",
            "94/94 [==============================] - 4s 47ms/step - loss: 0.5754 - acc: 0.8267 - val_loss: 0.5413 - val_acc: 0.8360\n",
            "Epoch 12/25\n",
            "94/94 [==============================] - 4s 47ms/step - loss: 0.5520 - acc: 0.8333 - val_loss: 0.5160 - val_acc: 0.8440\n",
            "Epoch 13/25\n",
            "94/94 [==============================] - 4s 47ms/step - loss: 0.5264 - acc: 0.8415 - val_loss: 0.4991 - val_acc: 0.8471\n",
            "Epoch 14/25\n",
            "94/94 [==============================] - 4s 47ms/step - loss: 0.5066 - acc: 0.8462 - val_loss: 0.4780 - val_acc: 0.8513\n",
            "Epoch 15/25\n",
            "94/94 [==============================] - 4s 47ms/step - loss: 0.4885 - acc: 0.8536 - val_loss: 0.4647 - val_acc: 0.8592\n",
            "Epoch 16/25\n",
            "94/94 [==============================] - 4s 47ms/step - loss: 0.4745 - acc: 0.8559 - val_loss: 0.4501 - val_acc: 0.8623\n",
            "Epoch 17/25\n",
            "94/94 [==============================] - 4s 47ms/step - loss: 0.4613 - acc: 0.8615 - val_loss: 0.4345 - val_acc: 0.8691\n",
            "Epoch 18/25\n",
            "94/94 [==============================] - 4s 47ms/step - loss: 0.4442 - acc: 0.8650 - val_loss: 0.4273 - val_acc: 0.8692\n",
            "Epoch 19/25\n",
            "94/94 [==============================] - 4s 47ms/step - loss: 0.4336 - acc: 0.8676 - val_loss: 0.4206 - val_acc: 0.8737\n",
            "Epoch 20/25\n",
            "94/94 [==============================] - 4s 46ms/step - loss: 0.4243 - acc: 0.8717 - val_loss: 0.4075 - val_acc: 0.8764\n",
            "Epoch 21/25\n",
            "94/94 [==============================] - 4s 46ms/step - loss: 0.4118 - acc: 0.8765 - val_loss: 0.3999 - val_acc: 0.8792\n",
            "Epoch 22/25\n",
            "94/94 [==============================] - 4s 46ms/step - loss: 0.4061 - acc: 0.8778 - val_loss: 0.3906 - val_acc: 0.8827\n",
            "Epoch 23/25\n",
            "94/94 [==============================] - 4s 47ms/step - loss: 0.3961 - acc: 0.8803 - val_loss: 0.3857 - val_acc: 0.8859\n",
            "Epoch 24/25\n",
            "94/94 [==============================] - 4s 47ms/step - loss: 0.3859 - acc: 0.8835 - val_loss: 0.3763 - val_acc: 0.8860\n",
            "Epoch 25/25\n",
            "94/94 [==============================] - 4s 47ms/step - loss: 0.3771 - acc: 0.8864 - val_loss: 0.3725 - val_acc: 0.8889\n"
          ],
          "name": "stdout"
        },
        {
          "output_type": "execute_result",
          "data": {
            "text/plain": [
              "<tensorflow.python.keras.callbacks.History at 0x7f2948abe358>"
            ]
          },
          "metadata": {
            "tags": []
          },
          "execution_count": 10
        }
      ]
    },
    {
      "metadata": {
        "colab_type": "code",
        "id": "oDuYrgFIG850",
        "outputId": "9000e274-233a-4aaa-8937-7df672519f9f",
        "colab": {
          "base_uri": "https://localhost:8080/",
          "height": 53
        }
      },
      "cell_type": "code",
      "source": [
        "test_loss, test_acc = model.evaluate(x=x_test_eager.numpy(), \n",
        "                                     y=y_test_eager.numpy())\n",
        "\n",
        "print(\"test_accracy: \", test_acc)"
      ],
      "execution_count": 11,
      "outputs": [
        {
          "output_type": "stream",
          "text": [
            "313/313 [==============================] - 6s 18ms/step\n",
            "test_accracy:  0.8839\n"
          ],
          "name": "stdout"
        }
      ]
    },
    {
      "metadata": {
        "colab_type": "code",
        "id": "Yeayjx_nKXaW",
        "colab": {}
      },
      "cell_type": "code",
      "source": [
        ""
      ],
      "execution_count": 0,
      "outputs": []
    }
  ]
}