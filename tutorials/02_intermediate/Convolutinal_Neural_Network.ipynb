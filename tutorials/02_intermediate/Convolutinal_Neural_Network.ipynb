{
  "nbformat": 4,
  "nbformat_minor": 0,
  "metadata": {
    "colab": {
      "name": "Convolutinal_Neural_Network",
      "version": "0.3.2",
      "provenance": [],
      "collapsed_sections": [],
      "include_colab_link": true
    },
    "kernelspec": {
      "display_name": "Python 3",
      "language": "python",
      "name": "python3"
    },
    "accelerator": "GPU"
  },
  "cells": [
    {
      "cell_type": "markdown",
      "metadata": {
        "id": "view-in-github",
        "colab_type": "text"
      },
      "source": [
        "<a href=\"https://colab.research.google.com/github/hellocybernetics/TensorFlow_Eager_Execution_Tutorials/blob/master/tutorials/02_intermediate/Convolutinal_Neural_Network.ipynb\" target=\"_parent\"><img src=\"https://colab.research.google.com/assets/colab-badge.svg\" alt=\"Open In Colab\"/></a>"
      ]
    },
    {
      "metadata": {
        "colab_type": "code",
        "id": "Wzbzil3EquvD",
        "colab": {}
      },
      "cell_type": "code",
      "source": [
        "import tensorflow as tf\n",
        "import numpy as np\n",
        "\n",
        "tf.enable_eager_execution()\n",
        "tfe = tf.contrib.eager\n",
        "L = tf.keras.layers"
      ],
      "execution_count": 0,
      "outputs": []
    },
    {
      "metadata": {
        "colab_type": "code",
        "id": "_b3wl5DyrGbv",
        "outputId": "e31f4647-bdf6-4a88-987b-5b06724073df",
        "colab": {
          "base_uri": "https://localhost:8080/",
          "height": 197
        }
      },
      "cell_type": "code",
      "source": [
        "# Hyper parameters\n",
        "num_epochs = 10\n",
        "num_classes = 10\n",
        "batch_size = 1024\n",
        "learning_rate = 0.001\n",
        "\n",
        "(x_train, y_train), (x_test, y_test) = tf.keras.datasets.cifar10.load_data()\n",
        "\n",
        "print(\"training_data\\n\", x_train.shape)\n",
        "print(\"test_data\\n\", x_test.shape)\n",
        "print(\"training_label\\n\", y_train.shape)\n",
        "print(\"test_label\\n\", y_test.shape)"
      ],
      "execution_count": 3,
      "outputs": [
        {
          "output_type": "stream",
          "text": [
            "Downloading data from https://www.cs.toronto.edu/~kriz/cifar-10-python.tar.gz\n",
            "170500096/170498071 [==============================] - 36s 0us/step\n",
            "training_data\n",
            " (50000, 32, 32, 3)\n",
            "test_data\n",
            " (10000, 32, 32, 3)\n",
            "training_label\n",
            " (50000, 1)\n",
            "test_label\n",
            " (10000, 1)\n"
          ],
          "name": "stdout"
        }
      ]
    },
    {
      "metadata": {
        "colab_type": "code",
        "id": "zQ9dPufBDY_e",
        "outputId": "f90eef60-13f4-4135-da2f-356f3a2d4128",
        "colab": {
          "base_uri": "https://localhost:8080/",
          "height": 53
        }
      },
      "cell_type": "code",
      "source": [
        "x_train_ = tf.transpose(tf.convert_to_tensor(x_train, dtype=tf.float32), \n",
        "                        [0, 3, 1, 2])\n",
        "y_train_ = tf.reshape(tf.one_hot(y_train, 10), (-1, 10))\n",
        "\n",
        "print(x_train_.shape)\n",
        "print(y_train_.shape)"
      ],
      "execution_count": 4,
      "outputs": [
        {
          "output_type": "stream",
          "text": [
            "(50000, 3, 32, 32)\n",
            "(50000, 10)\n"
          ],
          "name": "stdout"
        }
      ]
    },
    {
      "metadata": {
        "colab_type": "code",
        "id": "EIFr75qmBuM-",
        "outputId": "2491c785-e7b2-442f-c661-2abde0364e49",
        "colab": {
          "base_uri": "https://localhost:8080/",
          "height": 35
        }
      },
      "cell_type": "code",
      "source": [
        "train_dataset = (\n",
        "    tf.data.Dataset.from_tensor_slices((x_train, y_train))\n",
        "    .batch(batch_size)\n",
        "    .shuffle(10000)\n",
        ")\n",
        "\n",
        "train_dataset = (\n",
        "    train_dataset.map(lambda x, y: \n",
        "                      (tf.div(tf.cast(\n",
        "                          tf.transpose(x, [0, 3, 1, 2]), tf.float32), 255.0), \n",
        "                       tf.reshape(tf.one_hot(y, 10), (-1, 10))))\n",
        ")\n",
        "\n",
        "print(train_dataset)"
      ],
      "execution_count": 5,
      "outputs": [
        {
          "output_type": "stream",
          "text": [
            "<MapDataset shapes: ((?, 3, 32, 32), (?, 10)), types: (tf.float32, tf.float32)>\n"
          ],
          "name": "stdout"
        }
      ]
    },
    {
      "metadata": {
        "colab_type": "code",
        "id": "jNdtaRRB7d5O",
        "outputId": "67334847-8601-4116-a339-626b7d509d2b",
        "colab": {
          "base_uri": "https://localhost:8080/",
          "height": 35
        }
      },
      "cell_type": "code",
      "source": [
        "test_dataset = (\n",
        "    tf.data.Dataset.from_tensor_slices((x_test, y_test))\n",
        "    .batch(1000)\n",
        "    .shuffle(10000)\n",
        ")\n",
        "test_dataset = (\n",
        "    test_dataset.map(lambda x, y: \n",
        "                      (tf.div(tf.cast(\n",
        "                          tf.transpose(x, [0, 3, 1, 2]), tf.float32), 255.0), \n",
        "                       tf.reshape(tf.one_hot(y, 10), (-1, 10))))\n",
        ")\n",
        "print(test_dataset)"
      ],
      "execution_count": 6,
      "outputs": [
        {
          "output_type": "stream",
          "text": [
            "<MapDataset shapes: ((?, 3, 32, 32), (?, 10)), types: (tf.float32, tf.float32)>\n"
          ],
          "name": "stdout"
        }
      ]
    },
    {
      "metadata": {
        "colab_type": "code",
        "id": "P5PNiSQWrfAF",
        "colab": {}
      },
      "cell_type": "code",
      "source": [
        ""
      ],
      "execution_count": 0,
      "outputs": []
    },
    {
      "metadata": {
        "colab_type": "code",
        "id": "S2mYcv4D2UGO",
        "colab": {}
      },
      "cell_type": "code",
      "source": [
        "class Cifar10Model(tf.keras.Model):\n",
        "    def __init__(self):\n",
        "        super(Cifar10Model, self).__init__(name='cifar_cnn')\n",
        "        \n",
        "        self.conv_block1 = tf.keras.Sequential([\n",
        "            L.Conv2D(\n",
        "                8, \n",
        "                5,\n",
        "                padding='same',\n",
        "                activation=tf.nn.relu,\n",
        "                kernel_initializer=tf.initializers.variance_scaling,\n",
        "                kernel_regularizer=tf.keras.regularizers.l2(l=0.001),\n",
        "                data_format=\"channels_first\"\n",
        "            ),\n",
        "            L.MaxPooling2D(\n",
        "                (3, 3), \n",
        "                (2, 2), \n",
        "                padding='same',\n",
        "                data_format=\"channels_first\"\n",
        "            ),\n",
        "            L.BatchNormalization(axis=1),\n",
        "        ])\n",
        "\n",
        "        self.conv_block2 = tf.keras.Sequential([\n",
        "            L.Conv2D(\n",
        "                16, \n",
        "                5,\n",
        "                padding='same',\n",
        "                activation=tf.nn.relu,\n",
        "                kernel_initializer=tf.initializers.variance_scaling,\n",
        "                kernel_regularizer=tf.keras.regularizers.l2(l=0.001),\n",
        "                data_format=\"channels_first\"\n",
        "            ),\n",
        "            L.MaxPooling2D(\n",
        "                (3, 3), \n",
        "                (2, 2), \n",
        "                padding='same',\n",
        "                data_format=\"channels_first\"\n",
        "            ),\n",
        "            L.BatchNormalization(axis=1),\n",
        "        ])\n",
        "        \n",
        "        self.conv_block3 = tf.keras.Sequential([\n",
        "            L.Conv2D(\n",
        "                32, \n",
        "                5,\n",
        "                padding='same',\n",
        "                activation=tf.nn.relu,\n",
        "                kernel_initializer=tf.initializers.variance_scaling,\n",
        "                kernel_regularizer=tf.keras.regularizers.l2(l=0.001),\n",
        "                data_format=\"channels_first\"\n",
        "            ),\n",
        "            L.MaxPooling2D(\n",
        "                (3, 3), \n",
        "                (2, 2), \n",
        "                padding='same',\n",
        "                data_format=\"channels_first\"\n",
        "            ),\n",
        "            L.BatchNormalization(axis=1),\n",
        "        ])\n",
        "        \n",
        "        self.flatten = L.Flatten()\n",
        "        self.fc1 = L.Dense(\n",
        "            256, \n",
        "            activation=tf.nn.relu,\n",
        "            kernel_initializer=tf.initializers.variance_scaling,\n",
        "            kernel_regularizer=tf.keras.regularizers.l2(l=0.001))\n",
        "        self.dropout = L.Dropout(0.8)\n",
        "        self.fc2 = L.Dense(10)\n",
        "        self.softmax = L.Softmax()\n",
        "\n",
        "    def call(self, x, training=False):\n",
        "        x = self.conv_block1(x, training=training)\n",
        "        x = self.conv_block2(x, training=training)\n",
        "        x = self.conv_block3(x, training=training)\n",
        "        x = self.flatten(x)\n",
        "        x = self.dropout(self.fc1(x), training=training)\n",
        "        x = self.fc2(x)\n",
        "        return self.softmax(x)"
      ],
      "execution_count": 0,
      "outputs": []
    },
    {
      "metadata": {
        "colab_type": "code",
        "id": "6VyzP7OTtDGf",
        "colab": {}
      },
      "cell_type": "code",
      "source": [
        "model = Cifar10Model()\n",
        "\n",
        "def loss_fn(y, y_pre):\n",
        "    return tf.keras.losses.categorical_crossentropy(y, y_pre)\n",
        "\n",
        "def accuracy(y, y_pre):\n",
        "    return tf.keras.metrics.categorical_accuracy(y, y_pre)\n",
        "\n",
        "optimizer = tf.train.AdamOptimizer(learning_rate)"
      ],
      "execution_count": 0,
      "outputs": []
    },
    {
      "metadata": {
        "colab_type": "code",
        "id": "7zrxUvWPu6PK",
        "outputId": "91eaf8e7-513d-43a3-b592-f9d353e5c9e5",
        "colab": {
          "base_uri": "https://localhost:8080/",
          "height": 557
        }
      },
      "cell_type": "code",
      "source": [
        "for j in range(num_epochs):\n",
        "    \n",
        "    running_loss = 0\n",
        "    running_acc = 0\n",
        "\n",
        "    for i, (x_, y_) in enumerate(train_dataset):\n",
        "        \n",
        "        with tf.device(\"/gpu:0\"):\n",
        "            with tf.GradientTape() as tape:\n",
        "                y_pre = model(x_, training=True)\n",
        "                loss = loss_fn(y_, y_pre)\n",
        "            acc = accuracy(y_, y_pre)\n",
        "            grads = tape.gradient(loss, model.variables)\n",
        "            optimizer.apply_gradients(zip(grads, model.variables))\n",
        "            running_loss += tf.reduce_mean(loss)\n",
        "            running_acc += tf.reduce_mean(acc)\n",
        "    \n",
        "    print(\"-----epoch {} -----\".format(j + 1))\n",
        "    print(\"loss: \", running_loss.numpy()/(i + 1))\n",
        "    print(\"acc: \", running_acc.numpy()/(i + 1))    "
      ],
      "execution_count": 23,
      "outputs": [
        {
          "output_type": "stream",
          "text": [
            "-----epoch 1 -----\n",
            "loss:  2.080876720194914\n",
            "acc:  0.27564558690908003\n",
            "-----epoch 2 -----\n",
            "loss:  1.6930190105827487\n",
            "acc:  0.38147042722118146\n",
            "-----epoch 3 -----\n",
            "loss:  1.5609390881596779\n",
            "acc:  0.43662760209064094\n",
            "-----epoch 4 -----\n",
            "loss:  1.4644119885503029\n",
            "acc:  0.4703996619399713\n",
            "-----epoch 5 -----\n",
            "loss:  1.3926103552993463\n",
            "acc:  0.4998274044114716\n",
            "-----epoch 6 -----\n",
            "loss:  1.323324086714764\n",
            "acc:  0.5280563198790258\n",
            "-----epoch 7 -----\n",
            "loss:  1.2741163604113521\n",
            "acc:  0.5484468109753667\n",
            "-----epoch 8 -----\n",
            "loss:  1.2303034724021444\n",
            "acc:  0.5626135845573581\n",
            "-----epoch 9 -----\n",
            "loss:  1.1981804516850685\n",
            "acc:  0.5748023597561583\n",
            "-----epoch 10 -----\n",
            "loss:  1.1650082335180165\n",
            "acc:  0.5883636863864198\n"
          ],
          "name": "stdout"
        }
      ]
    },
    {
      "metadata": {
        "colab_type": "code",
        "id": "8m2XzQv3G-na",
        "outputId": "69fad16f-bc0f-4253-9a43-60a004b158cf",
        "colab": {
          "base_uri": "https://localhost:8080/",
          "height": 35
        }
      },
      "cell_type": "code",
      "source": [
        "test_accuracy = 0\n",
        "for i, (x_, y_) in enumerate(test_dataset):\n",
        "    y_pre = model(x_)\n",
        "    test_accuracy += tf.reduce_mean(accuracy(y_, y_pre))\n",
        "test_accuracy /= i + 1\n",
        "\n",
        "print(\"test accuracy {:0.3f}\".format(test_accuracy.numpy()))"
      ],
      "execution_count": 24,
      "outputs": [
        {
          "output_type": "stream",
          "text": [
            "test accuracy 0.623\n"
          ],
          "name": "stdout"
        }
      ]
    },
    {
      "metadata": {
        "colab_type": "code",
        "id": "dnuY_yuOLrO-",
        "colab": {}
      },
      "cell_type": "code",
      "source": [
        ""
      ],
      "execution_count": 0,
      "outputs": []
    },
    {
      "metadata": {
        "colab_type": "code",
        "id": "Rzz2FNtOqzdC",
        "colab": {}
      },
      "cell_type": "code",
      "source": [
        ""
      ],
      "execution_count": 0,
      "outputs": []
    }
  ]
}