{
  "nbformat": 4,
  "nbformat_minor": 0,
  "metadata": {
    "colab": {
      "name": "residual_network.ipynb",
      "version": "0.3.2",
      "provenance": [],
      "include_colab_link": true
    },
    "kernelspec": {
      "name": "python3",
      "display_name": "Python 3"
    },
    "accelerator": "GPU"
  },
  "cells": [
    {
      "cell_type": "markdown",
      "metadata": {
        "id": "view-in-github",
        "colab_type": "text"
      },
      "source": [
        "<a href=\"https://colab.research.google.com/github/hellocybernetics/TensorFlow_Eager_Execution_Tutorials/blob/master/tutorials/intermediate/residual_network.ipynb\" target=\"_parent\"><img src=\"https://colab.research.google.com/assets/colab-badge.svg\" alt=\"Open In Colab\"/></a>"
      ]
    },
    {
      "metadata": {
        "id": "W-2MApJumG9i",
        "colab_type": "code",
        "colab": {}
      },
      "cell_type": "code",
      "source": [
        "import numpy as np\n",
        "import tensorflow as tf\n",
        "import matplotlib.pyplot as plt\n",
        "%matplotlib inline"
      ],
      "execution_count": 0,
      "outputs": []
    },
    {
      "metadata": {
        "id": "YY0lj_PWmNKz",
        "colab_type": "code",
        "colab": {}
      },
      "cell_type": "code",
      "source": [
        "tfk = tf.keras\n",
        "tfe = tf.contrib.eager\n",
        "\n",
        "tf.enable_eager_execution()"
      ],
      "execution_count": 0,
      "outputs": []
    },
    {
      "metadata": {
        "id": "Az2CgxXFmilT",
        "colab_type": "code",
        "outputId": "596303c3-38bc-40db-bd1b-33bbf5f6bcbd",
        "colab": {
          "base_uri": "https://localhost:8080/",
          "height": 197
        }
      },
      "cell_type": "code",
      "source": [
        "# Hyper parameters\n",
        "num_epochs = 10\n",
        "num_classes = 10\n",
        "batch_size = 256\n",
        "learning_rate = 0.001\n",
        "\n",
        "(x_train, y_train), (x_test, y_test) = tfk.datasets.cifar10.load_data()\n",
        "\n",
        "print(\"training_data\\n\", x_train.shape)\n",
        "print(\"test_data\\n\", x_test.shape)\n",
        "print(\"training_label\\n\", y_train.shape)\n",
        "print(\"test_label\\n\", y_test.shape)"
      ],
      "execution_count": 3,
      "outputs": [
        {
          "output_type": "stream",
          "text": [
            "Downloading data from https://www.cs.toronto.edu/~kriz/cifar-10-python.tar.gz\n",
            "170500096/170498071 [==============================] - 46s 0us/step\n",
            "training_data\n",
            " (50000, 32, 32, 3)\n",
            "test_data\n",
            " (10000, 32, 32, 3)\n",
            "training_label\n",
            " (50000, 1)\n",
            "test_label\n",
            " (10000, 1)\n"
          ],
          "name": "stdout"
        }
      ]
    },
    {
      "metadata": {
        "id": "U6MRu-QDok4N",
        "colab_type": "code",
        "outputId": "7f92a3df-bda0-4291-be16-3ce4b1c2607e",
        "colab": {
          "base_uri": "https://localhost:8080/",
          "height": 53
        }
      },
      "cell_type": "code",
      "source": [
        "x_train_ = tf.convert_to_tensor(x_train, dtype=tf.float32)\n",
        "y_train_ = tf.reshape(tf.one_hot(y_train, 10), (-1, 10))\n",
        "\n",
        "\n",
        "print(x_train_.shape)\n",
        "print(y_train_.shape)"
      ],
      "execution_count": 4,
      "outputs": [
        {
          "output_type": "stream",
          "text": [
            "(50000, 32, 32, 3)\n",
            "(50000, 10)\n"
          ],
          "name": "stdout"
        }
      ]
    },
    {
      "metadata": {
        "id": "6f15_qjHtZl8",
        "colab_type": "code",
        "outputId": "2f368c49-9ef3-4021-9484-0aa53e195db3",
        "colab": {
          "base_uri": "https://localhost:8080/",
          "height": 35
        }
      },
      "cell_type": "code",
      "source": [
        "train_dataset = (\n",
        "    tf.data.Dataset.from_tensor_slices((x_train, y_train))\n",
        "    .batch(batch_size)\n",
        "    .shuffle(10000)\n",
        ")\n",
        "\n",
        "train_dataset = (\n",
        "    train_dataset.map(lambda x, y: \n",
        "                      (tf.div(tf.cast(x, tf.float32), 255.0), \n",
        "                       tf.reshape(tf.one_hot(y, 10), (-1, 10))))\n",
        ")\n",
        "\n",
        "train_dataset = train_dataset.repeat()\n",
        "print(train_dataset)"
      ],
      "execution_count": 5,
      "outputs": [
        {
          "output_type": "stream",
          "text": [
            "<RepeatDataset shapes: ((?, 32, 32, 3), (?, 10)), types: (tf.float32, tf.float32)>\n"
          ],
          "name": "stdout"
        }
      ]
    },
    {
      "metadata": {
        "id": "hL_0Ca4mvJ1m",
        "colab_type": "code",
        "outputId": "eca6085e-f2cc-4f30-f627-370eb6ecf6e5",
        "colab": {
          "base_uri": "https://localhost:8080/",
          "height": 35
        }
      },
      "cell_type": "code",
      "source": [
        "test_dataset = (\n",
        "    tf.data.Dataset.from_tensor_slices((x_test, y_test))\n",
        "    .batch(1000)\n",
        "    .shuffle(10000)\n",
        ")\n",
        "test_dataset = (\n",
        "    test_dataset.map(lambda x, y: \n",
        "                      (tf.div(tf.cast(x, tf.float32), 255.0), \n",
        "                       tf.reshape(tf.one_hot(y, 10), (-1, 10))))\n",
        ")\n",
        "test_dataset = test_dataset.repeat()\n",
        "print(test_dataset)"
      ],
      "execution_count": 6,
      "outputs": [
        {
          "output_type": "stream",
          "text": [
            "<RepeatDataset shapes: ((?, 32, 32, 3), (?, 10)), types: (tf.float32, tf.float32)>\n"
          ],
          "name": "stdout"
        }
      ]
    },
    {
      "metadata": {
        "id": "jUvyjTFXm_0d",
        "colab_type": "code",
        "colab": {}
      },
      "cell_type": "code",
      "source": [
        "def conv3x3(out_channels, strides=1):\n",
        "    return tfk.layers.Conv2D(out_channels, kernel_size=3, \n",
        "                             strides=strides, padding='same', use_bias=False)"
      ],
      "execution_count": 0,
      "outputs": []
    },
    {
      "metadata": {
        "id": "ppETst-0nQtu",
        "colab_type": "code",
        "colab": {}
      },
      "cell_type": "code",
      "source": [
        "# Residual block\n",
        "class ResidualBlock(tfk.Model):\n",
        "    def __init__(self, out_channels, strides=1, downsample=None):\n",
        "        super(ResidualBlock, self).__init__(name='ResidualBlock')\n",
        "        self.conv1 = conv3x3(out_channels, strides)\n",
        "        self.bn1 = tfk.layers.BatchNormalization(axis=-1)\n",
        "        self.relu = tfk.layers.ReLU()\n",
        "        self.conv2 = conv3x3(out_channels)\n",
        "        self.bn2 = tfk.layers.BatchNormalization(axis=-1)\n",
        "        self.downsample = downsample\n",
        "        \n",
        "    def call(self, x):\n",
        "        residual = x\n",
        "        out = self.conv1(x)\n",
        "        out = self.bn1(out)\n",
        "        out = self.relu(out)\n",
        "        out = self.conv2(out)\n",
        "        out = self.bn2(out)\n",
        "        if self.downsample:\n",
        "            residual = self.downsample(x)\n",
        "        out += residual\n",
        "        out = self.relu(out)\n",
        "        return out"
      ],
      "execution_count": 0,
      "outputs": []
    },
    {
      "metadata": {
        "id": "c4dcZi3boLkG",
        "colab_type": "code",
        "colab": {}
      },
      "cell_type": "code",
      "source": [
        "class ResNet(tfk.Model):\n",
        "    def __init__(self, block, layers, num_classes=10):\n",
        "        super(ResNet, self).__init__(name='ResNet')\n",
        "        self.in_channels = 16\n",
        "        self.conv = conv3x3(16)\n",
        "        self.bn = tfk.layers.BatchNormalization(axis=-1)\n",
        "        self.relu = tfk.layers.ReLU()\n",
        "        self.layer1 = self.make_layer(block, 16, layers[0])\n",
        "        self.layer2 = self.make_layer(block, 32, layers[1], 2)\n",
        "        self.layer3 = self.make_layer(block, 64, layers[2], 2)\n",
        "        self.avg_pool = tfk.layers.AvgPool2D(8)\n",
        "        self.flatten = tfk.layers.Flatten()\n",
        "        self.fc = tfk.layers.Dense(num_classes)\n",
        "        \n",
        "    def make_layer(self, block, out_channels, blocks, strides=1):\n",
        "        downsample = None\n",
        "        if (strides != 1) or (self.in_channels != out_channels):\n",
        "            downsample = tfk.Sequential([\n",
        "                conv3x3(out_channels, strides=strides),\n",
        "                tfk.layers.BatchNormalization(axis=-1)])\n",
        "        layers = []\n",
        "        layers.append(block(out_channels, strides, downsample))\n",
        "        self.in_channels = out_channels\n",
        "        for i in range(1, blocks):\n",
        "            layers.append(block(out_channels))\n",
        "        return tfk.Sequential(layers)\n",
        "    \n",
        "    def call(self, x):\n",
        "        out = self.conv(x)\n",
        "        out = self.bn(out)\n",
        "        out = self.relu(out)\n",
        "        out = self.layer1(out)\n",
        "        out = self.layer2(out)\n",
        "        out = self.layer3(out)\n",
        "        out = self.avg_pool(out)\n",
        "        out = self.flatten(out)\n",
        "        out = self.fc(out)\n",
        "        return out"
      ],
      "execution_count": 0,
      "outputs": []
    },
    {
      "metadata": {
        "id": "E6vmD9PdoQxW",
        "colab_type": "code",
        "colab": {}
      },
      "cell_type": "code",
      "source": [
        "model = ResNet(ResidualBlock, [2, 2, 2])"
      ],
      "execution_count": 0,
      "outputs": []
    },
    {
      "metadata": {
        "id": "Qx0zHRhaqUL3",
        "colab_type": "code",
        "outputId": "3a83572e-953e-4183-a45d-dcd4f4be6b90",
        "colab": {
          "base_uri": "https://localhost:8080/",
          "height": 467
        }
      },
      "cell_type": "code",
      "source": [
        "model.compile(optimizer=tf.train.AdamOptimizer(learning_rate),\n",
        "              loss=tf.losses.softmax_cross_entropy,\n",
        "              metrics=[\"accuracy\"])\n",
        "model(x_train_[:50]).shape\n",
        "model.summary()"
      ],
      "execution_count": 11,
      "outputs": [
        {
          "output_type": "stream",
          "text": [
            "_________________________________________________________________\n",
            "Layer (type)                 Output Shape              Param #   \n",
            "=================================================================\n",
            "conv2d (Conv2D)              multiple                  432       \n",
            "_________________________________________________________________\n",
            "batch_normalization (BatchNo multiple                  64        \n",
            "_________________________________________________________________\n",
            "re_lu (ReLU)                 multiple                  0         \n",
            "_________________________________________________________________\n",
            "sequential (Sequential)      multiple                  9472      \n",
            "_________________________________________________________________\n",
            "sequential_2 (Sequential)    multiple                  37504     \n",
            "_________________________________________________________________\n",
            "sequential_4 (Sequential)    multiple                  148736    \n",
            "_________________________________________________________________\n",
            "average_pooling2d (AveragePo multiple                  0         \n",
            "_________________________________________________________________\n",
            "flatten (Flatten)            multiple                  0         \n",
            "_________________________________________________________________\n",
            "dense (Dense)                multiple                  650       \n",
            "=================================================================\n",
            "Total params: 196,858\n",
            "Trainable params: 195,738\n",
            "Non-trainable params: 1,120\n",
            "_________________________________________________________________\n"
          ],
          "name": "stdout"
        }
      ]
    },
    {
      "metadata": {
        "id": "EGEcgjposP9I",
        "colab_type": "code",
        "outputId": "ab97dd47-1254-4763-ce64-bcf6ca1bc814",
        "colab": {
          "base_uri": "https://localhost:8080/",
          "height": 395
        }
      },
      "cell_type": "code",
      "source": [
        "model.fit(train_dataset,\n",
        "          batch_size=batch_size,\n",
        "          epochs=num_epochs,\n",
        "          steps_per_epoch=int(x_train.shape[0]/batch_size),\n",
        ")"
      ],
      "execution_count": 12,
      "outputs": [
        {
          "output_type": "stream",
          "text": [
            "Epoch 1/10\n",
            "195/195 [==============================] - 34s 176ms/step - loss: 1.4596 - acc: 0.4686\n",
            "Epoch 2/10\n",
            "195/195 [==============================] - 34s 172ms/step - loss: 1.0619 - acc: 0.6191\n",
            "Epoch 3/10\n",
            "195/195 [==============================] - 33s 172ms/step - loss: 0.8769 - acc: 0.6908\n",
            "Epoch 4/10\n",
            "195/195 [==============================] - 34s 172ms/step - loss: 0.7570 - acc: 0.7326\n",
            "Epoch 5/10\n",
            "195/195 [==============================] - 33s 171ms/step - loss: 0.6612 - acc: 0.7683\n",
            "Epoch 6/10\n",
            "195/195 [==============================] - 33s 172ms/step - loss: 0.5843 - acc: 0.7966\n",
            "Epoch 7/10\n",
            "195/195 [==============================] - 33s 171ms/step - loss: 0.5179 - acc: 0.8201\n",
            "Epoch 8/10\n",
            "195/195 [==============================] - 34s 173ms/step - loss: 0.4656 - acc: 0.8364\n",
            "Epoch 9/10\n",
            "195/195 [==============================] - 33s 172ms/step - loss: 0.4131 - acc: 0.8549\n",
            "Epoch 10/10\n",
            "195/195 [==============================] - 33s 172ms/step - loss: 0.3726 - acc: 0.8712\n"
          ],
          "name": "stdout"
        },
        {
          "output_type": "execute_result",
          "data": {
            "text/plain": [
              "<tensorflow.python.keras.callbacks.History at 0x7fafb267a898>"
            ]
          },
          "metadata": {
            "tags": []
          },
          "execution_count": 12
        }
      ]
    },
    {
      "metadata": {
        "id": "8M37rwRAt0kk",
        "colab_type": "code",
        "colab": {
          "base_uri": "https://localhost:8080/",
          "height": 53
        },
        "outputId": "fb3c6bc2-4c1c-4df8-a241-7217dcb2f336"
      },
      "cell_type": "code",
      "source": [
        "model.evaluate(test_dataset, steps=100)"
      ],
      "execution_count": 17,
      "outputs": [
        {
          "output_type": "stream",
          "text": [
            "100/100 [==============================] - 14s 142ms/step\n"
          ],
          "name": "stdout"
        },
        {
          "output_type": "execute_result",
          "data": {
            "text/plain": [
              "[0.7618808209896087, 0.7497999966144562]"
            ]
          },
          "metadata": {
            "tags": []
          },
          "execution_count": 17
        }
      ]
    }
  ]
}