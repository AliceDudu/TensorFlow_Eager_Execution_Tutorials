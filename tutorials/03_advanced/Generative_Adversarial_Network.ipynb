{
  "nbformat": 4,
  "nbformat_minor": 0,
  "metadata": {
    "colab": {
      "name": "Generative_Adversarial_Network",
      "version": "0.3.2",
      "provenance": [],
      "collapsed_sections": [],
      "include_colab_link": true
    },
    "kernelspec": {
      "name": "python3",
      "display_name": "Python 3"
    },
    "accelerator": "GPU"
  },
  "cells": [
    {
      "cell_type": "markdown",
      "metadata": {
        "id": "view-in-github",
        "colab_type": "text"
      },
      "source": [
        "<a href=\"https://colab.research.google.com/github/hellocybernetics/TensorFlow_Eager_Execution_Tutorials/blob/master/tutorials/03_advanced/Generative_Adversarial_Network.ipynb\" target=\"_parent\"><img src=\"https://colab.research.google.com/assets/colab-badge.svg\" alt=\"Open In Colab\"/></a>"
      ]
    },
    {
      "metadata": {
        "id": "S5NMeJl0ip3T",
        "colab_type": "code",
        "colab": {}
      },
      "cell_type": "code",
      "source": [
        "import tensorflow as tf\n",
        "import matplotlib.pyplot as plt\n",
        "import seaborn as sns\n",
        "import numpy as np\n",
        "%matplotlib inline\n",
        "\n",
        "tf.enable_eager_execution()\n",
        "L = tf.keras.layers\n",
        "metrics = tf.keras.metrics"
      ],
      "execution_count": 0,
      "outputs": []
    },
    {
      "metadata": {
        "id": "viGajeovi49h",
        "colab_type": "code",
        "colab": {}
      },
      "cell_type": "code",
      "source": [
        "latent_size = 64\n",
        "hidden_size = 256\n",
        "image_size = 784\n",
        "num_epochs = 50\n",
        "batch_size = 100"
      ],
      "execution_count": 0,
      "outputs": []
    },
    {
      "metadata": {
        "id": "ezIcOZU0_Nek",
        "colab_type": "code",
        "colab": {}
      },
      "cell_type": "code",
      "source": [
        ""
      ],
      "execution_count": 0,
      "outputs": []
    },
    {
      "metadata": {
        "id": "GxZ8T8v4i5N2",
        "colab_type": "code",
        "outputId": "23bbda0e-df70-441d-ae08-fa11429e86d8",
        "colab": {
          "base_uri": "https://localhost:8080/",
          "height": 71
        }
      },
      "cell_type": "code",
      "source": [
        "train_data, test_data = tf.keras.datasets.mnist.load_data()\n",
        "\n",
        "N = train_data[0].shape[0]\n",
        "N"
      ],
      "execution_count": 3,
      "outputs": [
        {
          "output_type": "stream",
          "text": [
            "Downloading data from https://storage.googleapis.com/tensorflow/tf-keras-datasets/mnist.npz\n",
            "11493376/11490434 [==============================] - 0s 0us/step\n"
          ],
          "name": "stdout"
        },
        {
          "output_type": "execute_result",
          "data": {
            "text/plain": [
              "60000"
            ]
          },
          "metadata": {
            "tags": []
          },
          "execution_count": 3
        }
      ]
    },
    {
      "metadata": {
        "id": "rzMMms_bi5dh",
        "colab_type": "code",
        "outputId": "af5954d5-d0e0-496c-de0e-ab4eea11696f",
        "colab": {
          "base_uri": "https://localhost:8080/",
          "height": 35
        }
      },
      "cell_type": "code",
      "source": [
        "train_dataset = tf.data.Dataset.from_tensor_slices((\n",
        "    train_data[0].reshape(-1, 28, 28, 1).astype(np.float32) / 255, \n",
        "    train_data[1].astype(np.int32)\n",
        ")).batch(batch_size).shuffle(10000)\n",
        "\n",
        "train_dataset"
      ],
      "execution_count": 4,
      "outputs": [
        {
          "output_type": "execute_result",
          "data": {
            "text/plain": [
              "<ShuffleDataset shapes: ((?, 28, 28, 1), (?,)), types: (tf.float32, tf.int32)>"
            ]
          },
          "metadata": {
            "tags": []
          },
          "execution_count": 4
        }
      ]
    },
    {
      "metadata": {
        "id": "XfmxFB-Yi5v2",
        "colab_type": "code",
        "outputId": "d195b41b-28b4-486e-d501-1e1186f4c363",
        "colab": {
          "base_uri": "https://localhost:8080/",
          "height": 287
        }
      },
      "cell_type": "code",
      "source": [
        "D = tf.keras.Sequential([\n",
        "    L.InputLayer([28, 28, 1]),\n",
        "    L.Flatten(),\n",
        "    L.Dense(hidden_size, activation=tf.nn.leaky_relu),\n",
        "    L.Dense(hidden_size, activation=tf.nn.leaky_relu),\n",
        "    L.Dense(1, activation=tf.nn.sigmoid),\n",
        "])\n",
        "\n",
        "D.summary()"
      ],
      "execution_count": 47,
      "outputs": [
        {
          "output_type": "stream",
          "text": [
            "_________________________________________________________________\n",
            "Layer (type)                 Output Shape              Param #   \n",
            "=================================================================\n",
            "flatten_4 (Flatten)          (None, 784)               0         \n",
            "_________________________________________________________________\n",
            "dense_33 (Dense)             (None, 256)               200960    \n",
            "_________________________________________________________________\n",
            "dense_34 (Dense)             (None, 256)               65792     \n",
            "_________________________________________________________________\n",
            "dense_35 (Dense)             (None, 1)                 257       \n",
            "=================================================================\n",
            "Total params: 267,009\n",
            "Trainable params: 267,009\n",
            "Non-trainable params: 0\n",
            "_________________________________________________________________\n"
          ],
          "name": "stdout"
        }
      ]
    },
    {
      "metadata": {
        "id": "fbEwV7l8uhss",
        "colab_type": "code",
        "colab": {}
      },
      "cell_type": "code",
      "source": [
        ""
      ],
      "execution_count": 0,
      "outputs": []
    },
    {
      "metadata": {
        "id": "j-n6wqaIi6Bm",
        "colab_type": "code",
        "outputId": "e0c198ec-b111-48a9-adf7-66837b134e0b",
        "colab": {
          "base_uri": "https://localhost:8080/",
          "height": 287
        }
      },
      "cell_type": "code",
      "source": [
        "G = tf.keras.Sequential([\n",
        "    L.InputLayer([latent_size]),\n",
        "    L.Dense(hidden_size, activation=tf.nn.relu),\n",
        "    L.Dense(hidden_size, activation=tf.nn.relu),\n",
        "    L.Dense(784, activation=tf.nn.tanh),\n",
        "    L.Reshape([28, 28, 1])\n",
        "])\n",
        "\n",
        "G.summary()"
      ],
      "execution_count": 48,
      "outputs": [
        {
          "output_type": "stream",
          "text": [
            "_________________________________________________________________\n",
            "Layer (type)                 Output Shape              Param #   \n",
            "=================================================================\n",
            "dense_36 (Dense)             (None, 256)               16640     \n",
            "_________________________________________________________________\n",
            "dense_37 (Dense)             (None, 256)               65792     \n",
            "_________________________________________________________________\n",
            "dense_38 (Dense)             (None, 784)               201488    \n",
            "_________________________________________________________________\n",
            "reshape_7 (Reshape)          (None, 28, 28, 1)         0         \n",
            "=================================================================\n",
            "Total params: 283,920\n",
            "Trainable params: 283,920\n",
            "Non-trainable params: 0\n",
            "_________________________________________________________________\n"
          ],
          "name": "stdout"
        }
      ]
    },
    {
      "metadata": {
        "id": "bJ0mlYPEmx8n",
        "colab_type": "code",
        "colab": {}
      },
      "cell_type": "code",
      "source": [
        "def loss_fn(y, y_pre):\n",
        "    return tf.reduce_sum(metrics.binary_crossentropy(y, y_pre))\n",
        "\n",
        "optimizer = tf.train.AdamOptimizer(learning_rate=2e-4)\n",
        "\n",
        "def denorm(x):\n",
        "    out = (x + 1) / 2\n",
        "    return tf.clip_by_value(x, 0, 1)"
      ],
      "execution_count": 0,
      "outputs": []
    },
    {
      "metadata": {
        "id": "jYxlXhwXmyMR",
        "colab_type": "code",
        "colab": {}
      },
      "cell_type": "code",
      "source": [
        "@tf.contrib.eager.defun\n",
        "def D_train(images):\n",
        "    real_labels = tf.ones([batch_size, 1])\n",
        "    fake_labels = tf.zeros([batch_size, 1])    \n",
        "\n",
        "    # Compute BCE_Loss using real images where BCE_Loss(x, y): \n",
        "    #         - y * log(D(x)) - (1-y) * log(1 - D(x))\n",
        "    # Second term of the loss is always zero since real_labels == 1\n",
        "    \n",
        "    with tf.GradientTape() as g:\n",
        "        g.watch(D.variables)\n",
        "        outputs = D(images)\n",
        "        d_loss_real = loss_fn(real_labels, outputs)\n",
        "    \n",
        "        # Compute BCELoss using fake images\n",
        "        # First term of the loss is always zero since fake_labels == 0\n",
        "        z = tf.random_normal([batch_size, latent_size])\n",
        "        fake_images = G(z)\n",
        "        outputs = D(fake_images)\n",
        "        d_loss_fake = loss_fn(fake_labels, outputs)\n",
        "        \n",
        "        # Backprop and optimize\n",
        "        d_loss = d_loss_real + d_loss_fake\n",
        "    \n",
        "    grads = g.gradient(d_loss, D.variables)\n",
        "    optimizer.apply_gradients(zip(grads, D.variables))\n",
        "    \n",
        "    return d_loss"
      ],
      "execution_count": 0,
      "outputs": []
    },
    {
      "metadata": {
        "id": "OP9KkPBjmyft",
        "colab_type": "code",
        "colab": {}
      },
      "cell_type": "code",
      "source": [
        "@tf.contrib.eager.defun\n",
        "def G_train():\n",
        "    real_labels = tf.ones([batch_size, 1])\n",
        "    # Compute loss with fake images\n",
        "    z = tf.random_normal([batch_size, latent_size])\n",
        "    \n",
        "    with tf.GradientTape() as g:\n",
        "        g.watch(G.variables)\n",
        "        fake_images = G(z)\n",
        "        outputs = D(fake_images)\n",
        "\n",
        "        # We train G to maximize log(D(G(z)) instead of minimizing log(1-D(G(z)))\n",
        "        # For the reason, see the last paragraph of section 3. \n",
        "        # https://arxiv.org/pdf/1406.2661.pdf\n",
        "        g_loss = loss_fn(real_labels, outputs)\n",
        "\n",
        "    # Backprop and optimize\n",
        "    grads = g.gradient(g_loss, G.variables)\n",
        "    optimizer.apply_gradients(zip(grads, G.variables))    \n",
        "\n",
        "    return g_loss"
      ],
      "execution_count": 0,
      "outputs": []
    },
    {
      "metadata": {
        "id": "6rr0tRfyigyx",
        "colab_type": "code",
        "outputId": "ac30f813-5642-46df-fa32-b3d6473c3c45",
        "colab": {
          "base_uri": "https://localhost:8080/",
          "height": 2717
        }
      },
      "cell_type": "code",
      "source": [
        "# Start training\n",
        "total_step = N // batch_size\n",
        "for epoch in range(num_epochs):\n",
        "    for i, (images, _) in enumerate(train_dataset):\n",
        "\n",
        "        with tf.device(\"/gpu:0\"):\n",
        "\n",
        "            d_loss = D_train(images)\n",
        "\n",
        "            g_loss = G_train()\n",
        "        \n",
        "        if (i+1) % 200 == 0:\n",
        "            print('Epoch [{}/{}], Step [{}/{}], d_loss: {:.4f}, g_loss: {:.4f}' \n",
        "                  .format(epoch, num_epochs, i+1, total_step, \n",
        "                          d_loss.numpy(), g_loss.numpy()))"
      ],
      "execution_count": 52,
      "outputs": [
        {
          "output_type": "stream",
          "text": [
            "Epoch [0/50], Step [200/600], d_loss: 9.2554, g_loss: 740.2656\n",
            "Epoch [0/50], Step [400/600], d_loss: 8.2782, g_loss: 1104.1801\n",
            "Epoch [0/50], Step [600/600], d_loss: 13.6297, g_loss: 1083.5762\n",
            "Epoch [1/50], Step [200/600], d_loss: 21.3965, g_loss: 523.4420\n",
            "Epoch [1/50], Step [400/600], d_loss: 119.9023, g_loss: 209.6857\n",
            "Epoch [1/50], Step [600/600], d_loss: 23.2452, g_loss: 398.6872\n",
            "Epoch [2/50], Step [200/600], d_loss: 21.8162, g_loss: 295.7632\n",
            "Epoch [2/50], Step [400/600], d_loss: 22.6837, g_loss: 323.8384\n",
            "Epoch [2/50], Step [600/600], d_loss: 3.2099, g_loss: 591.1722\n",
            "Epoch [3/50], Step [200/600], d_loss: 5.1135, g_loss: 461.4583\n",
            "Epoch [3/50], Step [400/600], d_loss: 18.2868, g_loss: 540.5867\n",
            "Epoch [3/50], Step [600/600], d_loss: 8.8716, g_loss: 653.5228\n",
            "Epoch [4/50], Step [200/600], d_loss: 12.1622, g_loss: 470.1958\n",
            "Epoch [4/50], Step [400/600], d_loss: 7.6254, g_loss: 552.0044\n",
            "Epoch [4/50], Step [600/600], d_loss: 8.3175, g_loss: 497.2496\n",
            "Epoch [5/50], Step [200/600], d_loss: 10.7230, g_loss: 697.9858\n",
            "Epoch [5/50], Step [400/600], d_loss: 8.1356, g_loss: 551.9294\n",
            "Epoch [5/50], Step [600/600], d_loss: 28.4245, g_loss: 636.7703\n",
            "Epoch [6/50], Step [200/600], d_loss: 6.2915, g_loss: 652.0208\n",
            "Epoch [6/50], Step [400/600], d_loss: 16.3489, g_loss: 640.2366\n",
            "Epoch [6/50], Step [600/600], d_loss: 11.2011, g_loss: 588.2314\n",
            "Epoch [7/50], Step [200/600], d_loss: 6.2070, g_loss: 573.5827\n",
            "Epoch [7/50], Step [400/600], d_loss: 5.8148, g_loss: 701.4988\n",
            "Epoch [7/50], Step [600/600], d_loss: 14.8080, g_loss: 461.3105\n",
            "Epoch [8/50], Step [200/600], d_loss: 4.7376, g_loss: 519.6556\n",
            "Epoch [8/50], Step [400/600], d_loss: 25.6629, g_loss: 540.8023\n",
            "Epoch [8/50], Step [600/600], d_loss: 4.5798, g_loss: 633.9103\n",
            "Epoch [9/50], Step [200/600], d_loss: 3.1120, g_loss: 554.8448\n",
            "Epoch [9/50], Step [400/600], d_loss: 11.5485, g_loss: 506.0203\n",
            "Epoch [9/50], Step [600/600], d_loss: 11.8721, g_loss: 548.7704\n",
            "Epoch [10/50], Step [200/600], d_loss: 5.9724, g_loss: 625.4291\n",
            "Epoch [10/50], Step [400/600], d_loss: 10.3665, g_loss: 557.7842\n",
            "Epoch [10/50], Step [600/600], d_loss: 17.7620, g_loss: 563.1672\n",
            "Epoch [11/50], Step [200/600], d_loss: 4.3289, g_loss: 652.2133\n",
            "Epoch [11/50], Step [400/600], d_loss: 14.3912, g_loss: 532.6146\n",
            "Epoch [11/50], Step [600/600], d_loss: 6.3793, g_loss: 604.0817\n",
            "Epoch [12/50], Step [200/600], d_loss: 9.5434, g_loss: 684.5588\n",
            "Epoch [12/50], Step [400/600], d_loss: 8.4830, g_loss: 626.3699\n",
            "Epoch [12/50], Step [600/600], d_loss: 10.0993, g_loss: 624.0499\n",
            "Epoch [13/50], Step [200/600], d_loss: 6.2235, g_loss: 750.9378\n",
            "Epoch [13/50], Step [400/600], d_loss: 9.1996, g_loss: 733.1526\n",
            "Epoch [13/50], Step [600/600], d_loss: 6.5820, g_loss: 617.0283\n",
            "Epoch [14/50], Step [200/600], d_loss: 2.3866, g_loss: 760.4990\n",
            "Epoch [14/50], Step [400/600], d_loss: 11.0629, g_loss: 576.4359\n",
            "Epoch [14/50], Step [600/600], d_loss: 9.1948, g_loss: 542.9994\n",
            "Epoch [15/50], Step [200/600], d_loss: 11.6897, g_loss: 639.6086\n",
            "Epoch [15/50], Step [400/600], d_loss: 2.6689, g_loss: 663.5947\n",
            "Epoch [15/50], Step [600/600], d_loss: 8.1400, g_loss: 837.9819\n",
            "Epoch [16/50], Step [200/600], d_loss: 4.3469, g_loss: 626.4070\n",
            "Epoch [16/50], Step [400/600], d_loss: 6.0582, g_loss: 775.1246\n",
            "Epoch [16/50], Step [600/600], d_loss: 6.0111, g_loss: 559.8059\n",
            "Epoch [17/50], Step [200/600], d_loss: 8.8467, g_loss: 867.2278\n",
            "Epoch [17/50], Step [400/600], d_loss: 14.1023, g_loss: 616.7296\n",
            "Epoch [17/50], Step [600/600], d_loss: 5.2343, g_loss: 623.1278\n",
            "Epoch [18/50], Step [200/600], d_loss: 10.1905, g_loss: 598.3489\n",
            "Epoch [18/50], Step [400/600], d_loss: 4.6845, g_loss: 894.7761\n",
            "Epoch [18/50], Step [600/600], d_loss: 6.4888, g_loss: 794.5852\n",
            "Epoch [19/50], Step [200/600], d_loss: 6.1096, g_loss: 809.7378\n",
            "Epoch [19/50], Step [400/600], d_loss: 2.0168, g_loss: 760.4019\n",
            "Epoch [19/50], Step [600/600], d_loss: 8.3461, g_loss: 646.8141\n",
            "Epoch [20/50], Step [200/600], d_loss: 2.6098, g_loss: 858.3831\n",
            "Epoch [20/50], Step [400/600], d_loss: 6.1484, g_loss: 596.6650\n",
            "Epoch [20/50], Step [600/600], d_loss: 7.6198, g_loss: 810.4717\n",
            "Epoch [21/50], Step [200/600], d_loss: 3.7512, g_loss: 703.1011\n",
            "Epoch [21/50], Step [400/600], d_loss: 6.5155, g_loss: 859.0312\n",
            "Epoch [21/50], Step [600/600], d_loss: 14.1112, g_loss: 583.7874\n",
            "Epoch [22/50], Step [200/600], d_loss: 3.3165, g_loss: 686.0814\n",
            "Epoch [22/50], Step [400/600], d_loss: 9.5437, g_loss: 630.8869\n",
            "Epoch [22/50], Step [600/600], d_loss: 12.4700, g_loss: 865.2802\n",
            "Epoch [23/50], Step [200/600], d_loss: 8.4997, g_loss: 629.9144\n",
            "Epoch [23/50], Step [400/600], d_loss: 7.3959, g_loss: 809.2622\n",
            "Epoch [23/50], Step [600/600], d_loss: 4.4556, g_loss: 849.9199\n",
            "Epoch [24/50], Step [200/600], d_loss: 13.8558, g_loss: 700.4003\n",
            "Epoch [24/50], Step [400/600], d_loss: 5.7690, g_loss: 654.1951\n",
            "Epoch [24/50], Step [600/600], d_loss: 9.3832, g_loss: 586.7787\n",
            "Epoch [25/50], Step [200/600], d_loss: 4.1834, g_loss: 696.0035\n",
            "Epoch [25/50], Step [400/600], d_loss: 13.4262, g_loss: 581.1463\n",
            "Epoch [25/50], Step [600/600], d_loss: 1.9922, g_loss: 1032.3273\n",
            "Epoch [26/50], Step [200/600], d_loss: 2.3199, g_loss: 742.6909\n",
            "Epoch [26/50], Step [400/600], d_loss: 15.8018, g_loss: 643.8279\n",
            "Epoch [26/50], Step [600/600], d_loss: 17.5391, g_loss: 643.5852\n",
            "Epoch [27/50], Step [200/600], d_loss: 20.6602, g_loss: 597.6755\n",
            "Epoch [27/50], Step [400/600], d_loss: 10.1477, g_loss: 805.6477\n",
            "Epoch [27/50], Step [600/600], d_loss: 12.7940, g_loss: 549.3361\n",
            "Epoch [28/50], Step [200/600], d_loss: 8.9902, g_loss: 700.9448\n",
            "Epoch [28/50], Step [400/600], d_loss: 15.6602, g_loss: 680.0863\n",
            "Epoch [28/50], Step [600/600], d_loss: 5.0889, g_loss: 692.8123\n",
            "Epoch [29/50], Step [200/600], d_loss: 5.6411, g_loss: 707.1626\n",
            "Epoch [29/50], Step [400/600], d_loss: 17.5168, g_loss: 678.8237\n",
            "Epoch [29/50], Step [600/600], d_loss: 9.2196, g_loss: 557.0195\n",
            "Epoch [30/50], Step [200/600], d_loss: 12.0820, g_loss: 607.5413\n",
            "Epoch [30/50], Step [400/600], d_loss: 38.2138, g_loss: 747.3711\n",
            "Epoch [30/50], Step [600/600], d_loss: 14.0447, g_loss: 696.4225\n",
            "Epoch [31/50], Step [200/600], d_loss: 4.5899, g_loss: 709.7213\n",
            "Epoch [31/50], Step [400/600], d_loss: 5.8023, g_loss: 739.4946\n",
            "Epoch [31/50], Step [600/600], d_loss: 7.8622, g_loss: 664.0417\n",
            "Epoch [32/50], Step [200/600], d_loss: 10.3938, g_loss: 710.3897\n",
            "Epoch [32/50], Step [400/600], d_loss: 4.6057, g_loss: 713.1718\n",
            "Epoch [32/50], Step [600/600], d_loss: 10.4791, g_loss: 630.1877\n",
            "Epoch [33/50], Step [200/600], d_loss: 5.8678, g_loss: 680.9528\n",
            "Epoch [33/50], Step [400/600], d_loss: 12.7787, g_loss: 641.2979\n",
            "Epoch [33/50], Step [600/600], d_loss: 12.5726, g_loss: 636.2786\n",
            "Epoch [34/50], Step [200/600], d_loss: 10.8858, g_loss: 691.7145\n",
            "Epoch [34/50], Step [400/600], d_loss: 6.1452, g_loss: 795.6589\n",
            "Epoch [34/50], Step [600/600], d_loss: 19.7190, g_loss: 664.9436\n",
            "Epoch [35/50], Step [200/600], d_loss: 7.1282, g_loss: 657.0521\n",
            "Epoch [35/50], Step [400/600], d_loss: 6.6429, g_loss: 735.3036\n",
            "Epoch [35/50], Step [600/600], d_loss: 9.5990, g_loss: 719.1378\n",
            "Epoch [36/50], Step [200/600], d_loss: 6.8061, g_loss: 604.5635\n",
            "Epoch [36/50], Step [400/600], d_loss: 22.3921, g_loss: 639.3752\n",
            "Epoch [36/50], Step [600/600], d_loss: 8.8080, g_loss: 722.2816\n",
            "Epoch [37/50], Step [200/600], d_loss: 5.1859, g_loss: 639.3668\n",
            "Epoch [37/50], Step [400/600], d_loss: 12.3067, g_loss: 735.9615\n",
            "Epoch [37/50], Step [600/600], d_loss: 7.8327, g_loss: 714.8790\n",
            "Epoch [38/50], Step [200/600], d_loss: 5.3800, g_loss: 606.0412\n",
            "Epoch [38/50], Step [400/600], d_loss: 14.4433, g_loss: 598.2130\n",
            "Epoch [38/50], Step [600/600], d_loss: 17.0722, g_loss: 592.7910\n",
            "Epoch [39/50], Step [200/600], d_loss: 9.5256, g_loss: 761.3175\n",
            "Epoch [39/50], Step [400/600], d_loss: 16.4064, g_loss: 605.7700\n",
            "Epoch [39/50], Step [600/600], d_loss: 22.2652, g_loss: 787.2057\n",
            "Epoch [40/50], Step [200/600], d_loss: 9.5460, g_loss: 673.9191\n",
            "Epoch [40/50], Step [400/600], d_loss: 9.5387, g_loss: 568.5432\n",
            "Epoch [40/50], Step [600/600], d_loss: 13.1548, g_loss: 707.2713\n",
            "Epoch [41/50], Step [200/600], d_loss: 12.0297, g_loss: 709.6060\n",
            "Epoch [41/50], Step [400/600], d_loss: 5.5176, g_loss: 773.9913\n",
            "Epoch [41/50], Step [600/600], d_loss: 11.7695, g_loss: 613.2629\n",
            "Epoch [42/50], Step [200/600], d_loss: 9.5935, g_loss: 617.4498\n",
            "Epoch [42/50], Step [400/600], d_loss: 16.6898, g_loss: 703.4172\n",
            "Epoch [42/50], Step [600/600], d_loss: 13.4156, g_loss: 819.4801\n",
            "Epoch [43/50], Step [200/600], d_loss: 14.5326, g_loss: 581.1900\n",
            "Epoch [43/50], Step [400/600], d_loss: 4.0291, g_loss: 635.8826\n",
            "Epoch [43/50], Step [600/600], d_loss: 16.2238, g_loss: 832.2054\n",
            "Epoch [44/50], Step [200/600], d_loss: 25.5766, g_loss: 778.9657\n",
            "Epoch [44/50], Step [400/600], d_loss: 17.6958, g_loss: 632.7712\n",
            "Epoch [44/50], Step [600/600], d_loss: 5.6920, g_loss: 596.5121\n",
            "Epoch [45/50], Step [200/600], d_loss: 17.6444, g_loss: 670.5408\n",
            "Epoch [45/50], Step [400/600], d_loss: 16.2435, g_loss: 585.8189\n",
            "Epoch [45/50], Step [600/600], d_loss: 9.7032, g_loss: 633.1081\n",
            "Epoch [46/50], Step [200/600], d_loss: 14.9770, g_loss: 720.2416\n",
            "Epoch [46/50], Step [400/600], d_loss: 10.9491, g_loss: 597.3926\n",
            "Epoch [46/50], Step [600/600], d_loss: 8.3336, g_loss: 608.6636\n",
            "Epoch [47/50], Step [200/600], d_loss: 10.7416, g_loss: 668.0651\n",
            "Epoch [47/50], Step [400/600], d_loss: 14.0578, g_loss: 735.3655\n",
            "Epoch [47/50], Step [600/600], d_loss: 18.4876, g_loss: 615.0427\n",
            "Epoch [48/50], Step [200/600], d_loss: 8.6892, g_loss: 610.4831\n",
            "Epoch [48/50], Step [400/600], d_loss: 7.7365, g_loss: 581.1006\n",
            "Epoch [48/50], Step [600/600], d_loss: 17.0898, g_loss: 687.5448\n",
            "Epoch [49/50], Step [200/600], d_loss: 11.8750, g_loss: 677.0939\n",
            "Epoch [49/50], Step [400/600], d_loss: 17.0769, g_loss: 596.9611\n",
            "Epoch [49/50], Step [600/600], d_loss: 10.6591, g_loss: 571.0640\n"
          ],
          "name": "stdout"
        }
      ]
    },
    {
      "metadata": {
        "id": "Z5CIawKMtXCT",
        "colab_type": "code",
        "colab": {}
      },
      "cell_type": "code",
      "source": [
        "image_generated = G(tf.random_normal([10, latent_size]))"
      ],
      "execution_count": 0,
      "outputs": []
    },
    {
      "metadata": {
        "id": "aJb5XkpnysHM",
        "colab_type": "code",
        "colab": {}
      },
      "cell_type": "code",
      "source": [
        "image_generated_numpy = image_generated.numpy().reshape(-1, 28, 28)"
      ],
      "execution_count": 0,
      "outputs": []
    },
    {
      "metadata": {
        "id": "-3BP_2Zyy28P",
        "colab_type": "code",
        "outputId": "923c901d-dcda-4ce3-f18a-544169263e39",
        "colab": {
          "base_uri": "https://localhost:8080/",
          "height": 478
        }
      },
      "cell_type": "code",
      "source": [
        "plt.figure(figsize=(20, 8))\n",
        "for i, img_show in enumerate(image_generated_numpy):\n",
        "    plt.subplot(2, 5, i+1)\n",
        "    plt.imshow(img_show)"
      ],
      "execution_count": 55,
      "outputs": [
        {
          "output_type": "display_data",
          "data": {
            "image/png": "[encoded data removed]",
            "text/plain": [
              "<matplotlib.figure.Figure at 0x7f3c56c4be80>"
            ]
          },
          "metadata": {
            "tags": []
          }
        }
      ]
    },
    {
      "metadata": {
        "id": "9v2tNzpCzwEh",
        "colab_type": "code",
        "colab": {}
      },
      "cell_type": "code",
      "source": [
        ""
      ],
      "execution_count": 0,
      "outputs": []
    }
  ]
}