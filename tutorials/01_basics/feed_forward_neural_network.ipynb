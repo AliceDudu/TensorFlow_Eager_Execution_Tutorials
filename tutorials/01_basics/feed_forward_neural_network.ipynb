{
  "nbformat": 4,
  "nbformat_minor": 0,
  "metadata": {
    "colab": {
      "name": "feed_forward_neural_network.ipynb",
      "version": "0.3.2",
      "provenance": [],
      "include_colab_link": true
    },
    "kernelspec": {
      "name": "python3",
      "display_name": "Python 3"
    }
  },
  "cells": [
    {
      "cell_type": "markdown",
      "metadata": {
        "id": "view-in-github",
        "colab_type": "text"
      },
      "source": [
        "<a href=\"https://colab.research.google.com/github/hellocybernetics/TensorFlow_Eager_Execution_Tutorials/blob/master/tutorials/01_basics/feed_forward_neural_network.ipynb\" target=\"_parent\"><img src=\"https://colab.research.google.com/assets/colab-badge.svg\" alt=\"Open In Colab\"/></a>"
      ]
    },
    {
      "metadata": {
        "id": "iWsdCo5pWDK0",
        "colab_type": "code",
        "colab": {}
      },
      "cell_type": "code",
      "source": [
        "import numpy as np\n",
        "import tensorflow as tf\n",
        "import matplotlib.pyplot as plt\n",
        "%matplotlib inline\n",
        "\n",
        "tf.enable_eager_execution()"
      ],
      "execution_count": 0,
      "outputs": []
    },
    {
      "metadata": {
        "id": "fobT_XiMWLVB",
        "colab_type": "code",
        "colab": {}
      },
      "cell_type": "code",
      "source": [
        "tfe = tf.contrib.eager\n",
        "tfk = tf.keras"
      ],
      "execution_count": 0,
      "outputs": []
    },
    {
      "metadata": {
        "colab_type": "code",
        "id": "s-cqL8Bk8gwv",
        "colab": {}
      },
      "cell_type": "code",
      "source": [
        "def toy_data():\n",
        "    x = np.linspace(-2, 2, 100).reshape(-1, 1)\n",
        "    a1 = -3\n",
        "    a2 = -2\n",
        "    a3 = 2\n",
        "    b = 1\n",
        "    y = a1*x + a2*x**2 + a3*x**3 + 3*np.random.randn(100, 1)\n",
        "    return x, y\n",
        "\n",
        "x, y = toy_data()"
      ],
      "execution_count": 0,
      "outputs": []
    },
    {
      "metadata": {
        "id": "jXPwR6lO8jXk",
        "colab_type": "text"
      },
      "cell_type": "markdown",
      "source": [
        "$$\n",
        "\\begin{align}\n",
        "y &= -3x -2x^2 + 2x^3 + 3\\epsilon \\\\\n",
        "\\epsilon &\\sim N(0, 1)\n",
        "\\end{align}\n",
        "$$"
      ]
    },
    {
      "metadata": {
        "id": "jw2E1tkRW2j1",
        "colab_type": "code",
        "outputId": "1dff563f-0df7-467f-dde2-fc3c19cd6e7e",
        "colab": {
          "base_uri": "https://localhost:8080/",
          "height": 283
        }
      },
      "cell_type": "code",
      "source": [
        "# polynomial\n",
        "plt.plot(x, y, \"bo\")"
      ],
      "execution_count": 36,
      "outputs": [
        {
          "output_type": "execute_result",
          "data": {
            "text/plain": [
              "[<matplotlib.lines.Line2D at 0x7f933f38b940>]"
            ]
          },
          "metadata": {
            "tags": []
          },
          "execution_count": 36
        },
        {
          "output_type": "display_data",
          "data": {
            "image/png": "[encoded data removed]",
            "text/plain": [
              "<matplotlib.figure.Figure at 0x7f933f3b7f60>"
            ]
          },
          "metadata": {
            "tags": []
          }
        }
      ]
    },
    {
      "metadata": {
        "id": "7Cn5TAmZXB0E",
        "colab_type": "code",
        "colab": {}
      },
      "cell_type": "code",
      "source": [
        "x_train = tf.convert_to_tensor(x, dtype=tf.float32)\n",
        "y_train = tf.convert_to_tensor(y, dtype=tf.float32)"
      ],
      "execution_count": 0,
      "outputs": []
    },
    {
      "metadata": {
        "id": "5M45YfYf8_sG",
        "colab_type": "text"
      },
      "cell_type": "markdown",
      "source": [
        "#### モデル1\n",
        "3層パーセプトロンで活性化関数ReLU\n",
        "\n",
        "#### モデル2\n",
        "3層パーセプトロンで活性化関数tanh"
      ]
    },
    {
      "metadata": {
        "id": "Q4_tI2ulXOku",
        "colab_type": "code",
        "colab": {}
      },
      "cell_type": "code",
      "source": [
        "learning_rate = 1e-4\n",
        "hidden_size = 10\n",
        "\n",
        "model_relu = tfk.Sequential([\n",
        "    tfk.layers.Dense(hidden_size, activation=\"relu\"),\n",
        "    tfk.layers.Dense(hidden_size, activation=\"relu\"),\n",
        "    tfk.layers.Dense(1),\n",
        "])\n",
        "\n",
        "model_tanh = tfk.Sequential([\n",
        "    tfk.layers.Dense(hidden_size, activation=\"tanh\"),\n",
        "    tfk.layers.Dense(hidden_size, activation=\"tanh\"),\n",
        "    tfk.layers.Dense(1),\n",
        "])\n",
        "\n",
        "def loss_fn(model, x, y):\n",
        "    y_ = model(x)\n",
        "    return tfk.losses.mean_squared_error(y, y_)\n",
        "\n",
        "optimizer = tf.train.GradientDescentOptimizer(learning_rate)"
      ],
      "execution_count": 0,
      "outputs": []
    },
    {
      "metadata": {
        "id": "y1GHJcmFZUlr",
        "colab_type": "code",
        "outputId": "f0ea7930-b2db-4e4b-9841-6cd47e070a58",
        "colab": {
          "base_uri": "https://localhost:8080/",
          "height": 557
        }
      },
      "cell_type": "code",
      "source": [
        "for i in range(1000):\n",
        "    # training model_relu\n",
        "    with tf.GradientTape(persistent=True) as tape:\n",
        "        loss_relu = loss_fn(model_relu, x_train, y_train)\n",
        "        loss_tanh = loss_fn(model_tanh, x_train, y_train)\n",
        "    \n",
        "    grads_relu = tape.gradient(loss_relu, model_relu.variables)\n",
        "    grads_tanh = tape.gradient(loss_tanh, model_tanh.variables)\n",
        "    \n",
        "    optimizer.apply_gradients(zip(grads_relu, model_relu.variables))\n",
        "    optimizer.apply_gradients(zip(grads_tanh, model_tanh.variables))\n",
        "       \n",
        "    if (i + 1) % 100 == 0:\n",
        "        print(\"epoch \", i + 1)\n",
        "        print(\"loss_relu : {}\".format(loss_relu.numpy().mean()))\n",
        "        print(\"loss_tanh : {}\".format(loss_tanh.numpy().mean()))        "
      ],
      "execution_count": 39,
      "outputs": [
        {
          "output_type": "stream",
          "text": [
            "epoch  100\n",
            "loss_relu : 12.065563201904297\n",
            "loss_tanh : 18.092044830322266\n",
            "epoch  200\n",
            "loss_relu : 9.489455223083496\n",
            "loss_tanh : 11.401505470275879\n",
            "epoch  300\n",
            "loss_relu : 8.853523254394531\n",
            "loss_tanh : 9.800835609436035\n",
            "epoch  400\n",
            "loss_relu : 8.549242973327637\n",
            "loss_tanh : 9.196087837219238\n",
            "epoch  500\n",
            "loss_relu : 8.419160842895508\n",
            "loss_tanh : 8.890715599060059\n",
            "epoch  600\n",
            "loss_relu : 8.395503997802734\n",
            "loss_tanh : 8.730847358703613\n",
            "epoch  700\n",
            "loss_relu : 8.389832496643066\n",
            "loss_tanh : 8.635387420654297\n",
            "epoch  800\n",
            "loss_relu : 8.391490936279297\n",
            "loss_tanh : 8.567336082458496\n",
            "epoch  900\n",
            "loss_relu : 8.380455017089844\n",
            "loss_tanh : 8.517646789550781\n",
            "epoch  1000\n",
            "loss_relu : 8.37722396850586\n",
            "loss_tanh : 8.481711387634277\n"
          ],
          "name": "stdout"
        }
      ]
    },
    {
      "metadata": {
        "id": "waHPjH_jZ0J2",
        "colab_type": "code",
        "colab": {}
      },
      "cell_type": "code",
      "source": [
        "y_predict_relu = model_relu(x_train).numpy()\n",
        "y_predict_tanh = model_tanh(x_train).numpy()"
      ],
      "execution_count": 0,
      "outputs": []
    },
    {
      "metadata": {
        "id": "gR7cTBDGbMrM",
        "colab_type": "code",
        "outputId": "c6fda703-2bf5-4ea7-a5e6-2cf0dbdc41fd",
        "colab": {
          "base_uri": "https://localhost:8080/",
          "height": 283
        }
      },
      "cell_type": "code",
      "source": [
        "# polynomial data\n",
        "plt.plot(x, y, \"bo\", alpha=0.3)\n",
        "# model_relu predict\n",
        "plt.plot(x, y_predict_relu, color=\"r\")\n",
        "# model_tanh predict\n",
        "plt.plot(x, y_predict_tanh, color=\"g\")"
      ],
      "execution_count": 41,
      "outputs": [
        {
          "output_type": "execute_result",
          "data": {
            "text/plain": [
              "[<matplotlib.lines.Line2D at 0x7f933f2a6a20>]"
            ]
          },
          "metadata": {
            "tags": []
          },
          "execution_count": 41
        },
        {
          "output_type": "display_data",
          "data": {
            "image/png": "[encoded data removed]",
            "text/plain": [
              "<matplotlib.figure.Figure at 0x7f933f340940>"
            ]
          },
          "metadata": {
            "tags": []
          }
        }
      ]
    },
    {
      "metadata": {
        "id": "w7zdRyZ-bcA3",
        "colab_type": "code",
        "colab": {}
      },
      "cell_type": "code",
      "source": [
        ""
      ],
      "execution_count": 0,
      "outputs": []
    }
  ]
}