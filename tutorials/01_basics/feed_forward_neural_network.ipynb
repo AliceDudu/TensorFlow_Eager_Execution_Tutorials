{
  "nbformat": 4,
  "nbformat_minor": 0,
  "metadata": {
    "colab": {
      "name": "feed_forward_neural_network.ipynb",
      "version": "0.3.2",
      "provenance": [],
      "collapsed_sections": [],
      "include_colab_link": true
    },
    "kernelspec": {
      "name": "python3",
      "display_name": "Python 3"
    }
  },
  "cells": [
    {
      "cell_type": "markdown",
      "metadata": {
        "id": "view-in-github",
        "colab_type": "text"
      },
      "source": [
        "<a href=\"https://colab.research.google.com/github/hellocybernetics/TensorFlow_Eager_Execution_Tutorials/blob/master/tutorials/01_basics/feed_forward_neural_network.ipynb\" target=\"_parent\"><img src=\"https://colab.research.google.com/assets/colab-badge.svg\" alt=\"Open In Colab\"/></a>"
      ]
    },
    {
      "metadata": {
        "id": "iWsdCo5pWDK0",
        "colab_type": "code",
        "colab": {}
      },
      "cell_type": "code",
      "source": [
        "import numpy as np\n",
        "import tensorflow as tf\n",
        "import matplotlib.pyplot as plt\n",
        "%matplotlib inline\n",
        "\n",
        "tf.enable_eager_execution()"
      ],
      "execution_count": 0,
      "outputs": []
    },
    {
      "metadata": {
        "id": "fobT_XiMWLVB",
        "colab_type": "code",
        "colab": {}
      },
      "cell_type": "code",
      "source": [
        "tfe = tf.contrib.eager\n",
        "L = tf.keras.layers"
      ],
      "execution_count": 0,
      "outputs": []
    },
    {
      "metadata": {
        "colab_type": "code",
        "id": "s-cqL8Bk8gwv",
        "colab": {}
      },
      "cell_type": "code",
      "source": [
        "def toy_data():\n",
        "    x = np.linspace(-2, 2, 100).reshape(-1, 1)\n",
        "    a1 = -3\n",
        "    a2 = -2\n",
        "    a3 = 2\n",
        "    b = 1\n",
        "    y = a1*x + a2*x**2 + a3*x**3 + 3*np.random.randn(100, 1)\n",
        "    return x, y\n",
        "\n",
        "x, y = toy_data()"
      ],
      "execution_count": 0,
      "outputs": []
    },
    {
      "metadata": {
        "id": "jXPwR6lO8jXk",
        "colab_type": "text"
      },
      "cell_type": "markdown",
      "source": [
        "$$\n",
        "\\begin{align}\n",
        "y &= -3x -2x^2 + 2x^3 + 3\\epsilon \\\\\n",
        "\\epsilon &\\sim N(0, 1)\n",
        "\\end{align}\n",
        "$$"
      ]
    },
    {
      "metadata": {
        "id": "jw2E1tkRW2j1",
        "colab_type": "code",
        "outputId": "59342e75-c5d1-4c81-b0c0-5d14c2027db5",
        "colab": {
          "base_uri": "https://localhost:8080/",
          "height": 283
        }
      },
      "cell_type": "code",
      "source": [
        "# polynomial\n",
        "plt.plot(x, y, \"bo\")"
      ],
      "execution_count": 0,
      "outputs": [
        {
          "output_type": "execute_result",
          "data": {
            "text/plain": [
              "[<matplotlib.lines.Line2D at 0x7f6df06ee9e8>]"
            ]
          },
          "metadata": {
            "tags": []
          },
          "execution_count": 11
        },
        {
          "output_type": "display_data",
          "data": {
            "image/png": "[encoded data removed]",
            "text/plain": [
              "<matplotlib.figure.Figure at 0x7f6df0703a90>"
            ]
          },
          "metadata": {
            "tags": []
          }
        }
      ]
    },
    {
      "metadata": {
        "id": "7Cn5TAmZXB0E",
        "colab_type": "code",
        "colab": {}
      },
      "cell_type": "code",
      "source": [
        "x_train = tf.convert_to_tensor(x, dtype=tf.float32)\n",
        "y_train = tf.convert_to_tensor(y, dtype=tf.float32)"
      ],
      "execution_count": 0,
      "outputs": []
    },
    {
      "metadata": {
        "id": "5M45YfYf8_sG",
        "colab_type": "text"
      },
      "cell_type": "markdown",
      "source": [
        "#### モデル1\n",
        "3層パーセプトロンで活性化関数ReLU\n",
        "\n",
        "#### モデル2\n",
        "3層パーセプトロンで活性化関数tanh"
      ]
    },
    {
      "metadata": {
        "id": "Q4_tI2ulXOku",
        "colab_type": "code",
        "colab": {}
      },
      "cell_type": "code",
      "source": [
        "learning_rate = 1e-4\n",
        "hidden_size = 10\n",
        "\n",
        "model_relu = tf.keras.Sequential([\n",
        "    L.Dense(hidden_size, activation=\"relu\"),\n",
        "    L.Dense(hidden_size, activation=\"relu\"),\n",
        "    L.Dense(1),\n",
        "])\n",
        "\n",
        "model_tanh = tf.keras.Sequential([\n",
        "    L.Dense(hidden_size, activation=\"tanh\"),\n",
        "    L.Dense(hidden_size, activation=\"tanh\"),\n",
        "    L.Dense(1),\n",
        "])\n",
        "\n",
        "def loss_fn(model, x, y):\n",
        "    y_ = model(x)\n",
        "    return tf.keras.losses.mean_squared_error(y, y_)\n",
        "\n",
        "optimizer = tf.train.GradientDescentOptimizer(learning_rate)"
      ],
      "execution_count": 0,
      "outputs": []
    },
    {
      "metadata": {
        "id": "y1GHJcmFZUlr",
        "colab_type": "code",
        "outputId": "33c1c7b6-a212-42aa-ebc2-0b01d2bf2efd",
        "colab": {
          "base_uri": "https://localhost:8080/",
          "height": 557
        }
      },
      "cell_type": "code",
      "source": [
        "for i in range(1000):\n",
        "    # training model_relu\n",
        "    with tf.GradientTape(persistent=True) as tape:\n",
        "        loss_relu = loss_fn(model_relu, x_train, y_train)\n",
        "        loss_tanh = loss_fn(model_tanh, x_train, y_train)\n",
        "    \n",
        "    grads_relu = tape.gradient(loss_relu, model_relu.variables)\n",
        "    grads_tanh = tape.gradient(loss_tanh, model_tanh.variables)\n",
        "    \n",
        "    optimizer.apply_gradients(zip(grads_relu, model_relu.variables))\n",
        "    optimizer.apply_gradients(zip(grads_tanh, model_tanh.variables))\n",
        "       \n",
        "    if (i + 1) % 100 == 0:\n",
        "        print(\"epoch \", i + 1)\n",
        "        print(\"loss_relu : {}\".format(loss_relu.numpy().mean()))\n",
        "        print(\"loss_tanh : {}\".format(loss_tanh.numpy().mean()))        "
      ],
      "execution_count": 0,
      "outputs": [
        {
          "output_type": "stream",
          "text": [
            "epoch  100\n",
            "loss_relu : 25.663721084594727\n",
            "loss_tanh : 16.256589889526367\n",
            "epoch  200\n",
            "loss_relu : 23.1385555267334\n",
            "loss_tanh : 10.910369873046875\n",
            "epoch  300\n",
            "loss_relu : 17.678966522216797\n",
            "loss_tanh : 9.791780471801758\n",
            "epoch  400\n",
            "loss_relu : 14.245179176330566\n",
            "loss_tanh : 9.325257301330566\n",
            "epoch  500\n",
            "loss_relu : 12.230147361755371\n",
            "loss_tanh : 8.625408172607422\n",
            "epoch  600\n",
            "loss_relu : 10.951809883117676\n",
            "loss_tanh : 7.507894992828369\n",
            "epoch  700\n",
            "loss_relu : 9.963744163513184\n",
            "loss_tanh : 7.1242218017578125\n",
            "epoch  800\n",
            "loss_relu : 9.343103408813477\n",
            "loss_tanh : 7.011302947998047\n",
            "epoch  900\n",
            "loss_relu : 8.873193740844727\n",
            "loss_tanh : 6.950465679168701\n",
            "epoch  1000\n",
            "loss_relu : 8.497166633605957\n",
            "loss_tanh : 7.017630100250244\n"
          ],
          "name": "stdout"
        }
      ]
    },
    {
      "metadata": {
        "id": "waHPjH_jZ0J2",
        "colab_type": "code",
        "colab": {}
      },
      "cell_type": "code",
      "source": [
        "y_predict_relu = model_relu(x_train).numpy()\n",
        "y_predict_tanh = model_tanh(x_train).numpy()"
      ],
      "execution_count": 0,
      "outputs": []
    },
    {
      "metadata": {
        "id": "gR7cTBDGbMrM",
        "colab_type": "code",
        "outputId": "67b0696b-cc6b-4c29-864d-1fb4aa718eb8",
        "colab": {
          "base_uri": "https://localhost:8080/",
          "height": 283
        }
      },
      "cell_type": "code",
      "source": [
        "# polynomial data\n",
        "plt.plot(x, y, \"bo\", alpha=0.3)\n",
        "# model_relu predict\n",
        "plt.plot(x, y_predict_relu, color=\"r\")\n",
        "# model_tanh predict\n",
        "plt.plot(x, y_predict_tanh, color=\"g\")"
      ],
      "execution_count": 0,
      "outputs": [
        {
          "output_type": "execute_result",
          "data": {
            "text/plain": [
              "[<matplotlib.lines.Line2D at 0x7f6df06639b0>]"
            ]
          },
          "metadata": {
            "tags": []
          },
          "execution_count": 16
        },
        {
          "output_type": "display_data",
          "data": {
            "image/png": "[encoded data removed]",
            "text/plain": [
              "<matplotlib.figure.Figure at 0x7f6df06a12b0>"
            ]
          },
          "metadata": {
            "tags": []
          }
        }
      ]
    },
    {
      "metadata": {
        "id": "w7zdRyZ-bcA3",
        "colab_type": "code",
        "colab": {}
      },
      "cell_type": "code",
      "source": [
        ""
      ],
      "execution_count": 0,
      "outputs": []
    }
  ]
}