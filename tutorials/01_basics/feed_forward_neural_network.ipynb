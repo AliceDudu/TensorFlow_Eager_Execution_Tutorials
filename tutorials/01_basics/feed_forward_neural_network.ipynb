{
  "nbformat": 4,
  "nbformat_minor": 0,
  "metadata": {
    "colab": {
      "name": "feed_forward_neural_network.ipynb",
      "version": "0.3.2",
      "provenance": [],
      "collapsed_sections": [],
      "include_colab_link": true
    },
    "kernelspec": {
      "name": "python3",
      "display_name": "Python 3"
    }
  },
  "cells": [
    {
      "cell_type": "markdown",
      "metadata": {
        "id": "view-in-github",
        "colab_type": "text"
      },
      "source": [
        "<a href=\"https://colab.research.google.com/github/hellocybernetics/TensorFlow_Eager_Execution_Tutorials/blob/master/tutorials/01_basics/feed_forward_neural_network.ipynb\" target=\"_parent\"><img src=\"https://colab.research.google.com/assets/colab-badge.svg\" alt=\"Open In Colab\"/></a>"
      ]
    },
    {
      "metadata": {
        "id": "WK2VHiQ2WVx5",
        "colab_type": "code",
        "colab": {
          "base_uri": "https://localhost:8080/",
          "height": 667
        },
        "outputId": "bad64a6d-0ca7-401c-cbe5-3406740e1570"
      },
      "cell_type": "code",
      "source": [
        "!pip install tf-nightly-2.0-preview"
      ],
      "execution_count": 1,
      "outputs": [
        {
          "output_type": "stream",
          "text": [
            "Collecting tf-nightly-2.0-preview\n",
            "\u001b[?25l  Downloading https://files.pythonhosted.org/packages/14/f4/caced52bfdded13e1913c6c6700de847773297d53664666d54cd8f3c06d9/tf_nightly_2.0_preview-1.13.0.dev20190110-cp36-cp36m-manylinux1_x86_64.whl (74.3MB)\n",
            "\u001b[K    100% |████████████████████████████████| 74.3MB 346kB/s \n",
            "\u001b[?25hRequirement already satisfied: wheel>=0.26 in /usr/local/lib/python3.6/dist-packages (from tf-nightly-2.0-preview) (0.32.3)\n",
            "Requirement already satisfied: keras-preprocessing>=1.0.5 in /usr/local/lib/python3.6/dist-packages (from tf-nightly-2.0-preview) (1.0.5)\n",
            "Requirement already satisfied: numpy>=1.13.3 in /usr/local/lib/python3.6/dist-packages (from tf-nightly-2.0-preview) (1.14.6)\n",
            "Collecting tensorflow-estimator-2.0-preview (from tf-nightly-2.0-preview)\n",
            "\u001b[?25l  Downloading https://files.pythonhosted.org/packages/e2/c4/e821cf2999928616840b24ae3b25d2713d418b713510822a0ecd829e0002/tensorflow_estimator_2.0_preview-1.13.0.dev2019011100-py2.py3-none-any.whl (243kB)\n",
            "\u001b[K    100% |████████████████████████████████| 245kB 18.3MB/s \n",
            "\u001b[?25hRequirement already satisfied: six>=1.10.0 in /usr/local/lib/python3.6/dist-packages (from tf-nightly-2.0-preview) (1.11.0)\n",
            "Requirement already satisfied: protobuf>=3.6.1 in /usr/local/lib/python3.6/dist-packages (from tf-nightly-2.0-preview) (3.6.1)\n",
            "Requirement already satisfied: keras-applications>=1.0.6 in /usr/local/lib/python3.6/dist-packages (from tf-nightly-2.0-preview) (1.0.6)\n",
            "Requirement already satisfied: termcolor>=1.1.0 in /usr/local/lib/python3.6/dist-packages (from tf-nightly-2.0-preview) (1.1.0)\n",
            "Requirement already satisfied: grpcio>=1.8.6 in /usr/local/lib/python3.6/dist-packages (from tf-nightly-2.0-preview) (1.15.0)\n",
            "Requirement already satisfied: gast>=0.2.0 in /usr/local/lib/python3.6/dist-packages (from tf-nightly-2.0-preview) (0.2.1.post0)\n",
            "Collecting tb-nightly<1.14.0a0,>=1.13.0a0 (from tf-nightly-2.0-preview)\n",
            "\u001b[?25l  Downloading https://files.pythonhosted.org/packages/55/4b/780b9caf8c58b3c1c664781de52f36ff482e30ca0760b1ff4f02ff757cec/tb_nightly-1.13.0a20190107-py3-none-any.whl (3.2MB)\n",
            "\u001b[K    100% |████████████████████████████████| 3.2MB 8.0MB/s \n",
            "\u001b[?25hCollecting google-pasta>=0.1.0 (from tf-nightly-2.0-preview)\n",
            "\u001b[?25l  Downloading https://files.pythonhosted.org/packages/a5/e2/7d191b4613b20fa149e9ebc952f954650fc1dbcabb39e9387f6f1cd5d313/google_pasta-0.1-py3-none-any.whl (51kB)\n",
            "\u001b[K    100% |████████████████████████████████| 61kB 25.0MB/s \n",
            "\u001b[?25hRequirement already satisfied: absl-py>=0.1.6 in /usr/local/lib/python3.6/dist-packages (from tf-nightly-2.0-preview) (0.6.1)\n",
            "Requirement already satisfied: astor>=0.6.0 in /usr/local/lib/python3.6/dist-packages (from tf-nightly-2.0-preview) (0.7.1)\n",
            "Collecting mock>=2.0.0 (from tensorflow-estimator-2.0-preview->tf-nightly-2.0-preview)\n",
            "\u001b[?25l  Downloading https://files.pythonhosted.org/packages/e6/35/f187bdf23be87092bd0f1200d43d23076cee4d0dec109f195173fd3ebc79/mock-2.0.0-py2.py3-none-any.whl (56kB)\n",
            "\u001b[K    100% |████████████████████████████████| 61kB 24.9MB/s \n",
            "\u001b[?25hRequirement already satisfied: setuptools in /usr/local/lib/python3.6/dist-packages (from protobuf>=3.6.1->tf-nightly-2.0-preview) (40.6.3)\n",
            "Requirement already satisfied: h5py in /usr/local/lib/python3.6/dist-packages (from keras-applications>=1.0.6->tf-nightly-2.0-preview) (2.8.0)\n",
            "Requirement already satisfied: markdown>=2.6.8 in /usr/local/lib/python3.6/dist-packages (from tb-nightly<1.14.0a0,>=1.13.0a0->tf-nightly-2.0-preview) (3.0.1)\n",
            "Requirement already satisfied: werkzeug>=0.11.10 in /usr/local/lib/python3.6/dist-packages (from tb-nightly<1.14.0a0,>=1.13.0a0->tf-nightly-2.0-preview) (0.14.1)\n",
            "Collecting pbr>=0.11 (from mock>=2.0.0->tensorflow-estimator-2.0-preview->tf-nightly-2.0-preview)\n",
            "\u001b[?25l  Downloading https://files.pythonhosted.org/packages/f3/04/fddc1c2dd75b256eda4d360024692231a2c19a0c61ad7f4a162407c1ab58/pbr-5.1.1-py2.py3-none-any.whl (106kB)\n",
            "\u001b[K    100% |████████████████████████████████| 112kB 35.6MB/s \n",
            "\u001b[?25hInstalling collected packages: pbr, mock, tensorflow-estimator-2.0-preview, tb-nightly, google-pasta, tf-nightly-2.0-preview\n",
            "Successfully installed google-pasta-0.1 mock-2.0.0 pbr-5.1.1 tb-nightly-1.13.0a20190107 tensorflow-estimator-2.0-preview-1.13.0.dev2019011100 tf-nightly-2.0-preview-1.13.0.dev20190110\n"
          ],
          "name": "stdout"
        }
      ]
    },
    {
      "metadata": {
        "id": "iWsdCo5pWDK0",
        "colab_type": "code",
        "colab": {}
      },
      "cell_type": "code",
      "source": [
        "import numpy as np\n",
        "import tensorflow as tf\n",
        "import matplotlib.pyplot as plt\n",
        "%matplotlib inline"
      ],
      "execution_count": 0,
      "outputs": []
    },
    {
      "metadata": {
        "id": "fobT_XiMWLVB",
        "colab_type": "code",
        "colab": {}
      },
      "cell_type": "code",
      "source": [
        "L = tf.keras.layers"
      ],
      "execution_count": 0,
      "outputs": []
    },
    {
      "metadata": {
        "colab_type": "code",
        "id": "s-cqL8Bk8gwv",
        "colab": {}
      },
      "cell_type": "code",
      "source": [
        "def toy_data():\n",
        "    x = np.linspace(-2, 2, 100).reshape(-1, 1)\n",
        "    a1 = -3\n",
        "    a2 = -2\n",
        "    a3 = 2\n",
        "    b = 1\n",
        "    y = a1*x + a2*x**2 + a3*x**3 + 3*np.random.randn(100, 1)\n",
        "    return x, y\n",
        "\n",
        "x, y = toy_data()"
      ],
      "execution_count": 0,
      "outputs": []
    },
    {
      "metadata": {
        "id": "jXPwR6lO8jXk",
        "colab_type": "text"
      },
      "cell_type": "markdown",
      "source": [
        "$$\n",
        "\\begin{align}\n",
        "y &= -3x -2x^2 + 2x^3 + 3\\epsilon \\\\\n",
        "\\epsilon &\\sim N(0, 1)\n",
        "\\end{align}\n",
        "$$"
      ]
    },
    {
      "metadata": {
        "id": "jw2E1tkRW2j1",
        "colab_type": "code",
        "outputId": "2ad59353-9c40-4d93-cf0a-142704758a4f",
        "colab": {
          "base_uri": "https://localhost:8080/",
          "height": 284
        }
      },
      "cell_type": "code",
      "source": [
        "# polynomial\n",
        "plt.plot(x, y, \"bo\")"
      ],
      "execution_count": 5,
      "outputs": [
        {
          "output_type": "execute_result",
          "data": {
            "text/plain": [
              "[<matplotlib.lines.Line2D at 0x7f0229a84780>]"
            ]
          },
          "metadata": {
            "tags": []
          },
          "execution_count": 5
        },
        {
          "output_type": "display_data",
          "data": {
            "image/png": "[encoded data removed]",
            "text/plain": [
              "<matplotlib.figure.Figure at 0x7f01f082c5c0>"
            ]
          },
          "metadata": {
            "tags": []
          }
        }
      ]
    },
    {
      "metadata": {
        "id": "7Cn5TAmZXB0E",
        "colab_type": "code",
        "colab": {}
      },
      "cell_type": "code",
      "source": [
        "x_train = tf.convert_to_tensor(x, dtype=tf.float32)\n",
        "y_train = tf.convert_to_tensor(y, dtype=tf.float32)"
      ],
      "execution_count": 0,
      "outputs": []
    },
    {
      "metadata": {
        "id": "5M45YfYf8_sG",
        "colab_type": "text"
      },
      "cell_type": "markdown",
      "source": [
        "#### モデル1\n",
        "3層パーセプトロンで活性化関数ReLU\n",
        "\n",
        "#### モデル2\n",
        "3層パーセプトロンで活性化関数tanh"
      ]
    },
    {
      "metadata": {
        "id": "Q4_tI2ulXOku",
        "colab_type": "code",
        "colab": {}
      },
      "cell_type": "code",
      "source": [
        "learning_rate = 1e-4\n",
        "hidden_size = 10\n",
        "\n",
        "model_relu = tf.keras.Sequential([\n",
        "    L.Dense(hidden_size, activation=\"relu\"),\n",
        "    L.Dense(hidden_size, activation=\"relu\"),\n",
        "    L.Dense(1),\n",
        "])\n",
        "\n",
        "model_tanh = tf.keras.Sequential([\n",
        "    L.Dense(hidden_size, activation=\"tanh\"),\n",
        "    L.Dense(hidden_size, activation=\"tanh\"),\n",
        "    L.Dense(1),\n",
        "])\n",
        "\n",
        "def loss_fn(model, x, y):\n",
        "    y_ = model(x)\n",
        "    return tf.keras.losses.mean_squared_error(y, y_)\n",
        "\n",
        "optimizer = tf.keras.optimizers.SGD(learning_rate)"
      ],
      "execution_count": 0,
      "outputs": []
    },
    {
      "metadata": {
        "id": "y1GHJcmFZUlr",
        "colab_type": "code",
        "outputId": "50592ace-ab0b-41ba-b6ea-37b0e2e04cc0",
        "colab": {
          "base_uri": "https://localhost:8080/",
          "height": 631
        }
      },
      "cell_type": "code",
      "source": [
        "for i in range(1000):\n",
        "    # training model_relu\n",
        "    with tf.GradientTape(persistent=True) as tape:\n",
        "        loss_relu = loss_fn(model_relu, x_train, y_train)\n",
        "        loss_tanh = loss_fn(model_tanh, x_train, y_train)\n",
        "    \n",
        "    grads_relu = tape.gradient(loss_relu, model_relu.variables)\n",
        "    grads_tanh = tape.gradient(loss_tanh, model_tanh.variables)\n",
        "    \n",
        "    optimizer.apply_gradients(zip(grads_relu, model_relu.variables))\n",
        "    optimizer.apply_gradients(zip(grads_tanh, model_tanh.variables))\n",
        "       \n",
        "    if (i + 1) % 100 == 0:\n",
        "        print(\"epoch \", i + 1)\n",
        "        print(\"loss_relu : {}\".format(loss_relu.numpy().mean()))\n",
        "        print(\"loss_tanh : {}\".format(loss_tanh.numpy().mean()))        "
      ],
      "execution_count": 9,
      "outputs": [
        {
          "output_type": "stream",
          "text": [
            "WARNING:tensorflow:From /usr/local/lib/python3.6/dist-packages/tensorflow/python/ops/math_grad.py:80: colocate_with (from tensorflow.python.framework.ops) is deprecated and will be removed in a future version.\n",
            "Instructions for updating:\n",
            "Colocations handled automatically by placer.\n",
            "epoch  100\n",
            "loss_relu : 13.60205078125\n",
            "loss_tanh : 22.376253128051758\n",
            "epoch  200\n",
            "loss_relu : 12.42266845703125\n",
            "loss_tanh : 13.638594627380371\n",
            "epoch  300\n",
            "loss_relu : 12.200483322143555\n",
            "loss_tanh : 12.579218864440918\n",
            "epoch  400\n",
            "loss_relu : 12.054424285888672\n",
            "loss_tanh : 12.441134452819824\n",
            "epoch  500\n",
            "loss_relu : 11.914139747619629\n",
            "loss_tanh : 12.34143352508545\n",
            "epoch  600\n",
            "loss_relu : 11.788325309753418\n",
            "loss_tanh : 12.215806007385254\n",
            "epoch  700\n",
            "loss_relu : 11.657098770141602\n",
            "loss_tanh : 12.121011734008789\n",
            "epoch  800\n",
            "loss_relu : 11.503227233886719\n",
            "loss_tanh : 12.04101276397705\n",
            "epoch  900\n",
            "loss_relu : 11.349077224731445\n",
            "loss_tanh : 11.946876525878906\n",
            "epoch  1000\n",
            "loss_relu : 11.18554401397705\n",
            "loss_tanh : 11.826896667480469\n"
          ],
          "name": "stdout"
        }
      ]
    },
    {
      "metadata": {
        "id": "waHPjH_jZ0J2",
        "colab_type": "code",
        "colab": {}
      },
      "cell_type": "code",
      "source": [
        "y_predict_relu = model_relu(x_train).numpy()\n",
        "y_predict_tanh = model_tanh(x_train).numpy()"
      ],
      "execution_count": 0,
      "outputs": []
    },
    {
      "metadata": {
        "id": "gR7cTBDGbMrM",
        "colab_type": "code",
        "outputId": "6755b89c-032c-4f39-833c-e7c5ad977486",
        "colab": {
          "base_uri": "https://localhost:8080/",
          "height": 284
        }
      },
      "cell_type": "code",
      "source": [
        "# polynomial data\n",
        "plt.plot(x, y, \"bo\", alpha=0.3)\n",
        "# model_relu predict\n",
        "plt.plot(x, y_predict_relu, color=\"r\")\n",
        "# model_tanh predict\n",
        "plt.plot(x, y_predict_tanh, color=\"g\")"
      ],
      "execution_count": 11,
      "outputs": [
        {
          "output_type": "execute_result",
          "data": {
            "text/plain": [
              "[<matplotlib.lines.Line2D at 0x7f01e7c08a90>]"
            ]
          },
          "metadata": {
            "tags": []
          },
          "execution_count": 11
        },
        {
          "output_type": "display_data",
          "data": {
            "image/png": "[encoded data removed]",
            "text/plain": [
              "<matplotlib.figure.Figure at 0x7f01edf53710>"
            ]
          },
          "metadata": {
            "tags": []
          }
        }
      ]
    },
    {
      "metadata": {
        "id": "w7zdRyZ-bcA3",
        "colab_type": "code",
        "colab": {}
      },
      "cell_type": "code",
      "source": [
        ""
      ],
      "execution_count": 0,
      "outputs": []
    }
  ]
}