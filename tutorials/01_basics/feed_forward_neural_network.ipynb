{
  "nbformat": 4,
  "nbformat_minor": 0,
  "metadata": {
    "colab": {
      "name": "feed_forward_neural_network.ipynb",
      "version": "0.3.2",
      "provenance": [],
      "include_colab_link": true
    },
    "kernelspec": {
      "name": "python3",
      "display_name": "Python 3"
    }
  },
  "cells": [
    {
      "cell_type": "markdown",
      "metadata": {
        "id": "view-in-github",
        "colab_type": "text"
      },
      "source": [
        "<a href=\"https://colab.research.google.com/github/hellocybernetics/TensorFlow_Eager_Execution_Tutorials/blob/master/tutorials/01_basics/feed_forward_neural_network.ipynb\" target=\"_parent\"><img src=\"https://colab.research.google.com/assets/colab-badge.svg\" alt=\"Open In Colab\"/></a>"
      ]
    },
    {
      "metadata": {
        "id": "iWsdCo5pWDK0",
        "colab_type": "code",
        "colab": {}
      },
      "cell_type": "code",
      "source": [
        "import numpy as np\n",
        "import tensorflow as tf\n",
        "import matplotlib.pyplot as plt\n",
        "%matplotlib inline\n",
        "\n",
        "tf.enable_eager_execution()"
      ],
      "execution_count": 0,
      "outputs": []
    },
    {
      "metadata": {
        "id": "fobT_XiMWLVB",
        "colab_type": "code",
        "colab": {}
      },
      "cell_type": "code",
      "source": [
        "tfe = tf.contrib.eager\n",
        "tfk = tf.keras"
      ],
      "execution_count": 0,
      "outputs": []
    },
    {
      "metadata": {
        "id": "gyvirOSnWQA_",
        "colab_type": "code",
        "colab": {}
      },
      "cell_type": "code",
      "source": [
        "def toy_data():\n",
        "    x = np.linspace(-2, 2, 100).reshape(-1, 1)\n",
        "    a1 = np.random.randn(1)\n",
        "    a2 = np.random.randn(1)\n",
        "    a3 = np.random.randn(1)\n",
        "    b = np.random.randn(1)\n",
        "    y = a1*x + a2*x**2 + a3*x**3 + 3*np.random.randn(100, 1)\n",
        "    return x, y\n",
        "\n",
        "x, y = toy_data()"
      ],
      "execution_count": 0,
      "outputs": []
    },
    {
      "metadata": {
        "id": "jw2E1tkRW2j1",
        "colab_type": "code",
        "colab": {
          "base_uri": "https://localhost:8080/",
          "height": 283
        },
        "outputId": "c7779a27-a8e5-4bb9-a772-db5229a0f45d"
      },
      "cell_type": "code",
      "source": [
        "# polynomial\n",
        "plt.plot(x, y, \"bo\")"
      ],
      "execution_count": 97,
      "outputs": [
        {
          "output_type": "execute_result",
          "data": {
            "text/plain": [
              "[<matplotlib.lines.Line2D at 0x7f6d3c007780>]"
            ]
          },
          "metadata": {
            "tags": []
          },
          "execution_count": 97
        },
        {
          "output_type": "display_data",
          "data": {
            "image/png": "[encoded data removed]",
            "text/plain": [
              "<matplotlib.figure.Figure at 0x7f6d3c0bfa90>"
            ]
          },
          "metadata": {
            "tags": []
          }
        }
      ]
    },
    {
      "metadata": {
        "id": "7Cn5TAmZXB0E",
        "colab_type": "code",
        "colab": {}
      },
      "cell_type": "code",
      "source": [
        "x_train = tf.convert_to_tensor(x, dtype=tf.float32)\n",
        "y_train = tf.convert_to_tensor(y, dtype=tf.float32)"
      ],
      "execution_count": 0,
      "outputs": []
    },
    {
      "metadata": {
        "id": "Q4_tI2ulXOku",
        "colab_type": "code",
        "colab": {}
      },
      "cell_type": "code",
      "source": [
        "learning_rate = 1e-4\n",
        "hidden_size = 10\n",
        "\n",
        "model_relu = tfk.Sequential([\n",
        "    tfk.layers.Dense(hidden_size, activation=\"relu\"),\n",
        "    tfk.layers.Dense(hidden_size, activation=\"relu\"),\n",
        "    tfk.layers.Dense(1),\n",
        "])\n",
        "\n",
        "model_tanh = tfk.Sequential([\n",
        "    tfk.layers.Dense(hidden_size, activation=\"tanh\"),\n",
        "    tfk.layers.Dense(hidden_size, activation=\"tanh\"),\n",
        "    tfk.layers.Dense(1),\n",
        "])\n",
        "\n",
        "def loss_fn(model, x, y):\n",
        "    y_ = model(x)\n",
        "    return tfk.losses.mean_squared_error(y, y_)\n",
        "\n",
        "optimizer = tf.train.GradientDescentOptimizer(learning_rate)\n",
        "value_and_grads = tfe.implicit_value_and_gradients(loss_fn)"
      ],
      "execution_count": 0,
      "outputs": []
    },
    {
      "metadata": {
        "id": "y1GHJcmFZUlr",
        "colab_type": "code",
        "colab": {
          "base_uri": "https://localhost:8080/",
          "height": 557
        },
        "outputId": "13ac5a44-8bf4-4a9d-fb44-3c80a29f5d1e"
      },
      "cell_type": "code",
      "source": [
        "for i in range(1000):\n",
        "    # training model_relu\n",
        "    loss_relu, grads = value_and_grads(model_relu, x_train, y_train)\n",
        "    optimizer.apply_gradients(grads)\n",
        "    \n",
        "    # training model_tanh\n",
        "    loss_tanh, grads = value_and_grads(model_tanh, x_train, y_train)\n",
        "    optimizer.apply_gradients(grads)\n",
        "    \n",
        "    if (i + 1) % 100 == 0:\n",
        "        print(\"epoch \", i + 1)\n",
        "        print(\"loss_relu : {:0.3f}\".format(loss_relu.numpy().mean()))\n",
        "        print(\"loss_tanh : {:0.3f}\".format(loss_tanh.numpy().mean()))        "
      ],
      "execution_count": 100,
      "outputs": [
        {
          "output_type": "stream",
          "text": [
            "epoch  100\n",
            "loss_relu : 13.748\n",
            "loss_tanh : 14.797\n",
            "epoch  200\n",
            "loss_relu : 13.083\n",
            "loss_tanh : 14.364\n",
            "epoch  300\n",
            "loss_relu : 12.880\n",
            "loss_tanh : 14.045\n",
            "epoch  400\n",
            "loss_relu : 12.715\n",
            "loss_tanh : 13.514\n",
            "epoch  500\n",
            "loss_relu : 12.606\n",
            "loss_tanh : 12.755\n",
            "epoch  600\n",
            "loss_relu : 12.562\n",
            "loss_tanh : 12.255\n",
            "epoch  700\n",
            "loss_relu : 12.451\n",
            "loss_tanh : 12.039\n",
            "epoch  800\n",
            "loss_relu : 12.271\n",
            "loss_tanh : 11.943\n",
            "epoch  900\n",
            "loss_relu : 12.227\n",
            "loss_tanh : 11.892\n",
            "epoch  1000\n",
            "loss_relu : 12.186\n",
            "loss_tanh : 11.860\n"
          ],
          "name": "stdout"
        }
      ]
    },
    {
      "metadata": {
        "id": "waHPjH_jZ0J2",
        "colab_type": "code",
        "colab": {}
      },
      "cell_type": "code",
      "source": [
        "y_predict_relu = model_relu(x_train).numpy()\n",
        "y_predict_tanh = model_tanh(x_train).numpy()"
      ],
      "execution_count": 0,
      "outputs": []
    },
    {
      "metadata": {
        "id": "gR7cTBDGbMrM",
        "colab_type": "code",
        "colab": {
          "base_uri": "https://localhost:8080/",
          "height": 283
        },
        "outputId": "a0dcde18-c9ac-462c-c094-8a01362a2558"
      },
      "cell_type": "code",
      "source": [
        "# polynomial data\n",
        "plt.plot(x, y, \"bo\", alpha=0.3)\n",
        "# model_relu predict\n",
        "plt.plot(x, y_predict_relu, color=\"r\")\n",
        "# model_tanh predict\n",
        "plt.plot(x, y_predict_tanh, color=\"g\")"
      ],
      "execution_count": 102,
      "outputs": [
        {
          "output_type": "execute_result",
          "data": {
            "text/plain": [
              "[<matplotlib.lines.Line2D at 0x7f6d3bf906d8>]"
            ]
          },
          "metadata": {
            "tags": []
          },
          "execution_count": 102
        },
        {
          "output_type": "display_data",
          "data": {
            "image/png": "[encoded data removed]",
            "text/plain": [
              "<matplotlib.figure.Figure at 0x7f6d3c3b6128>"
            ]
          },
          "metadata": {
            "tags": []
          }
        }
      ]
    },
    {
      "metadata": {
        "id": "w7zdRyZ-bcA3",
        "colab_type": "code",
        "colab": {}
      },
      "cell_type": "code",
      "source": [
        ""
      ],
      "execution_count": 0,
      "outputs": []
    }
  ]
}