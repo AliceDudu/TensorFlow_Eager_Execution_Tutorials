{
  "nbformat": 4,
  "nbformat_minor": 0,
  "metadata": {
    "colab": {
      "name": "linear_regression.ipynb",
      "version": "0.3.2",
      "provenance": [],
      "collapsed_sections": [],
      "include_colab_link": true
    },
    "kernelspec": {
      "name": "python3",
      "display_name": "Python 3"
    }
  },
  "cells": [
    {
      "cell_type": "markdown",
      "metadata": {
        "id": "view-in-github",
        "colab_type": "text"
      },
      "source": [
        "<a href=\"https://colab.research.google.com/github/hellocybernetics/TensorFlow_Eager_Execution_Tutorials/blob/master/tutorials/01_basics/linear_regression.ipynb\" target=\"_parent\"><img src=\"https://colab.research.google.com/assets/colab-badge.svg\" alt=\"Open In Colab\"/></a>"
      ]
    },
    {
      "metadata": {
        "id": "KLBSUiTLXbbN",
        "colab_type": "code",
        "colab": {}
      },
      "cell_type": "code",
      "source": [
        "import tensorflow as tf\n",
        "import numpy as np\n",
        "import matplotlib.pyplot as plt\n",
        "%matplotlib inline\n",
        "\n",
        "tf.enable_eager_execution()"
      ],
      "execution_count": 0,
      "outputs": []
    },
    {
      "metadata": {
        "colab_type": "code",
        "id": "sG3OjQjhXynh",
        "colab": {}
      },
      "cell_type": "code",
      "source": [
        "tfe = tf.contrib.eager\n",
        "tfk = tf.keras"
      ],
      "execution_count": 0,
      "outputs": []
    },
    {
      "metadata": {
        "id": "rz7ezsMEXzJI",
        "colab_type": "code",
        "colab": {
          "base_uri": "https://localhost:8080/",
          "height": 35
        },
        "outputId": "4ee6aa4c-901d-4518-a1b6-242de0673de0"
      },
      "cell_type": "code",
      "source": [
        "# Hyper-parameters\n",
        "input_size = 1\n",
        "output_size = 1\n",
        "num_epochs = 60\n",
        "learning_rate = 0.001\n",
        "\n",
        "# Toy dataset\n",
        "x_train = np.array([[3.3], [4.4], [5.5], [6.71], [6.93], [4.168], \n",
        "                    [9.779], [6.182], [7.59], [2.167], [7.042], \n",
        "                    [10.791], [5.313], [7.997], [3.1]], dtype=np.float32)\n",
        "\n",
        "y_train = np.array([[1.7], [2.76], [2.09], [3.19], [1.694], [1.573], \n",
        "                    [3.366], [2.596], [2.53], [1.221], [2.827], \n",
        "                    [3.465], [1.65], [2.904], [1.3]], dtype=np.float32)\n",
        "\n",
        "\n",
        "# data.shape is (batch_size, data_dimension)\n",
        "print(x_train.shape)"
      ],
      "execution_count": 8,
      "outputs": [
        {
          "output_type": "stream",
          "text": [
            "(15, 1)\n"
          ],
          "name": "stdout"
        }
      ]
    },
    {
      "metadata": {
        "id": "HlpyuXO3X4Ao",
        "colab_type": "code",
        "colab": {}
      },
      "cell_type": "code",
      "source": [
        "# Linear regression model\n",
        "model = tfk.layers.Dense(output_size)\n",
        "\n",
        "# loss function\n",
        "def loss_fn(model, x, y):\n",
        "    predict_y = model(x)\n",
        "    return tf.keras.losses.mean_squared_error(predict_y, y)\n",
        "\n",
        "# prepare auto diff\n",
        "value_and_grads = tf.contrib.eager.implicit_value_and_gradients(loss_fn)\n",
        "\n",
        "# optimizer\n",
        "optimizer = tf.train.GradientDescentOptimizer(learning_rate=1e-4)"
      ],
      "execution_count": 0,
      "outputs": []
    },
    {
      "metadata": {
        "id": "USmgMSrPaI1x",
        "colab_type": "code",
        "colab": {
          "base_uri": "https://localhost:8080/",
          "height": 265
        },
        "outputId": "7bec8ec4-0df6-4573-a297-2c74940736ee"
      },
      "cell_type": "code",
      "source": [
        "x_train_ = tf.convert_to_tensor(x_train)\n",
        "y_train_ = tf.convert_to_tensor(y_train)\n",
        "\n",
        "# Plot the graph\n",
        "predicted = model(x_train_).numpy()\n",
        "plt.plot(x_train, y_train, 'ro', label='Original data')\n",
        "plt.plot(x_train, predicted, label='Fitted line')\n",
        "plt.legend()\n",
        "plt.show()"
      ],
      "execution_count": 27,
      "outputs": [
        {
          "output_type": "display_data",
          "data": {
            "image/png": "[encoded data removed]",
            "text/plain": [
              "<matplotlib.figure.Figure at 0x7f85f7540898>"
            ]
          },
          "metadata": {
            "tags": []
          }
        }
      ]
    },
    {
      "metadata": {
        "id": "EFWdTJXzX353",
        "colab_type": "code",
        "colab": {
          "base_uri": "https://localhost:8080/",
          "height": 233
        },
        "outputId": "ba34c399-5915-436a-d69a-9e3eff3ac6f3"
      },
      "cell_type": "code",
      "source": [
        "\n",
        "\n",
        "\n",
        "for epoch in range(num_epochs):\n",
        "    loss, grads = value_and_grads(model=model, x=x_train_, y=y_train_)\n",
        "    \n",
        "    if (epoch+1) % 5 == 0:\n",
        "        print(\"loss: \", tf.reduce_sum(loss).numpy())\n",
        "\n",
        "    # update prameters using grads\n",
        "    optimizer.apply_gradients(grads)"
      ],
      "execution_count": 28,
      "outputs": [
        {
          "output_type": "stream",
          "text": [
            "loss:  197.18375\n",
            "loss:  52.25621\n",
            "loss:  16.080078\n",
            "loss:  7.0466995\n",
            "loss:  4.787751\n",
            "loss:  4.2196155\n",
            "loss:  4.073498\n",
            "loss:  4.0327253\n",
            "loss:  4.0182624\n",
            "loss:  4.010383\n",
            "loss:  4.004162\n",
            "loss:  3.9983728\n"
          ],
          "name": "stdout"
        }
      ]
    },
    {
      "metadata": {
        "id": "Z5QWR1PvXq72",
        "colab_type": "code",
        "colab": {
          "base_uri": "https://localhost:8080/",
          "height": 265
        },
        "outputId": "6faa57da-a15d-4db4-c6e7-418d48719221"
      },
      "cell_type": "code",
      "source": [
        "# Plot the graph\n",
        "predicted = model(x_train_).numpy()\n",
        "plt.plot(x_train, y_train, 'ro', label='Original data')\n",
        "plt.plot(x_train, predicted, label='Fitted line')\n",
        "plt.legend()\n",
        "plt.show()\n"
      ],
      "execution_count": 29,
      "outputs": [
        {
          "output_type": "display_data",
          "data": {
            "image/png": "[encoded data removed]",
            "text/plain": [
              "<matplotlib.figure.Figure at 0x7f8623525080>"
            ]
          },
          "metadata": {
            "tags": []
          }
        }
      ]
    },
    {
      "metadata": {
        "id": "0dmE_vCTZ0Gh",
        "colab_type": "code",
        "colab": {}
      },
      "cell_type": "code",
      "source": [
        ""
      ],
      "execution_count": 0,
      "outputs": []
    }
  ]
}