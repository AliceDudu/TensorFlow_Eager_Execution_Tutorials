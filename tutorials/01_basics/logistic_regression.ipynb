{
  "nbformat": 4,
  "nbformat_minor": 0,
  "metadata": {
    "colab": {
      "name": "logistic_regression.ipynb",
      "version": "0.3.2",
      "provenance": [],
      "collapsed_sections": [],
      "include_colab_link": true
    },
    "kernelspec": {
      "name": "python3",
      "display_name": "Python 3"
    }
  },
  "cells": [
    {
      "cell_type": "markdown",
      "metadata": {
        "id": "view-in-github",
        "colab_type": "text"
      },
      "source": [
        "<a href=\"https://colab.research.google.com/github/hellocybernetics/TensorFlow_Eager_Execution_Tutorials/blob/master/tutorials/01_basics/logistic_regression.ipynb\" target=\"_parent\"><img src=\"https://colab.research.google.com/assets/colab-badge.svg\" alt=\"Open In Colab\"/></a>"
      ]
    },
    {
      "metadata": {
        "id": "87bcSelqbG0B",
        "colab_type": "code",
        "colab": {}
      },
      "cell_type": "code",
      "source": [
        "import tensorflow as tf\n",
        "import numpy as np\n",
        "import matplotlib.pyplot as plt\n",
        "%matplotlib inline\n",
        "\n",
        "tf.enable_eager_execution()\n",
        "tfk = tf.keras\n",
        "tfe = tf.contrib.eager"
      ],
      "execution_count": 0,
      "outputs": []
    },
    {
      "metadata": {
        "id": "mHu0HEYebXtC",
        "colab_type": "code",
        "colab": {}
      },
      "cell_type": "code",
      "source": [
        "x_train_p = np.random.randn(20, 2) + 0.9\n",
        "x_train_n = np.random.randn(20, 2) - 0.9\n",
        "\n",
        "x_train = np.vstack([x_train_p, x_train_n])\n",
        "y_train = np.array([1] * 20 + [0] * 20).reshape(-1, 1)"
      ],
      "execution_count": 0,
      "outputs": []
    },
    {
      "metadata": {
        "id": "BdhQiS69by1w",
        "colab_type": "code",
        "outputId": "be05ec11-883c-4402-aa44-2c5f0cd9236c",
        "colab": {
          "base_uri": "https://localhost:8080/",
          "height": 287
        }
      },
      "cell_type": "code",
      "source": [
        "plt.plot(x_train_p[:, 0], x_train_p[:, 1], 'ro')\n",
        "plt.plot(x_train_n[:, 0], x_train_n[:, 1], 'bo')"
      ],
      "execution_count": 3,
      "outputs": [
        {
          "output_type": "execute_result",
          "data": {
            "text/plain": [
              "[<matplotlib.lines.Line2D at 0x7efeb9c43940>]"
            ]
          },
          "metadata": {
            "tags": []
          },
          "execution_count": 3
        },
        {
          "output_type": "display_data",
          "data": {
            "image/png": "[encoded data removed]",
            "text/plain": [
              "<matplotlib.figure.Figure at 0x7efeb9c438d0>"
            ]
          },
          "metadata": {
            "tags": []
          }
        }
      ]
    },
    {
      "metadata": {
        "id": "pbNzBs8EcK6W",
        "colab_type": "code",
        "colab": {}
      },
      "cell_type": "code",
      "source": [
        "# Hyper-parameters\n",
        "input_size = 2\n",
        "output_size = 1\n",
        "num_epochs = 100\n",
        "learning_rate = 1e-3\n",
        "\n",
        "# convert to tensor\n",
        "x_train_ = tf.convert_to_tensor(x_train, dtype=tf.float32)\n",
        "y_train_ = tf.convert_to_tensor(y_train, dtype=tf.float32)"
      ],
      "execution_count": 0,
      "outputs": []
    },
    {
      "metadata": {
        "id": "uQXYbQFrcd4R",
        "colab_type": "code",
        "colab": {}
      },
      "cell_type": "code",
      "source": [
        "# Logistic regression model\n",
        "model = tfk.layers.Dense(output_size, activation=\"sigmoid\")\n",
        "\n",
        "# loss function\n",
        "def loss_fn(model, x, y):\n",
        "    predict_y = model(x)\n",
        "    # first arg: true_y,  second arg: predict_y\n",
        "    return tfk.losses.binary_crossentropy(y, predict_y)\n",
        "\n",
        "def accuracy_fn(model, x, y):\n",
        "    predict_y = model(x)\n",
        "    return tfk.metrics.binary_accuracy(y, predict_y)\n",
        "\n",
        "# optimizer\n",
        "optimizer = tf.train.GradientDescentOptimizer(learning_rate=learning_rate)"
      ],
      "execution_count": 0,
      "outputs": []
    },
    {
      "metadata": {
        "id": "nsSpGV4vlBnK",
        "colab_type": "code",
        "outputId": "4a127b75-7d46-4750-de55-d08b48a7afad",
        "colab": {
          "base_uri": "https://localhost:8080/",
          "height": 283
        }
      },
      "cell_type": "code",
      "source": [
        "model(x_train_)\n",
        "coeffs = model.weights[0].numpy()\n",
        "bias = model.weights[1].numpy()\n",
        "\n",
        "plt.plot(x_train_p[:, 0], x_train_p[:, 1], 'ro')\n",
        "plt.plot(x_train_n[:, 0], x_train_n[:, 1], 'bo')\n",
        "\n",
        "plot_x = np.array([min(x_train[:,0])-0.5, max(x_train[:,0])+0.5])\n",
        "plot_y = - (bias + coeffs[0]*plot_x) / coeffs[1]\n",
        "plt.plot(plot_x, plot_y, 'g')\n",
        "plt.axis([-3.5, 3.5, -3.5, 3.5])"
      ],
      "execution_count": 6,
      "outputs": [
        {
          "output_type": "execute_result",
          "data": {
            "text/plain": [
              "[-3.5, 3.5, -3.5, 3.5]"
            ]
          },
          "metadata": {
            "tags": []
          },
          "execution_count": 6
        },
        {
          "output_type": "display_data",
          "data": {
            "image/png": "[encoded data removed]",
            "text/plain": [
              "<matplotlib.figure.Figure at 0x7efeb9b61be0>"
            ]
          },
          "metadata": {
            "tags": []
          }
        }
      ]
    },
    {
      "metadata": {
        "id": "gl7aAemcdgCZ",
        "colab_type": "code",
        "outputId": "61ba0797-ec4a-4e60-ecf9-37ad58b0768a",
        "colab": {
          "base_uri": "https://localhost:8080/",
          "height": 377
        }
      },
      "cell_type": "code",
      "source": [
        "for epoch in range(num_epochs):\n",
        "    with tf.GradientTape() as tape:\n",
        "        loss = loss_fn(model, x_train_, y_train_)\n",
        "    grads = tape.gradient(loss, model.variables)\n",
        "    \n",
        "    accuracy = accuracy_fn(model=model, x=x_train_, y=y_train_)\n",
        "    \n",
        "    if (epoch+1) % 5 == 0:\n",
        "        print(\n",
        "            \"loss: {:0.3f},  acc: {}\".format(\n",
        "                tf.reduce_sum(loss).numpy(),\n",
        "                accuracy.numpy().mean()   \n",
        "            )  \n",
        "        ) \n",
        "    # update prameters using grads\n",
        "    optimizer.apply_gradients(zip(grads, model.variables))"
      ],
      "execution_count": 7,
      "outputs": [
        {
          "output_type": "stream",
          "text": [
            "loss: 27.467,  acc: 0.574999988079071\n",
            "loss: 23.374,  acc: 0.7250000238418579\n",
            "loss: 20.373,  acc: 0.800000011920929\n",
            "loss: 18.131,  acc: 0.875\n",
            "loss: 16.414,  acc: 0.8999999761581421\n",
            "loss: 15.066,  acc: 0.925000011920929\n",
            "loss: 13.983,  acc: 0.925000011920929\n",
            "loss: 13.094,  acc: 0.949999988079071\n",
            "loss: 12.352,  acc: 0.949999988079071\n",
            "loss: 11.724,  acc: 0.949999988079071\n",
            "loss: 11.183,  acc: 0.949999988079071\n",
            "loss: 10.714,  acc: 0.949999988079071\n",
            "loss: 10.302,  acc: 0.949999988079071\n",
            "loss: 9.937,  acc: 0.949999988079071\n",
            "loss: 9.612,  acc: 0.949999988079071\n",
            "loss: 9.319,  acc: 0.949999988079071\n",
            "loss: 9.055,  acc: 0.949999988079071\n",
            "loss: 8.814,  acc: 0.949999988079071\n",
            "loss: 8.595,  acc: 0.949999988079071\n",
            "loss: 8.393,  acc: 0.949999988079071\n"
          ],
          "name": "stdout"
        }
      ]
    },
    {
      "metadata": {
        "id": "6o1jBmIrkPR0",
        "colab_type": "code",
        "outputId": "e47f1108-40bc-4ea2-de90-b4b33a5b0cb0",
        "colab": {
          "base_uri": "https://localhost:8080/",
          "height": 283
        }
      },
      "cell_type": "code",
      "source": [
        "coeffs = model.weights[0].numpy()\n",
        "bias = model.weights[1].numpy()\n",
        "\n",
        "plt.plot(x_train_p[:, 0], x_train_p[:, 1], 'ro')\n",
        "plt.plot(x_train_n[:, 0], x_train_n[:, 1], 'bo')\n",
        "\n",
        "plot_x = np.array([min(x_train[:,0])-0.5, max(x_train[:,0])+0.5])\n",
        "plot_y = - (bias + coeffs[0]*plot_x) / coeffs[1]\n",
        "plt.plot(plot_x, plot_y, 'g')\n",
        "plt.axis([-3.5, 3.5, -3.5, 3.5])"
      ],
      "execution_count": 8,
      "outputs": [
        {
          "output_type": "execute_result",
          "data": {
            "text/plain": [
              "[-3.5, 3.5, -3.5, 3.5]"
            ]
          },
          "metadata": {
            "tags": []
          },
          "execution_count": 8
        },
        {
          "output_type": "display_data",
          "data": {
            "image/png": "[encoded data removed]",
            "text/plain": [
              "<matplotlib.figure.Figure at 0x7efeb4ac3ba8>"
            ]
          },
          "metadata": {
            "tags": []
          }
        }
      ]
    },
    {
      "metadata": {
        "id": "oWWNjBYPeYsO",
        "colab_type": "code",
        "colab": {}
      },
      "cell_type": "code",
      "source": [
        ""
      ],
      "execution_count": 0,
      "outputs": []
    }
  ]
}