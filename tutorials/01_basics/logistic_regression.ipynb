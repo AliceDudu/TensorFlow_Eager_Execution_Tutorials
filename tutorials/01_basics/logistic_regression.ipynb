{
  "nbformat": 4,
  "nbformat_minor": 0,
  "metadata": {
    "colab": {
      "name": "logistic_regression.ipynb",
      "version": "0.3.2",
      "provenance": [],
      "collapsed_sections": [],
      "include_colab_link": true
    },
    "kernelspec": {
      "display_name": "Python 3",
      "language": "python",
      "name": "python3"
    }
  },
  "cells": [
    {
      "cell_type": "markdown",
      "metadata": {
        "id": "view-in-github",
        "colab_type": "text"
      },
      "source": [
        "<a href=\"https://colab.research.google.com/github/hellocybernetics/TensorFlow_Eager_Execution_Tutorials/blob/master/tutorials/01_basics/logistic_regression.ipynb\" target=\"_parent\"><img src=\"https://colab.research.google.com/assets/colab-badge.svg\" alt=\"Open In Colab\"/></a>"
      ]
    },
    {
      "metadata": {
        "id": "D1OWeBVgXt5B",
        "colab_type": "code",
        "colab": {
          "base_uri": "https://localhost:8080/",
          "height": 667
        },
        "outputId": "2a7beccd-ebf7-48f3-b665-14989aa02a3c"
      },
      "cell_type": "code",
      "source": [
        "!pip install tf-nightly-2.0-preview"
      ],
      "execution_count": 1,
      "outputs": [
        {
          "output_type": "stream",
          "text": [
            "Collecting tf-nightly-2.0-preview\n",
            "\u001b[?25l  Downloading https://files.pythonhosted.org/packages/14/f4/caced52bfdded13e1913c6c6700de847773297d53664666d54cd8f3c06d9/tf_nightly_2.0_preview-1.13.0.dev20190110-cp36-cp36m-manylinux1_x86_64.whl (74.3MB)\n",
            "\u001b[K    100% |████████████████████████████████| 74.3MB 357kB/s \n",
            "\u001b[?25hRequirement already satisfied: protobuf>=3.6.1 in /usr/local/lib/python3.6/dist-packages (from tf-nightly-2.0-preview) (3.6.1)\n",
            "Requirement already satisfied: gast>=0.2.0 in /usr/local/lib/python3.6/dist-packages (from tf-nightly-2.0-preview) (0.2.1.post0)\n",
            "Collecting tensorflow-estimator-2.0-preview (from tf-nightly-2.0-preview)\n",
            "\u001b[?25l  Downloading https://files.pythonhosted.org/packages/e2/c4/e821cf2999928616840b24ae3b25d2713d418b713510822a0ecd829e0002/tensorflow_estimator_2.0_preview-1.13.0.dev2019011100-py2.py3-none-any.whl (243kB)\n",
            "\u001b[K    100% |████████████████████████████████| 245kB 20.1MB/s \n",
            "\u001b[?25hRequirement already satisfied: numpy>=1.13.3 in /usr/local/lib/python3.6/dist-packages (from tf-nightly-2.0-preview) (1.14.6)\n",
            "Requirement already satisfied: wheel>=0.26 in /usr/local/lib/python3.6/dist-packages (from tf-nightly-2.0-preview) (0.32.3)\n",
            "Requirement already satisfied: absl-py>=0.1.6 in /usr/local/lib/python3.6/dist-packages (from tf-nightly-2.0-preview) (0.6.1)\n",
            "Requirement already satisfied: keras-applications>=1.0.6 in /usr/local/lib/python3.6/dist-packages (from tf-nightly-2.0-preview) (1.0.6)\n",
            "Collecting tb-nightly<1.14.0a0,>=1.13.0a0 (from tf-nightly-2.0-preview)\n",
            "\u001b[?25l  Downloading https://files.pythonhosted.org/packages/55/4b/780b9caf8c58b3c1c664781de52f36ff482e30ca0760b1ff4f02ff757cec/tb_nightly-1.13.0a20190107-py3-none-any.whl (3.2MB)\n",
            "\u001b[K    100% |████████████████████████████████| 3.2MB 8.4MB/s \n",
            "\u001b[?25hRequirement already satisfied: six>=1.10.0 in /usr/local/lib/python3.6/dist-packages (from tf-nightly-2.0-preview) (1.11.0)\n",
            "Requirement already satisfied: astor>=0.6.0 in /usr/local/lib/python3.6/dist-packages (from tf-nightly-2.0-preview) (0.7.1)\n",
            "Requirement already satisfied: termcolor>=1.1.0 in /usr/local/lib/python3.6/dist-packages (from tf-nightly-2.0-preview) (1.1.0)\n",
            "Requirement already satisfied: grpcio>=1.8.6 in /usr/local/lib/python3.6/dist-packages (from tf-nightly-2.0-preview) (1.15.0)\n",
            "Collecting google-pasta>=0.1.0 (from tf-nightly-2.0-preview)\n",
            "\u001b[?25l  Downloading https://files.pythonhosted.org/packages/a5/e2/7d191b4613b20fa149e9ebc952f954650fc1dbcabb39e9387f6f1cd5d313/google_pasta-0.1-py3-none-any.whl (51kB)\n",
            "\u001b[K    100% |████████████████████████████████| 61kB 28.1MB/s \n",
            "\u001b[?25hRequirement already satisfied: keras-preprocessing>=1.0.5 in /usr/local/lib/python3.6/dist-packages (from tf-nightly-2.0-preview) (1.0.5)\n",
            "Requirement already satisfied: setuptools in /usr/local/lib/python3.6/dist-packages (from protobuf>=3.6.1->tf-nightly-2.0-preview) (40.6.3)\n",
            "Collecting mock>=2.0.0 (from tensorflow-estimator-2.0-preview->tf-nightly-2.0-preview)\n",
            "\u001b[?25l  Downloading https://files.pythonhosted.org/packages/e6/35/f187bdf23be87092bd0f1200d43d23076cee4d0dec109f195173fd3ebc79/mock-2.0.0-py2.py3-none-any.whl (56kB)\n",
            "\u001b[K    100% |████████████████████████████████| 61kB 25.5MB/s \n",
            "\u001b[?25hRequirement already satisfied: h5py in /usr/local/lib/python3.6/dist-packages (from keras-applications>=1.0.6->tf-nightly-2.0-preview) (2.8.0)\n",
            "Requirement already satisfied: markdown>=2.6.8 in /usr/local/lib/python3.6/dist-packages (from tb-nightly<1.14.0a0,>=1.13.0a0->tf-nightly-2.0-preview) (3.0.1)\n",
            "Requirement already satisfied: werkzeug>=0.11.10 in /usr/local/lib/python3.6/dist-packages (from tb-nightly<1.14.0a0,>=1.13.0a0->tf-nightly-2.0-preview) (0.14.1)\n",
            "Collecting pbr>=0.11 (from mock>=2.0.0->tensorflow-estimator-2.0-preview->tf-nightly-2.0-preview)\n",
            "\u001b[?25l  Downloading https://files.pythonhosted.org/packages/f3/04/fddc1c2dd75b256eda4d360024692231a2c19a0c61ad7f4a162407c1ab58/pbr-5.1.1-py2.py3-none-any.whl (106kB)\n",
            "\u001b[K    100% |████████████████████████████████| 112kB 36.0MB/s \n",
            "\u001b[?25hInstalling collected packages: pbr, mock, tensorflow-estimator-2.0-preview, tb-nightly, google-pasta, tf-nightly-2.0-preview\n",
            "Successfully installed google-pasta-0.1 mock-2.0.0 pbr-5.1.1 tb-nightly-1.13.0a20190107 tensorflow-estimator-2.0-preview-1.13.0.dev2019011100 tf-nightly-2.0-preview-1.13.0.dev20190110\n"
          ],
          "name": "stdout"
        }
      ]
    },
    {
      "metadata": {
        "colab_type": "code",
        "id": "87bcSelqbG0B",
        "colab": {}
      },
      "cell_type": "code",
      "source": [
        "import tensorflow as tf\n",
        "import numpy as np\n",
        "import matplotlib.pyplot as plt\n",
        "%matplotlib inline\n",
        "\n",
        "L = tf.keras.layers"
      ],
      "execution_count": 0,
      "outputs": []
    },
    {
      "metadata": {
        "colab_type": "code",
        "id": "mHu0HEYebXtC",
        "colab": {}
      },
      "cell_type": "code",
      "source": [
        "x_train_p = np.random.randn(20, 2) + 0.9\n",
        "x_train_n = np.random.randn(20, 2) - 0.9\n",
        "\n",
        "x_train = np.vstack([x_train_p, x_train_n])\n",
        "y_train = np.array([1] * 20 + [0] * 20).reshape(-1, 1)"
      ],
      "execution_count": 0,
      "outputs": []
    },
    {
      "metadata": {
        "colab_type": "code",
        "id": "BdhQiS69by1w",
        "outputId": "0bc47f23-d90a-4b40-c810-f5d2a7fb1369",
        "colab": {
          "base_uri": "https://localhost:8080/",
          "height": 283
        }
      },
      "cell_type": "code",
      "source": [
        "plt.plot(x_train_p[:, 0], x_train_p[:, 1], 'ro')\n",
        "plt.plot(x_train_n[:, 0], x_train_n[:, 1], 'bo')"
      ],
      "execution_count": 4,
      "outputs": [
        {
          "output_type": "execute_result",
          "data": {
            "text/plain": [
              "[<matplotlib.lines.Line2D at 0x7f19a01719b0>]"
            ]
          },
          "metadata": {
            "tags": []
          },
          "execution_count": 4
        },
        {
          "output_type": "display_data",
          "data": {
            "image/png": "[encoded data removed]",
            "text/plain": [
              "<matplotlib.figure.Figure at 0x7f19a01719e8>"
            ]
          },
          "metadata": {
            "tags": []
          }
        }
      ]
    },
    {
      "metadata": {
        "colab_type": "code",
        "id": "pbNzBs8EcK6W",
        "colab": {}
      },
      "cell_type": "code",
      "source": [
        "# Hyper-parameters\n",
        "input_size = 2\n",
        "output_size = 1\n",
        "num_epochs = 100\n",
        "learning_rate = 1e-3\n",
        "\n",
        "# convert to tensor\n",
        "x_train_ = tf.convert_to_tensor(x_train, dtype=tf.float32)\n",
        "y_train_ = tf.convert_to_tensor(y_train, dtype=tf.float32)"
      ],
      "execution_count": 0,
      "outputs": []
    },
    {
      "metadata": {
        "colab_type": "code",
        "id": "uQXYbQFrcd4R",
        "colab": {}
      },
      "cell_type": "code",
      "source": [
        "# Logistic regression model\n",
        "model = L.Dense(output_size, activation=\"sigmoid\")\n",
        "\n",
        "# loss function\n",
        "def loss_fn(model, x, y):\n",
        "    predict_y = model(x)\n",
        "    # first arg: true_y,  second arg: predict_y\n",
        "    return tf.keras.losses.binary_crossentropy(y, predict_y)\n",
        "\n",
        "def accuracy_fn(model, x, y):\n",
        "    predict_y = model(x)\n",
        "    return tf.keras.metrics.binary_accuracy(y, predict_y)\n",
        "\n",
        "# optimizer\n",
        "optimizer = tf.keras.optimizers.SGD(learning_rate=learning_rate)"
      ],
      "execution_count": 0,
      "outputs": []
    },
    {
      "metadata": {
        "colab_type": "code",
        "id": "nsSpGV4vlBnK",
        "outputId": "5d6633c2-3a56-43cd-f4ff-5579f74e68ac",
        "colab": {
          "base_uri": "https://localhost:8080/",
          "height": 283
        }
      },
      "cell_type": "code",
      "source": [
        "model(x_train_)\n",
        "coeffs = model.weights[0].numpy()\n",
        "bias = model.weights[1].numpy()\n",
        "\n",
        "plt.plot(x_train_p[:, 0], x_train_p[:, 1], 'ro')\n",
        "plt.plot(x_train_n[:, 0], x_train_n[:, 1], 'bo')\n",
        "\n",
        "plot_x = np.array([min(x_train[:,0])-0.5, max(x_train[:,0])+0.5])\n",
        "plot_y = - (bias + coeffs[0]*plot_x) / coeffs[1]\n",
        "plt.plot(plot_x, plot_y, 'g')\n",
        "plt.axis([-3.5, 3.5, -3.5, 3.5])"
      ],
      "execution_count": 15,
      "outputs": [
        {
          "output_type": "execute_result",
          "data": {
            "text/plain": [
              "[-3.5, 3.5, -3.5, 3.5]"
            ]
          },
          "metadata": {
            "tags": []
          },
          "execution_count": 15
        },
        {
          "output_type": "display_data",
          "data": {
            "image/png": "[encoded data removed]",
            "text/plain": [
              "<matplotlib.figure.Figure at 0x7f199753b550>"
            ]
          },
          "metadata": {
            "tags": []
          }
        }
      ]
    },
    {
      "metadata": {
        "colab_type": "code",
        "id": "gl7aAemcdgCZ",
        "outputId": "0a34f36c-6c9b-4243-860e-2824656f4377",
        "colab": {
          "base_uri": "https://localhost:8080/",
          "height": 377
        }
      },
      "cell_type": "code",
      "source": [
        "for epoch in range(num_epochs):\n",
        "    with tf.GradientTape() as tape:\n",
        "        loss = loss_fn(model, x_train_, y_train_)\n",
        "    grads = tape.gradient(loss, model.variables)\n",
        "    \n",
        "    accuracy = accuracy_fn(model=model, x=x_train_, y=y_train_)\n",
        "    \n",
        "    if (epoch+1) % 5 == 0:\n",
        "        print(\n",
        "            \"loss: {:0.3f},  acc: {}\".format(\n",
        "                tf.reduce_sum(loss).numpy(),\n",
        "                accuracy.numpy().mean()   \n",
        "            )  \n",
        "        ) \n",
        "    # update prameters using grads\n",
        "    optimizer.apply_gradients(zip(grads, model.variables))"
      ],
      "execution_count": 16,
      "outputs": [
        {
          "output_type": "stream",
          "text": [
            "loss: 22.386,  acc: 0.8500000238418579\n",
            "loss: 20.162,  acc: 0.8500000238418579\n",
            "loss: 18.398,  acc: 0.925000011920929\n",
            "loss: 16.980,  acc: 0.925000011920929\n",
            "loss: 15.821,  acc: 0.949999988079071\n",
            "loss: 14.861,  acc: 0.949999988079071\n",
            "loss: 14.055,  acc: 0.949999988079071\n",
            "loss: 13.370,  acc: 0.949999988079071\n",
            "loss: 12.782,  acc: 0.949999988079071\n",
            "loss: 12.271,  acc: 0.949999988079071\n",
            "loss: 11.824,  acc: 0.949999988079071\n",
            "loss: 11.429,  acc: 0.949999988079071\n",
            "loss: 11.079,  acc: 0.949999988079071\n",
            "loss: 10.766,  acc: 0.949999988079071\n",
            "loss: 10.484,  acc: 0.949999988079071\n",
            "loss: 10.229,  acc: 0.949999988079071\n",
            "loss: 9.998,  acc: 0.949999988079071\n",
            "loss: 9.787,  acc: 0.949999988079071\n",
            "loss: 9.593,  acc: 0.949999988079071\n",
            "loss: 9.416,  acc: 0.949999988079071\n"
          ],
          "name": "stdout"
        }
      ]
    },
    {
      "metadata": {
        "colab_type": "code",
        "id": "6o1jBmIrkPR0",
        "outputId": "9867775d-12e3-426f-e30d-a4814c1c661b",
        "colab": {
          "base_uri": "https://localhost:8080/",
          "height": 283
        }
      },
      "cell_type": "code",
      "source": [
        "coeffs = model.weights[0].numpy()\n",
        "bias = model.weights[1].numpy()\n",
        "\n",
        "plt.plot(x_train_p[:, 0], x_train_p[:, 1], 'ro')\n",
        "plt.plot(x_train_n[:, 0], x_train_n[:, 1], 'bo')\n",
        "\n",
        "plot_x = np.array([min(x_train[:,0])-0.5, max(x_train[:,0])+0.5])\n",
        "plot_y = - (bias + coeffs[0]*plot_x) / coeffs[1]\n",
        "plt.plot(plot_x, plot_y, 'g')\n",
        "plt.axis([-3.5, 3.5, -3.5, 3.5])"
      ],
      "execution_count": 17,
      "outputs": [
        {
          "output_type": "execute_result",
          "data": {
            "text/plain": [
              "[-3.5, 3.5, -3.5, 3.5]"
            ]
          },
          "metadata": {
            "tags": []
          },
          "execution_count": 17
        },
        {
          "output_type": "display_data",
          "data": {
            "image/png": "[encoded data removed]",
            "text/plain": [
              "<matplotlib.figure.Figure at 0x7f199755d550>"
            ]
          },
          "metadata": {
            "tags": []
          }
        }
      ]
    },
    {
      "metadata": {
        "colab_type": "code",
        "id": "oWWNjBYPeYsO",
        "colab": {}
      },
      "cell_type": "code",
      "source": [
        ""
      ],
      "execution_count": 0,
      "outputs": []
    }
  ]
}