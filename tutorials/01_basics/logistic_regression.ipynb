{
  "nbformat": 4,
  "nbformat_minor": 0,
  "metadata": {
    "colab": {
      "name": "logistic_regression.ipynb",
      "version": "0.3.2",
      "provenance": [],
      "collapsed_sections": [],
      "include_colab_link": true
    },
    "kernelspec": {
      "name": "python3",
      "display_name": "Python 3"
    }
  },
  "cells": [
    {
      "cell_type": "markdown",
      "metadata": {
        "id": "view-in-github",
        "colab_type": "text"
      },
      "source": [
        "<a href=\"https://colab.research.google.com/github/hellocybernetics/TensorFlow_Eager_Execution_Tutorials/blob/master/tutorials/01_basics/logistic_regression.ipynb\" target=\"_parent\"><img src=\"https://colab.research.google.com/assets/colab-badge.svg\" alt=\"Open In Colab\"/></a>"
      ]
    },
    {
      "metadata": {
        "id": "87bcSelqbG0B",
        "colab_type": "code",
        "colab": {}
      },
      "cell_type": "code",
      "source": [
        "import tensorflow as tf\n",
        "import numpy as np\n",
        "import matplotlib.pyplot as plt\n",
        "%matplotlib inline\n",
        "\n",
        "tf.enable_eager_execution()\n",
        "tfk = tf.keras\n",
        "tfe = tf.contrib.eager"
      ],
      "execution_count": 0,
      "outputs": []
    },
    {
      "metadata": {
        "id": "mHu0HEYebXtC",
        "colab_type": "code",
        "colab": {}
      },
      "cell_type": "code",
      "source": [
        "x_train_p = np.random.randn(20, 2) + 0.9\n",
        "x_train_n = np.random.randn(20, 2) - 0.9\n",
        "\n",
        "x_train = np.vstack([x_train_p, x_train_n])\n",
        "y_train = np.array([1] * 20 + [0] * 20).reshape(-1, 1)"
      ],
      "execution_count": 0,
      "outputs": []
    },
    {
      "metadata": {
        "id": "BdhQiS69by1w",
        "colab_type": "code",
        "colab": {
          "base_uri": "https://localhost:8080/",
          "height": 283
        },
        "outputId": "9b96af53-c067-4756-fe4e-e21869d94a6f"
      },
      "cell_type": "code",
      "source": [
        "plt.plot(x_train_p[:, 0], x_train_p[:, 1], 'ro')\n",
        "plt.plot(x_train_n[:, 0], x_train_n[:, 1], 'bo')"
      ],
      "execution_count": 89,
      "outputs": [
        {
          "output_type": "execute_result",
          "data": {
            "text/plain": [
              "[<matplotlib.lines.Line2D at 0x7efbed759278>]"
            ]
          },
          "metadata": {
            "tags": []
          },
          "execution_count": 89
        },
        {
          "output_type": "display_data",
          "data": {
            "image/png": "[encoded data removed]",
            "text/plain": [
              "<matplotlib.figure.Figure at 0x7efbed759e10>"
            ]
          },
          "metadata": {
            "tags": []
          }
        }
      ]
    },
    {
      "metadata": {
        "id": "pbNzBs8EcK6W",
        "colab_type": "code",
        "colab": {}
      },
      "cell_type": "code",
      "source": [
        "# Hyper-parameters\n",
        "input_size = 2\n",
        "output_size = 1\n",
        "num_epochs = 100\n",
        "learning_rate = 1e-3\n",
        "\n",
        "# convert to tensor\n",
        "x_train_ = tf.convert_to_tensor(x_train, dtype=tf.float32)\n",
        "y_train_ = tf.convert_to_tensor(y_train, dtype=tf.float32)"
      ],
      "execution_count": 0,
      "outputs": []
    },
    {
      "metadata": {
        "id": "uQXYbQFrcd4R",
        "colab_type": "code",
        "colab": {}
      },
      "cell_type": "code",
      "source": [
        "# Logistic regression model\n",
        "model = tfk.layers.Dense(output_size, activation=\"sigmoid\")\n",
        "\n",
        "# loss function\n",
        "def loss_fn(model, x, y):\n",
        "    predict_y = model(x)\n",
        "    # first arg: true_y,  second arg: predict_y\n",
        "    return tfk.losses.binary_crossentropy(y, predict_y)\n",
        "\n",
        "def accuracy_fn(model, x, y):\n",
        "    predict_y = model(x)\n",
        "    return tfk.metrics.binary_accuracy(y, predict_y)\n",
        "\n",
        "# prepare auto diff\n",
        "value_and_grads = tfe.implicit_value_and_gradients(loss_fn)\n",
        "\n",
        "# optimizer\n",
        "optimizer = tf.train.GradientDescentOptimizer(learning_rate=learning_rate)"
      ],
      "execution_count": 0,
      "outputs": []
    },
    {
      "metadata": {
        "id": "nsSpGV4vlBnK",
        "colab_type": "code",
        "colab": {
          "base_uri": "https://localhost:8080/",
          "height": 283
        },
        "outputId": "addaad1e-997a-465b-c1e0-86b5828f5312"
      },
      "cell_type": "code",
      "source": [
        "model(x_train_)\n",
        "coeffs = model.weights[0].numpy()\n",
        "bias = model.weights[1].numpy()\n",
        "\n",
        "plt.plot(x_train_p[:, 0], x_train_p[:, 1], 'ro')\n",
        "plt.plot(x_train_n[:, 0], x_train_n[:, 1], 'bo')\n",
        "\n",
        "plot_x = np.array([min(x_train[:,0])-0.5, max(x_train[:,0])+0.5])\n",
        "plot_y = - (bias + coeffs[0]*plot_x) / coeffs[1]\n",
        "plt.plot(plot_x, plot_y, 'g')\n",
        "plt.axis([-3.5, 3.5, -3.5, 3.5])"
      ],
      "execution_count": 111,
      "outputs": [
        {
          "output_type": "execute_result",
          "data": {
            "text/plain": [
              "[-3.5, 3.5, -3.5, 3.5]"
            ]
          },
          "metadata": {
            "tags": []
          },
          "execution_count": 111
        },
        {
          "output_type": "display_data",
          "data": {
            "image/png": "[encoded data removed]",
            "text/plain": [
              "<matplotlib.figure.Figure at 0x7efbed834438>"
            ]
          },
          "metadata": {
            "tags": []
          }
        }
      ]
    },
    {
      "metadata": {
        "id": "gl7aAemcdgCZ",
        "colab_type": "code",
        "colab": {
          "base_uri": "https://localhost:8080/",
          "height": 377
        },
        "outputId": "8bde7d73-3859-45b4-c67f-169230289e78"
      },
      "cell_type": "code",
      "source": [
        "for epoch in range(num_epochs):\n",
        "    loss, grads = value_and_grads(model=model, x=x_train_, y=y_train_)\n",
        "    accuracy = accuracy_fn(model=model, x=x_train, y=y_train)\n",
        "    \n",
        "    if (epoch+1) % 5 == 0:\n",
        "        print(\n",
        "            \"loss: {:0.3f},  acc: {}\".format(\n",
        "                tf.reduce_sum(loss).numpy(),\n",
        "                accuracy.numpy().mean()   \n",
        "            )  \n",
        "        ) \n",
        "    # update prameters using grads\n",
        "    optimizer.apply_gradients(grads)"
      ],
      "execution_count": 112,
      "outputs": [
        {
          "output_type": "stream",
          "text": [
            "loss: 37.299,  acc: 0.5\n",
            "loss: 34.067,  acc: 0.5249999761581421\n",
            "loss: 31.269,  acc: 0.6000000238418579\n",
            "loss: 28.852,  acc: 0.625\n",
            "loss: 26.765,  acc: 0.625\n",
            "loss: 24.962,  acc: 0.675000011920929\n",
            "loss: 23.400,  acc: 0.699999988079071\n",
            "loss: 22.043,  acc: 0.75\n",
            "loss: 20.859,  acc: 0.824999988079071\n",
            "loss: 19.823,  acc: 0.824999988079071\n",
            "loss: 18.913,  acc: 0.824999988079071\n",
            "loss: 18.111,  acc: 0.8500000238418579\n",
            "loss: 17.400,  acc: 0.8500000238418579\n",
            "loss: 16.769,  acc: 0.875\n",
            "loss: 16.206,  acc: 0.8999999761581421\n",
            "loss: 15.702,  acc: 0.8999999761581421\n",
            "loss: 15.249,  acc: 0.875\n",
            "loss: 14.841,  acc: 0.8999999761581421\n",
            "loss: 14.471,  acc: 0.8999999761581421\n",
            "loss: 14.135,  acc: 0.925000011920929\n"
          ],
          "name": "stdout"
        }
      ]
    },
    {
      "metadata": {
        "id": "6o1jBmIrkPR0",
        "colab_type": "code",
        "colab": {
          "base_uri": "https://localhost:8080/",
          "height": 283
        },
        "outputId": "a132faaf-c027-4719-9f61-431a2aa3741a"
      },
      "cell_type": "code",
      "source": [
        "coeffs = model.weights[0].numpy()\n",
        "bias = model.weights[1].numpy()\n",
        "\n",
        "plt.plot(x_train_p[:, 0], x_train_p[:, 1], 'ro')\n",
        "plt.plot(x_train_n[:, 0], x_train_n[:, 1], 'bo')\n",
        "\n",
        "plot_x = np.array([min(x_train[:,0])-0.5, max(x_train[:,0])+0.5])\n",
        "plot_y = - (bias + coeffs[0]*plot_x) / coeffs[1]\n",
        "plt.plot(plot_x, plot_y, 'g')\n",
        "plt.axis([-3.5, 3.5, -3.5, 3.5])"
      ],
      "execution_count": 113,
      "outputs": [
        {
          "output_type": "execute_result",
          "data": {
            "text/plain": [
              "[-3.5, 3.5, -3.5, 3.5]"
            ]
          },
          "metadata": {
            "tags": []
          },
          "execution_count": 113
        },
        {
          "output_type": "display_data",
          "data": {
            "image/png": "[encoded data removed]",
            "text/plain": [
              "<matplotlib.figure.Figure at 0x7efbed19c4a8>"
            ]
          },
          "metadata": {
            "tags": []
          }
        }
      ]
    },
    {
      "metadata": {
        "id": "oWWNjBYPeYsO",
        "colab_type": "code",
        "colab": {}
      },
      "cell_type": "code",
      "source": [
        ""
      ],
      "execution_count": 0,
      "outputs": []
    }
  ]
}