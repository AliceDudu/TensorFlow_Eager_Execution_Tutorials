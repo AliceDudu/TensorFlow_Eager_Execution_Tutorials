{
  "nbformat": 4,
  "nbformat_minor": 0,
  "metadata": {
    "colab": {
      "name": "hyper_parameter_optimization_using_optuna.ipynb",
      "version": "0.3.2",
      "provenance": [],
      "collapsed_sections": [],
      "include_colab_link": true
    },
    "kernelspec": {
      "name": "python3",
      "display_name": "Python 3"
    },
    "accelerator": "GPU"
  },
  "cells": [
    {
      "cell_type": "markdown",
      "metadata": {
        "id": "view-in-github",
        "colab_type": "text"
      },
      "source": [
        "<a href=\"https://colab.research.google.com/github/hellocybernetics/TensorFlow_Eager_Execution_Tutorials/blob/master/tutorials/99_others/hyper_parameter_optimization_using_optuna.ipynb\" target=\"_parent\"><img src=\"https://colab.research.google.com/assets/colab-badge.svg\" alt=\"Open In Colab\"/></a>"
      ]
    },
    {
      "metadata": {
        "id": "hEGdO_cDRZtT",
        "colab_type": "code",
        "outputId": "71ee3cda-616c-4670-8a33-f16973cf7cdd",
        "colab": {
          "base_uri": "https://localhost:8080/",
          "height": 395
        }
      },
      "cell_type": "code",
      "source": [
        "!pip install optuna"
      ],
      "execution_count": 1,
      "outputs": [
        {
          "output_type": "stream",
          "text": [
            "Requirement already satisfied: optuna in /usr/local/lib/python3.6/dist-packages (0.4.0)\n",
            "Requirement already satisfied: numpy in /usr/local/lib/python3.6/dist-packages (from optuna) (1.14.6)\n",
            "Requirement already satisfied: cliff in /usr/local/lib/python3.6/dist-packages (from optuna) (2.14.0)\n",
            "Requirement already satisfied: typing in /usr/local/lib/python3.6/dist-packages (from optuna) (3.6.6)\n",
            "Requirement already satisfied: sqlalchemy>=1.1.0 in /usr/local/lib/python3.6/dist-packages (from optuna) (1.2.14)\n",
            "Requirement already satisfied: six in /usr/local/lib/python3.6/dist-packages (from optuna) (1.11.0)\n",
            "Requirement already satisfied: colorlog in /usr/local/lib/python3.6/dist-packages (from optuna) (3.1.4)\n",
            "Requirement already satisfied: scipy in /usr/local/lib/python3.6/dist-packages (from optuna) (1.1.0)\n",
            "Requirement already satisfied: pandas in /usr/local/lib/python3.6/dist-packages (from optuna) (0.22.0)\n",
            "Requirement already satisfied: pbr!=2.1.0,>=2.0.0 in /usr/local/lib/python3.6/dist-packages (from cliff->optuna) (5.1.1)\n",
            "Requirement already satisfied: PyYAML>=3.12 in /usr/local/lib/python3.6/dist-packages (from cliff->optuna) (3.13)\n",
            "Requirement already satisfied: pyparsing>=2.1.0 in /usr/local/lib/python3.6/dist-packages (from cliff->optuna) (2.3.0)\n",
            "Requirement already satisfied: PrettyTable<0.8,>=0.7.2 in /usr/local/lib/python3.6/dist-packages (from cliff->optuna) (0.7.2)\n",
            "Requirement already satisfied: cmd2!=0.8.3; python_version >= \"3.0\" in /usr/local/lib/python3.6/dist-packages (from cliff->optuna) (0.9.6)\n",
            "Requirement already satisfied: stevedore>=1.20.0 in /usr/local/lib/python3.6/dist-packages (from cliff->optuna) (1.30.0)\n",
            "Requirement already satisfied: pytz>=2011k in /usr/local/lib/python3.6/dist-packages (from pandas->optuna) (2018.7)\n",
            "Requirement already satisfied: python-dateutil>=2 in /usr/local/lib/python3.6/dist-packages (from pandas->optuna) (2.5.3)\n",
            "Requirement already satisfied: colorama in /usr/local/lib/python3.6/dist-packages (from cmd2!=0.8.3; python_version >= \"3.0\"->cliff->optuna) (0.4.1)\n",
            "Requirement already satisfied: wcwidth>=0.1.7 in /usr/local/lib/python3.6/dist-packages (from cmd2!=0.8.3; python_version >= \"3.0\"->cliff->optuna) (0.1.7)\n",
            "Requirement already satisfied: pyperclip>=1.5.27 in /usr/local/lib/python3.6/dist-packages (from cmd2!=0.8.3; python_version >= \"3.0\"->cliff->optuna) (1.7.0)\n",
            "Requirement already satisfied: attrs>=16.3.0 in /usr/local/lib/python3.6/dist-packages (from cmd2!=0.8.3; python_version >= \"3.0\"->cliff->optuna) (18.2.0)\n"
          ],
          "name": "stdout"
        }
      ]
    },
    {
      "metadata": {
        "id": "f9RXqstTRbh6",
        "colab_type": "code",
        "colab": {}
      },
      "cell_type": "code",
      "source": [
        "import numpy as np\n",
        "import tensorflow as tf\n",
        "import optuna\n",
        "import matplotlib.pyplot as plt\n",
        "%matplotlib inline"
      ],
      "execution_count": 0,
      "outputs": []
    },
    {
      "metadata": {
        "id": "Yat5OJitSfdU",
        "colab_type": "text"
      },
      "cell_type": "markdown",
      "source": [
        "## Simple Practice\n",
        "### objective function\n",
        "\n",
        "$$\n",
        "f(x) = 2x^4 - 5x^2 + x\n",
        "$$\n",
        "\n",
        "We will find the minimum value of $f(x^*)$ and $x^*$ using optuna which is provided Prefferd Networks."
      ]
    },
    {
      "metadata": {
        "id": "A5P1SAEQTsYE",
        "colab_type": "text"
      },
      "cell_type": "markdown",
      "source": [
        "### graph of $f(x)$"
      ]
    },
    {
      "metadata": {
        "id": "lpodxwYrSJlD",
        "colab_type": "code",
        "outputId": "168f7e0f-6273-496b-e777-3ac29f798c69",
        "colab": {
          "base_uri": "https://localhost:8080/",
          "height": 283
        }
      },
      "cell_type": "code",
      "source": [
        "x = np.linspace(-2, 2, 1000)\n",
        "plt.plot(x, 2*x**4 - 5*x**2 + x)"
      ],
      "execution_count": 3,
      "outputs": [
        {
          "output_type": "execute_result",
          "data": {
            "text/plain": [
              "[<matplotlib.lines.Line2D at 0x7f7794cfd048>]"
            ]
          },
          "metadata": {
            "tags": []
          },
          "execution_count": 3
        },
        {
          "output_type": "display_data",
          "data": {
            "image/png": "[encoded data removed]",
            "text/plain": [
              "<matplotlib.figure.Figure at 0x7f77951935c0>"
            ]
          },
          "metadata": {
            "tags": []
          }
        }
      ]
    },
    {
      "metadata": {
        "id": "s450_JAEUdHJ",
        "colab_type": "text"
      },
      "cell_type": "markdown",
      "source": [
        "### optimization\n",
        "We will minimize $f(x)$ where $x \\in [-2, 2]$."
      ]
    },
    {
      "metadata": {
        "id": "DfpefAF_U4jf",
        "colab_type": "code",
        "colab": {}
      },
      "cell_type": "code",
      "source": [
        "def objective(trial):\n",
        "    x = trial.suggest_uniform('x', -2, 2)\n",
        "    return 2*x**4 - 5*x**2 + x"
      ],
      "execution_count": 0,
      "outputs": []
    },
    {
      "metadata": {
        "id": "RVaDH3B0VkUA",
        "colab_type": "code",
        "outputId": "72fa675b-62af-47d9-e193-85cd63eb24de",
        "colab": {
          "base_uri": "https://localhost:8080/",
          "height": 577
        }
      },
      "cell_type": "code",
      "source": [
        "study = optuna.create_study()\n",
        "study.optimize(objective, n_trials=30)"
      ],
      "execution_count": 5,
      "outputs": [
        {
          "output_type": "stream",
          "text": [
            "[I 2018-12-03 10:31:56,787] Finished a trial resulted in value: -0.5300725948096164. Current best value is -0.5300725948096164 with parameters: {'x': 0.4676137258323778}.\n",
            "[I 2018-12-03 10:31:56,794] Finished a trial resulted in value: -0.35272751992672957. Current best value is -0.5300725948096164 with parameters: {'x': 0.4676137258323778}.\n",
            "[I 2018-12-03 10:31:56,804] Finished a trial resulted in value: -1.7286986521671333. Current best value is -1.7286986521671333 with parameters: {'x': -0.5205774008418671}.\n",
            "[I 2018-12-03 10:31:56,812] Finished a trial resulted in value: -1.354773555213122. Current best value is -1.7286986521671333 with parameters: {'x': -0.5205774008418671}.\n",
            "[I 2018-12-03 10:31:56,823] Finished a trial resulted in value: -0.29083295569339396. Current best value is -1.7286986521671333 with parameters: {'x': -0.5205774008418671}.\n",
            "[I 2018-12-03 10:31:56,833] Finished a trial resulted in value: -3.9286181221456906. Current best value is -3.9286181221456906 with parameters: {'x': -0.9773702273572917}.\n",
            "[I 2018-12-03 10:31:56,842] Finished a trial resulted in value: -1.9186827057869835. Current best value is -3.9286181221456906 with parameters: {'x': -0.9773702273572917}.\n",
            "[I 2018-12-03 10:31:56,851] Finished a trial resulted in value: -2.0068101953310156. Current best value is -3.9286181221456906 with parameters: {'x': -0.9773702273572917}.\n",
            "[I 2018-12-03 10:31:56,861] Finished a trial resulted in value: -1.8288133509148814. Current best value is -3.9286181221456906 with parameters: {'x': -0.9773702273572917}.\n",
            "[I 2018-12-03 10:31:56,870] Finished a trial resulted in value: 1.7025451770247817. Current best value is -3.9286181221456906 with parameters: {'x': -0.9773702273572917}.\n",
            "[I 2018-12-03 10:31:56,885] Finished a trial resulted in value: 9.175169026165388. Current best value is -3.9286181221456906 with parameters: {'x': -0.9773702273572917}.\n",
            "[I 2018-12-03 10:31:56,897] Finished a trial resulted in value: -0.5145379637370342. Current best value is -3.9286181221456906 with parameters: {'x': -0.9773702273572917}.\n",
            "[I 2018-12-03 10:31:56,911] Finished a trial resulted in value: 0.7055813392549488. Current best value is -3.9286181221456906 with parameters: {'x': -0.9773702273572917}.\n",
            "[I 2018-12-03 10:31:56,924] Finished a trial resulted in value: -1.5361198188459715. Current best value is -3.9286181221456906 with parameters: {'x': -0.9773702273572917}.\n",
            "[I 2018-12-03 10:31:56,938] Finished a trial resulted in value: 4.340372087653771. Current best value is -3.9286181221456906 with parameters: {'x': -0.9773702273572917}.\n",
            "[I 2018-12-03 10:31:56,952] Finished a trial resulted in value: -3.633101809386983. Current best value is -3.9286181221456906 with parameters: {'x': -0.9773702273572917}.\n",
            "[I 2018-12-03 10:31:56,968] Finished a trial resulted in value: -2.224898761736455. Current best value is -3.9286181221456906 with parameters: {'x': -0.9773702273572917}.\n",
            "[I 2018-12-03 10:31:56,982] Finished a trial resulted in value: 7.42522474872656. Current best value is -3.9286181221456906 with parameters: {'x': -0.9773702273572917}.\n",
            "[I 2018-12-03 10:31:56,996] Finished a trial resulted in value: 6.061758687488581. Current best value is -3.9286181221456906 with parameters: {'x': -0.9773702273572917}.\n",
            "[I 2018-12-03 10:31:57,011] Finished a trial resulted in value: 8.397448699851859. Current best value is -3.9286181221456906 with parameters: {'x': -0.9773702273572917}.\n",
            "[I 2018-12-03 10:31:57,025] Finished a trial resulted in value: 6.004221526484461. Current best value is -3.9286181221456906 with parameters: {'x': -0.9773702273572917}.\n",
            "[I 2018-12-03 10:31:57,039] Finished a trial resulted in value: -3.170663170965698. Current best value is -3.9286181221456906 with parameters: {'x': -0.9773702273572917}.\n",
            "[I 2018-12-03 10:31:57,053] Finished a trial resulted in value: -2.4093736359277225. Current best value is -3.9286181221456906 with parameters: {'x': -0.9773702273572917}.\n",
            "[I 2018-12-03 10:31:57,068] Finished a trial resulted in value: -3.3592669847167977. Current best value is -3.9286181221456906 with parameters: {'x': -0.9773702273572917}.\n",
            "[I 2018-12-03 10:31:57,082] Finished a trial resulted in value: -3.35979246782005. Current best value is -3.9286181221456906 with parameters: {'x': -0.9773702273572917}.\n",
            "[I 2018-12-03 10:31:57,096] Finished a trial resulted in value: -2.8343982647280077. Current best value is -3.9286181221456906 with parameters: {'x': -0.9773702273572917}.\n",
            "[I 2018-12-03 10:31:57,111] Finished a trial resulted in value: -1.9937662705171668. Current best value is -3.9286181221456906 with parameters: {'x': -0.9773702273572917}.\n",
            "[I 2018-12-03 10:31:57,127] Finished a trial resulted in value: -4.021255980503703. Current best value is -4.021255980503703 with parameters: {'x': -1.0072075405886374}.\n",
            "[I 2018-12-03 10:31:57,144] Finished a trial resulted in value: 2.4787657961007756. Current best value is -4.021255980503703 with parameters: {'x': -1.0072075405886374}.\n",
            "[I 2018-12-03 10:31:57,162] Finished a trial resulted in value: -1.9074681414515262. Current best value is -4.021255980503703 with parameters: {'x': -1.0072075405886374}.\n"
          ],
          "name": "stderr"
        }
      ]
    },
    {
      "metadata": {
        "id": "wVUVGdgElvUS",
        "colab_type": "text"
      },
      "cell_type": "markdown",
      "source": [
        "### result"
      ]
    },
    {
      "metadata": {
        "id": "KkHAFT-wlxGL",
        "colab_type": "code",
        "colab": {
          "base_uri": "https://localhost:8080/",
          "height": 319
        },
        "outputId": "00965aa9-3654-4bef-8968-ebef2e433e04"
      },
      "cell_type": "code",
      "source": [
        "print(\"minimum f(x) : \", study.best_value)\n",
        "print(\"argmin f(x) : \", study.best_params)\n",
        "\n",
        "plt.plot(x, 2*x**4 - 5*x**2 + x, \"b\")\n",
        "plt.plot(study.best_params['x'], study.best_value, \"ro\")\n",
        "plt.legend([\"objective function f(x)\", \"minimized solution\"])"
      ],
      "execution_count": 6,
      "outputs": [
        {
          "output_type": "stream",
          "text": [
            "minimum f(x) :  -4.021255980503703\n",
            "argmin f(x) :  {'x': -1.0072075405886374}\n"
          ],
          "name": "stdout"
        },
        {
          "output_type": "execute_result",
          "data": {
            "text/plain": [
              "<matplotlib.legend.Legend at 0x7f779238ed30>"
            ]
          },
          "metadata": {
            "tags": []
          },
          "execution_count": 6
        },
        {
          "output_type": "display_data",
          "data": {
            "image/png": "[encoded data removed]",
            "text/plain": [
              "<matplotlib.figure.Figure at 0x7f7794cca828>"
            ]
          },
          "metadata": {
            "tags": []
          }
        }
      ]
    },
    {
      "metadata": {
        "id": "VKLvW5bNml38",
        "colab_type": "text"
      },
      "cell_type": "markdown",
      "source": [
        "## optuna for TensorFlow Eager"
      ]
    },
    {
      "metadata": {
        "id": "i-6Q8ZhFoIM3",
        "colab_type": "code",
        "colab": {}
      },
      "cell_type": "code",
      "source": [
        "tf.enable_eager_execution()"
      ],
      "execution_count": 0,
      "outputs": []
    },
    {
      "metadata": {
        "id": "97j6lDnPqiKc",
        "colab_type": "text"
      },
      "cell_type": "markdown",
      "source": [
        "### Create model\n",
        "In this section, create_model funtion have an arg `trial` which is represente search spaces of 'num of layers' and 'dropout_rate'.  "
      ]
    },
    {
      "metadata": {
        "id": "azKN7qZomiZq",
        "colab_type": "code",
        "colab": {}
      },
      "cell_type": "code",
      "source": [
        "def create_model(trial):\n",
        "    # num of hidden layer\n",
        "    n_layers = trial.suggest_int('n_layers', 1, 3)\n",
        "    \n",
        "    # dropout_rate\n",
        "    dropout_rate = trial.suggest_uniform('dropout_rate', 0.0, 0.5)\n",
        "    \n",
        "    layers = []\n",
        "    for i in range(n_layers):\n",
        "        layers.append(\n",
        "            tf.keras.layers.Conv2D(filters=(i+1)*16, \n",
        "                                   kernel_size=3, \n",
        "                                   padding=\"same\",\n",
        "                                   activation=\"relu\")\n",
        "        )\n",
        "        layers.append(\n",
        "            tf.keras.layers.MaxPool2D(pool_size=2, padding=\"same\")\n",
        "        )\n",
        "        layers.append(\n",
        "            tf.keras.layers.Dropout(rate=dropout_rate)\n",
        "        )\n",
        "    \n",
        "    layers.append(tf.keras.layers.Flatten())\n",
        "    layers.append(tf.keras.layers.Dense(128, activation=\"relu\"))\n",
        "    layers.append(tf.keras.layers.Dense(10, activation=\"softmax\"))\n",
        "    \n",
        "    return tf.keras.Sequential(layers)\n",
        "    "
      ],
      "execution_count": 0,
      "outputs": []
    },
    {
      "metadata": {
        "id": "U2Fc5tgUrdxq",
        "colab_type": "text"
      },
      "cell_type": "markdown",
      "source": [
        "### create optimizer\n",
        "Then, we create optimzier."
      ]
    },
    {
      "metadata": {
        "id": "rFTtEaWarnRj",
        "colab_type": "code",
        "colab": {}
      },
      "cell_type": "code",
      "source": [
        "def create_optimizer(trial):\n",
        "    # Loguniform parameter\n",
        "    learning_rate = trial.suggest_loguniform('learning_rate', 1e-5, 1e-2)\n",
        "    \n",
        "    optimizer = tf.train.AdamOptimizer(learning_rate=learning_rate)\n",
        "    \n",
        "    return optimizer"
      ],
      "execution_count": 0,
      "outputs": []
    },
    {
      "metadata": {
        "id": "jT_VtYxArpiM",
        "colab_type": "text"
      },
      "cell_type": "markdown",
      "source": [
        "### create trainer\n",
        "In this section we will create trainer which is simply training loop. We will use keras training API. "
      ]
    },
    {
      "metadata": {
        "id": "Zp3giJkNrt4D",
        "colab_type": "code",
        "colab": {}
      },
      "cell_type": "code",
      "source": [
        "def trainer(trial, x_train, y_train):\n",
        "    \n",
        "    batch_size=trial.suggest_categorical('batch_size', [256, 512, 1024])\n",
        "    \n",
        "    model = create_model(trial)\n",
        "    optimizer = create_optimizer(trial)\n",
        "    \n",
        "    model.compile(optimizer=optimizer,\n",
        "                  loss='categorical_crossentropy',\n",
        "                  metrics=[\"accuracy\"])\n",
        "\n",
        "    model.fit(x=x_train,\n",
        "              y=y_train,\n",
        "              batch_size=batch_size,\n",
        "              epochs=5,\n",
        "              )\n",
        "\n",
        "    return model"
      ],
      "execution_count": 0,
      "outputs": []
    },
    {
      "metadata": {
        "id": "9d4YkpsbvFyN",
        "colab_type": "text"
      },
      "cell_type": "markdown",
      "source": [
        "#### objective\n",
        "We create objective function. Note that optuna minimize objective function, so when we create objective function, this is defined \"better equal to smaller\". Therefore, we define objective function \"`1 - accuracy`\"."
      ]
    },
    {
      "metadata": {
        "id": "J6Cbvwi5vExo",
        "colab_type": "code",
        "colab": {}
      },
      "cell_type": "code",
      "source": [
        "def objective(trial):\n",
        "    \n",
        "    (x_train, y_train),(x_test, y_test) = tf.keras.datasets.mnist.load_data()\n",
        "    x_train, x_test = x_train / 255.0, x_test / 255.0\n",
        "    x_train = x_train.reshape(-1, 28, 28, 1)\n",
        "    x_test = x_test.reshape(-1, 28, 28, 1)\n",
        "\n",
        "    x_train_ = tf.convert_to_tensor(x_train, dtype=tf.float32)\n",
        "    y_train_ = tf.reshape(tf.one_hot(y_train, 10), (-1, 10))\n",
        "    x_test_ = tf.convert_to_tensor(x_test, dtype=tf.float32)\n",
        "    y_test_ = tf.reshape(tf.one_hot(y_test, 10), (-1, 10))\n",
        "\n",
        "\n",
        "    model = trainer(trial, x_train_, y_train_)\n",
        "    \n",
        "    evaluate = model.evaluate(x=x_test_, y=y_test_)\n",
        "    return 1 - evaluate[1]"
      ],
      "execution_count": 0,
      "outputs": []
    },
    {
      "metadata": {
        "id": "zbyt4Xpnv9Yc",
        "colab_type": "code",
        "colab": {
          "base_uri": "https://localhost:8080/",
          "height": 2197
        },
        "outputId": "a78a11c3-f748-4dfd-cde8-7034ca33c2cf"
      },
      "cell_type": "code",
      "source": [
        "study = optuna.create_study()\n",
        "study.optimize(objective, n_trials=10)"
      ],
      "execution_count": 27,
      "outputs": [
        {
          "output_type": "stream",
          "text": [
            "Epoch 1/5\n",
            "235/235 [==============================] - 10s 41ms/step - loss: 1.4610 - acc: 0.6373\n",
            "Epoch 2/5\n",
            "235/235 [==============================] - 9s 40ms/step - loss: 0.4963 - acc: 0.8657\n",
            "Epoch 3/5\n",
            "235/235 [==============================] - 9s 40ms/step - loss: 0.3442 - acc: 0.9003\n",
            "Epoch 4/5\n",
            "235/235 [==============================] - 9s 40ms/step - loss: 0.2817 - acc: 0.9174\n",
            "Epoch 5/5\n",
            "235/235 [==============================] - 9s 40ms/step - loss: 0.2432 - acc: 0.9284\n",
            "313/313 [==============================] - 3s 10ms/step\n"
          ],
          "name": "stdout"
        },
        {
          "output_type": "stream",
          "text": [
            "[I 2018-12-03 11:16:46,145] Finished a trial resulted in value: 0.05559999999999998. Current best value is 0.05559999999999998 with parameters: {'batch_size': 256, 'n_layers': 2, 'dropout_rate': 0.08911466576943422, 'learning_rate': 6.35606519224162e-05}.\n"
          ],
          "name": "stderr"
        },
        {
          "output_type": "stream",
          "text": [
            "Epoch 1/5\n",
            "118/118 [==============================] - 7s 60ms/step - loss: 0.7680 - acc: 0.7434\n",
            "Epoch 2/5\n",
            "118/118 [==============================] - 8s 66ms/step - loss: 0.2282 - acc: 0.9275\n",
            "Epoch 3/5\n",
            "118/118 [==============================] - 8s 66ms/step - loss: 0.1687 - acc: 0.9463\n",
            "Epoch 4/5\n",
            "118/118 [==============================] - 8s 66ms/step - loss: 0.1351 - acc: 0.9577\n",
            "Epoch 5/5\n",
            "118/118 [==============================] - 8s 67ms/step - loss: 0.1198 - acc: 0.9616\n",
            "313/313 [==============================] - 4s 11ms/step\n"
          ],
          "name": "stdout"
        },
        {
          "output_type": "stream",
          "text": [
            "[I 2018-12-03 11:17:29,919] Finished a trial resulted in value: 0.01419999999999999. Current best value is 0.01419999999999999 with parameters: {'batch_size': 512, 'n_layers': 3, 'dropout_rate': 0.37064663092391686, 'learning_rate': 0.0015806562771231835}.\n"
          ],
          "name": "stderr"
        },
        {
          "output_type": "stream",
          "text": [
            "Epoch 1/5\n",
            "59/59 [==============================] - 3s 53ms/step - loss: 2.1476 - acc: 0.4152\n",
            "Epoch 2/5\n",
            "59/59 [==============================] - 3s 51ms/step - loss: 1.7132 - acc: 0.7424\n",
            "Epoch 3/5\n",
            "59/59 [==============================] - 3s 50ms/step - loss: 1.3003 - acc: 0.8039\n",
            "Epoch 4/5\n",
            "59/59 [==============================] - 3s 50ms/step - loss: 0.9942 - acc: 0.8303\n",
            "Epoch 5/5\n",
            "59/59 [==============================] - 3s 52ms/step - loss: 0.7910 - acc: 0.8500\n",
            "313/313 [==============================] - 3s 8ms/step\n"
          ],
          "name": "stdout"
        },
        {
          "output_type": "stream",
          "text": [
            "[I 2018-12-03 11:17:48,940] Finished a trial resulted in value: 0.12760000000000005. Current best value is 0.01419999999999999 with parameters: {'batch_size': 512, 'n_layers': 3, 'dropout_rate': 0.37064663092391686, 'learning_rate': 0.0015806562771231835}.\n"
          ],
          "name": "stderr"
        },
        {
          "output_type": "stream",
          "text": [
            "Epoch 1/5\n",
            "59/59 [==============================] - 3s 48ms/step - loss: 2.1955 - acc: 0.2540\n",
            "Epoch 2/5\n",
            "59/59 [==============================] - 3s 49ms/step - loss: 1.9026 - acc: 0.6144\n",
            "Epoch 3/5\n",
            "59/59 [==============================] - 3s 49ms/step - loss: 1.5499 - acc: 0.7589\n",
            "Epoch 4/5\n",
            "59/59 [==============================] - 3s 48ms/step - loss: 1.2352 - acc: 0.8062\n",
            "Epoch 5/5\n",
            "59/59 [==============================] - 3s 49ms/step - loss: 1.0023 - acc: 0.8291\n",
            "313/313 [==============================] - 2s 8ms/step\n"
          ],
          "name": "stdout"
        },
        {
          "output_type": "stream",
          "text": [
            "[I 2018-12-03 11:18:07,097] Finished a trial resulted in value: 0.1431. Current best value is 0.01419999999999999 with parameters: {'batch_size': 512, 'n_layers': 3, 'dropout_rate': 0.37064663092391686, 'learning_rate': 0.0015806562771231835}.\n"
          ],
          "name": "stderr"
        },
        {
          "output_type": "stream",
          "text": [
            "Epoch 1/5\n",
            "118/118 [==============================] - 5s 47ms/step - loss: 2.2628 - acc: 0.1551\n",
            "Epoch 2/5\n",
            "118/118 [==============================] - 5s 45ms/step - loss: 2.1608 - acc: 0.3714\n",
            "Epoch 3/5\n",
            "118/118 [==============================] - 5s 45ms/step - loss: 2.0188 - acc: 0.5907\n",
            "Epoch 4/5\n",
            "118/118 [==============================] - 5s 45ms/step - loss: 1.8300 - acc: 0.6913\n",
            "Epoch 5/5\n",
            "118/118 [==============================] - 5s 46ms/step - loss: 1.6108 - acc: 0.7344\n",
            "313/313 [==============================] - 3s 10ms/step\n"
          ],
          "name": "stdout"
        },
        {
          "output_type": "stream",
          "text": [
            "[I 2018-12-03 11:18:38,545] Finished a trial resulted in value: 0.23160000000000003. Current best value is 0.01419999999999999 with parameters: {'batch_size': 512, 'n_layers': 3, 'dropout_rate': 0.37064663092391686, 'learning_rate': 0.0015806562771231835}.\n"
          ],
          "name": "stderr"
        },
        {
          "output_type": "stream",
          "text": [
            "Epoch 1/5\n",
            "59/59 [==============================] - 4s 69ms/step - loss: 1.2967 - acc: 0.6230\n",
            "Epoch 2/5\n",
            "59/59 [==============================] - 4s 67ms/step - loss: 0.4508 - acc: 0.8591\n",
            "Epoch 3/5\n",
            "59/59 [==============================] - 4s 67ms/step - loss: 0.3262 - acc: 0.9006\n",
            "Epoch 4/5\n",
            "59/59 [==============================] - 4s 67ms/step - loss: 0.2617 - acc: 0.9203\n",
            "Epoch 5/5\n",
            "59/59 [==============================] - 4s 67ms/step - loss: 0.2225 - acc: 0.9320\n",
            "313/313 [==============================] - 3s 10ms/step\n"
          ],
          "name": "stdout"
        },
        {
          "output_type": "stream",
          "text": [
            "[I 2018-12-03 11:19:03,104] Finished a trial resulted in value: 0.038900000000000046. Current best value is 0.01419999999999999 with parameters: {'batch_size': 512, 'n_layers': 3, 'dropout_rate': 0.37064663092391686, 'learning_rate': 0.0015806562771231835}.\n"
          ],
          "name": "stderr"
        },
        {
          "output_type": "stream",
          "text": [
            "Epoch 1/5\n",
            "118/118 [==============================] - 5s 45ms/step - loss: 1.7213 - acc: 0.6222\n",
            "Epoch 2/5\n",
            "118/118 [==============================] - 5s 45ms/step - loss: 0.5709 - acc: 0.8596\n",
            "Epoch 3/5\n",
            "118/118 [==============================] - 5s 44ms/step - loss: 0.3442 - acc: 0.9040\n",
            "Epoch 4/5\n",
            "118/118 [==============================] - 6s 48ms/step - loss: 0.2693 - acc: 0.9237\n",
            "Epoch 5/5\n",
            "118/118 [==============================] - 7s 56ms/step - loss: 0.2247 - acc: 0.9352\n",
            "313/313 [==============================] - 3s 10ms/step\n"
          ],
          "name": "stdout"
        },
        {
          "output_type": "stream",
          "text": [
            "[I 2018-12-03 11:19:35,882] Finished a trial resulted in value: 0.05449999999999999. Current best value is 0.01419999999999999 with parameters: {'batch_size': 512, 'n_layers': 3, 'dropout_rate': 0.37064663092391686, 'learning_rate': 0.0015806562771231835}.\n"
          ],
          "name": "stderr"
        },
        {
          "output_type": "stream",
          "text": [
            "Epoch 1/5\n",
            "118/118 [==============================] - 4s 36ms/step - loss: 2.2224 - acc: 0.2468\n",
            "Epoch 2/5\n",
            "118/118 [==============================] - 4s 36ms/step - loss: 1.9894 - acc: 0.5247\n",
            "Epoch 3/5\n",
            "118/118 [==============================] - 4s 36ms/step - loss: 1.6933 - acc: 0.6963\n",
            "Epoch 4/5\n",
            "118/118 [==============================] - 4s 35ms/step - loss: 1.4206 - acc: 0.7748\n",
            "Epoch 5/5\n",
            "118/118 [==============================] - 4s 35ms/step - loss: 1.1987 - acc: 0.8032\n",
            "313/313 [==============================] - 2s 8ms/step\n"
          ],
          "name": "stdout"
        },
        {
          "output_type": "stream",
          "text": [
            "[I 2018-12-03 11:20:00,746] Finished a trial resulted in value: 0.16869999999999996. Current best value is 0.01419999999999999 with parameters: {'batch_size': 512, 'n_layers': 3, 'dropout_rate': 0.37064663092391686, 'learning_rate': 0.0015806562771231835}.\n"
          ],
          "name": "stderr"
        },
        {
          "output_type": "stream",
          "text": [
            "Epoch 1/5\n",
            "59/59 [==============================] - 4s 68ms/step - loss: 2.0938 - acc: 0.3510\n",
            "Epoch 2/5\n",
            "59/59 [==============================] - 4s 67ms/step - loss: 1.3368 - acc: 0.6775\n",
            "Epoch 3/5\n",
            "59/59 [==============================] - 4s 67ms/step - loss: 0.7983 - acc: 0.7744\n",
            "Epoch 4/5\n",
            "59/59 [==============================] - 4s 67ms/step - loss: 0.6150 - acc: 0.8143\n",
            "Epoch 5/5\n",
            "59/59 [==============================] - 4s 67ms/step - loss: 0.5287 - acc: 0.8368\n",
            "313/313 [==============================] - 3s 10ms/step\n"
          ],
          "name": "stdout"
        },
        {
          "output_type": "stream",
          "text": [
            "[I 2018-12-03 11:20:25,199] Finished a trial resulted in value: 0.11060000000000003. Current best value is 0.01419999999999999 with parameters: {'batch_size': 512, 'n_layers': 3, 'dropout_rate': 0.37064663092391686, 'learning_rate': 0.0015806562771231835}.\n"
          ],
          "name": "stderr"
        },
        {
          "output_type": "stream",
          "text": [
            "Epoch 1/5\n",
            "235/235 [==============================] - 7s 30ms/step - loss: 0.2308 - acc: 0.9313\n",
            "Epoch 2/5\n",
            "235/235 [==============================] - 7s 30ms/step - loss: 0.0722 - acc: 0.9784\n",
            "Epoch 3/5\n",
            "235/235 [==============================] - 7s 29ms/step - loss: 0.0481 - acc: 0.9850\n",
            "Epoch 4/5\n",
            "235/235 [==============================] - 7s 29ms/step - loss: 0.0384 - acc: 0.9877\n",
            "Epoch 5/5\n",
            "235/235 [==============================] - 8s 32ms/step - loss: 0.0261 - acc: 0.9917\n",
            "313/313 [==============================] - 3s 10ms/step\n"
          ],
          "name": "stdout"
        },
        {
          "output_type": "stream",
          "text": [
            "[I 2018-12-03 11:21:04,984] Finished a trial resulted in value: 0.015499999999999958. Current best value is 0.01419999999999999 with parameters: {'batch_size': 512, 'n_layers': 3, 'dropout_rate': 0.37064663092391686, 'learning_rate': 0.0015806562771231835}.\n"
          ],
          "name": "stderr"
        }
      ]
    },
    {
      "metadata": {
        "colab_type": "code",
        "id": "qGM-FGUEdlbx",
        "colab": {
          "base_uri": "https://localhost:8080/",
          "height": 217
        },
        "outputId": "a2479a3b-657e-4afc-a2ba-e61a4b0e1584"
      },
      "cell_type": "code",
      "source": [
        "study.trials"
      ],
      "execution_count": 29,
      "outputs": [
        {
          "output_type": "execute_result",
          "data": {
            "text/plain": [
              "[FrozenTrial(trial_id=0, state=<TrialState.COMPLETE: 1>, value=0.05559999999999998, datetime_start=datetime.datetime(2018, 12, 3, 11, 15, 53, 871134), datetime_complete=datetime.datetime(2018, 12, 3, 11, 16, 46, 145459), params={'batch_size': 256, 'n_layers': 2, 'dropout_rate': 0.08911466576943422, 'learning_rate': 6.35606519224162e-05}, user_attrs={}, system_attrs={}, intermediate_values={}, params_in_internal_repr={'batch_size': 0, 'n_layers': 2, 'dropout_rate': 0.08911466576943422, 'learning_rate': 6.35606519224162e-05}),\n",
              " FrozenTrial(trial_id=1, state=<TrialState.COMPLETE: 1>, value=0.01419999999999999, datetime_start=datetime.datetime(2018, 12, 3, 11, 16, 46, 152379), datetime_complete=datetime.datetime(2018, 12, 3, 11, 17, 29, 918984), params={'batch_size': 512, 'n_layers': 3, 'dropout_rate': 0.37064663092391686, 'learning_rate': 0.0015806562771231835}, user_attrs={}, system_attrs={}, intermediate_values={}, params_in_internal_repr={'batch_size': 1, 'n_layers': 3, 'dropout_rate': 0.37064663092391686, 'learning_rate': 0.0015806562771231835}),\n",
              " FrozenTrial(trial_id=2, state=<TrialState.COMPLETE: 1>, value=0.12760000000000005, datetime_start=datetime.datetime(2018, 12, 3, 11, 17, 29, 923521), datetime_complete=datetime.datetime(2018, 12, 3, 11, 17, 48, 940139), params={'batch_size': 1024, 'n_layers': 1, 'dropout_rate': 0.06243180564972045, 'learning_rate': 3.6726881149816314e-05}, user_attrs={}, system_attrs={}, intermediate_values={}, params_in_internal_repr={'batch_size': 2, 'n_layers': 1, 'dropout_rate': 0.06243180564972045, 'learning_rate': 3.6726881149816314e-05}),\n",
              " FrozenTrial(trial_id=3, state=<TrialState.COMPLETE: 1>, value=0.1431, datetime_start=datetime.datetime(2018, 12, 3, 11, 17, 48, 944461), datetime_complete=datetime.datetime(2018, 12, 3, 11, 18, 7, 96843), params={'batch_size': 1024, 'n_layers': 1, 'dropout_rate': 0.21497741492303063, 'learning_rate': 2.897492210686856e-05}, user_attrs={}, system_attrs={}, intermediate_values={}, params_in_internal_repr={'batch_size': 2, 'n_layers': 1, 'dropout_rate': 0.21497741492303063, 'learning_rate': 2.897492210686856e-05}),\n",
              " FrozenTrial(trial_id=4, state=<TrialState.COMPLETE: 1>, value=0.23160000000000003, datetime_start=datetime.datetime(2018, 12, 3, 11, 18, 7, 104482), datetime_complete=datetime.datetime(2018, 12, 3, 11, 18, 38, 544635), params={'batch_size': 512, 'n_layers': 2, 'dropout_rate': 0.020417412624686826, 'learning_rate': 1.031100475783853e-05}, user_attrs={}, system_attrs={}, intermediate_values={}, params_in_internal_repr={'batch_size': 1, 'n_layers': 2, 'dropout_rate': 0.020417412624686826, 'learning_rate': 1.031100475783853e-05}),\n",
              " FrozenTrial(trial_id=5, state=<TrialState.COMPLETE: 1>, value=0.038900000000000046, datetime_start=datetime.datetime(2018, 12, 3, 11, 18, 38, 550426), datetime_complete=datetime.datetime(2018, 12, 3, 11, 19, 3, 103716), params={'batch_size': 1024, 'n_layers': 2, 'dropout_rate': 0.40213962685276317, 'learning_rate': 0.00038814489132505997}, user_attrs={}, system_attrs={}, intermediate_values={}, params_in_internal_repr={'batch_size': 2, 'n_layers': 2, 'dropout_rate': 0.40213962685276317, 'learning_rate': 0.00038814489132505997}),\n",
              " FrozenTrial(trial_id=6, state=<TrialState.COMPLETE: 1>, value=0.05449999999999999, datetime_start=datetime.datetime(2018, 12, 3, 11, 19, 3, 108573), datetime_complete=datetime.datetime(2018, 12, 3, 11, 19, 35, 881715), params={'batch_size': 512, 'n_layers': 2, 'dropout_rate': 0.030204357842415708, 'learning_rate': 0.00011214637897348642}, user_attrs={}, system_attrs={}, intermediate_values={}, params_in_internal_repr={'batch_size': 1, 'n_layers': 2, 'dropout_rate': 0.030204357842415708, 'learning_rate': 0.00011214637897348642}),\n",
              " FrozenTrial(trial_id=7, state=<TrialState.COMPLETE: 1>, value=0.16869999999999996, datetime_start=datetime.datetime(2018, 12, 3, 11, 19, 35, 889504), datetime_complete=datetime.datetime(2018, 12, 3, 11, 20, 0, 744972), params={'batch_size': 512, 'n_layers': 1, 'dropout_rate': 0.21439891814969497, 'learning_rate': 1.2767246376476304e-05}, user_attrs={}, system_attrs={}, intermediate_values={}, params_in_internal_repr={'batch_size': 1, 'n_layers': 1, 'dropout_rate': 0.21439891814969497, 'learning_rate': 1.2767246376476304e-05}),\n",
              " FrozenTrial(trial_id=8, state=<TrialState.COMPLETE: 1>, value=0.11060000000000003, datetime_start=datetime.datetime(2018, 12, 3, 11, 20, 0, 763595), datetime_complete=datetime.datetime(2018, 12, 3, 11, 20, 25, 198511), params={'batch_size': 1024, 'n_layers': 2, 'dropout_rate': 0.3367102269932982, 'learning_rate': 9.393202550808861e-05}, user_attrs={}, system_attrs={}, intermediate_values={}, params_in_internal_repr={'batch_size': 2, 'n_layers': 2, 'dropout_rate': 0.3367102269932982, 'learning_rate': 9.393202550808861e-05}),\n",
              " FrozenTrial(trial_id=9, state=<TrialState.COMPLETE: 1>, value=0.015499999999999958, datetime_start=datetime.datetime(2018, 12, 3, 11, 20, 25, 203489), datetime_complete=datetime.datetime(2018, 12, 3, 11, 21, 4, 982686), params={'batch_size': 256, 'n_layers': 1, 'dropout_rate': 0.1569880658617649, 'learning_rate': 0.004787126650948762}, user_attrs={}, system_attrs={}, intermediate_values={}, params_in_internal_repr={'batch_size': 0, 'n_layers': 1, 'dropout_rate': 0.1569880658617649, 'learning_rate': 0.004787126650948762})]"
            ]
          },
          "metadata": {
            "tags": []
          },
          "execution_count": 29
        }
      ]
    },
    {
      "metadata": {
        "id": "IUh2v6Rgzeht",
        "colab_type": "code",
        "colab": {
          "base_uri": "https://localhost:8080/",
          "height": 53
        },
        "outputId": "da7c4cbb-4454-4ba8-9695-484faa7c47dd"
      },
      "cell_type": "code",
      "source": [
        "print(\"best params: \", study.best_params)\n",
        "print(\"best test accuracy: \", 1 - study.best_value)"
      ],
      "execution_count": 33,
      "outputs": [
        {
          "output_type": "stream",
          "text": [
            "best params:  {'batch_size': 512, 'n_layers': 3, 'dropout_rate': 0.37064663092391686, 'learning_rate': 0.0015806562771231835}\n",
            "best test accuracy:  0.9858\n"
          ],
          "name": "stdout"
        }
      ]
    }
  ]
}