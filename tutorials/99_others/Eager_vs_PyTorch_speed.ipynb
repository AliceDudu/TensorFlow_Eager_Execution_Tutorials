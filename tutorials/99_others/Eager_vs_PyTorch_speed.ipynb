{
  "nbformat": 4,
  "nbformat_minor": 0,
  "metadata": {
    "colab": {
      "name": "Eager_vs_PyTorch_speed.ipynb",
      "version": "0.3.2",
      "provenance": [],
      "collapsed_sections": [],
      "include_colab_link": true
    },
    "kernelspec": {
      "name": "python3",
      "display_name": "Python 3"
    },
    "accelerator": "GPU"
  },
  "cells": [
    {
      "cell_type": "markdown",
      "metadata": {
        "id": "view-in-github",
        "colab_type": "text"
      },
      "source": [
        "<a href=\"https://colab.research.google.com/github/hellocybernetics/TensorFlow_Eager_Execution_Tutorials/blob/master/tutorials/99_others/Eager_vs_PyTorch_speed.ipynb\" target=\"_parent\"><img src=\"https://colab.research.google.com/assets/colab-badge.svg\" alt=\"Open In Colab\"/></a>"
      ]
    },
    {
      "metadata": {
        "id": "A57GLhbMX6NX",
        "colab_type": "code",
        "colab": {}
      },
      "cell_type": "code",
      "source": [
        "import tensorflow as tf\n",
        "import numpy as np"
      ],
      "execution_count": 0,
      "outputs": []
    },
    {
      "metadata": {
        "id": "JYKz4JepX_Nb",
        "colab_type": "code",
        "colab": {}
      },
      "cell_type": "code",
      "source": [
        "tf.enable_eager_execution()"
      ],
      "execution_count": 0,
      "outputs": []
    },
    {
      "metadata": {
        "id": "wZcnVDd4YFoS",
        "colab_type": "code",
        "colab": {}
      },
      "cell_type": "code",
      "source": [
        "X = np.random.randn(10000, 32, 32, 3).astype(np.float32)\n",
        "y = np.random.randint(0, 10, 10000).reshape(-1, 1).astype(np.int64)"
      ],
      "execution_count": 0,
      "outputs": []
    },
    {
      "metadata": {
        "id": "5VAYekNqHMpx",
        "colab_type": "code",
        "colab": {}
      },
      "cell_type": "code",
      "source": [
        "data_set = tf.data.Dataset.from_tensor_slices((X, y))"
      ],
      "execution_count": 0,
      "outputs": []
    },
    {
      "metadata": {
        "id": "w7diJMoxH_qm",
        "colab_type": "code",
        "colab": {}
      },
      "cell_type": "code",
      "source": [
        "data_set = data_set.shuffle(10000).batch(256)"
      ],
      "execution_count": 0,
      "outputs": []
    },
    {
      "metadata": {
        "id": "_EJoKiMfIJuC",
        "colab_type": "code",
        "colab": {}
      },
      "cell_type": "code",
      "source": [
        "model = tf.keras.Sequential([\n",
        "    tf.keras.layers.Conv2D(16, 3, activation=\"relu\"),\n",
        "    tf.keras.layers.BatchNormalization(axis=-1),\n",
        "    tf.keras.layers.Conv2D(32, 3, activation=\"relu\"),\n",
        "    tf.keras.layers.BatchNormalization(axis=-1),\n",
        "    tf.keras.layers.Conv2D(64, 3, activation=\"relu\"),\n",
        "    tf.keras.layers.BatchNormalization(axis=-1),\n",
        "    tf.keras.layers.Conv2D(128, 3, activation=\"relu\"),\n",
        "    tf.keras.layers.BatchNormalization(axis=-1),\n",
        "    tf.keras.layers.Conv2D(256, 3, activation=\"relu\"),\n",
        "    tf.keras.layers.BatchNormalization(axis=-1),\n",
        "    tf.keras.layers.Dropout(0.5),\n",
        "    tf.keras.layers.Flatten(),\n",
        "    tf.keras.layers.Dense(1024, activation=\"relu\"),\n",
        "    tf.keras.layers.Dropout(0.2),\n",
        "    tf.keras.layers.Dense(10),\n",
        "])"
      ],
      "execution_count": 0,
      "outputs": []
    },
    {
      "metadata": {
        "id": "dohrJmP4JaNg",
        "colab_type": "code",
        "colab": {
          "base_uri": "https://localhost:8080/",
          "height": 125
        },
        "outputId": "bb14c5ce-c686-4891-d452-1d254276b53a"
      },
      "cell_type": "code",
      "source": [
        "model(tf.convert_to_tensor(X, dtype=tf.float32)[:2])"
      ],
      "execution_count": 32,
      "outputs": [
        {
          "output_type": "execute_result",
          "data": {
            "text/plain": [
              "<tf.Tensor: id=484, shape=(2, 10), dtype=float32, numpy=\n",
              "array([[ 0.05773694, -0.01897508, -0.05476988,  0.12189196, -0.00655457,\n",
              "         0.0147602 ,  0.04510601,  0.05713235,  0.22796866,  0.02033146],\n",
              "       [-0.01558806, -0.08503111, -0.07648266,  0.03848344, -0.02937521,\n",
              "        -0.01581378,  0.00361122,  0.0868727 ,  0.12541714, -0.01783562]],\n",
              "      dtype=float32)>"
            ]
          },
          "metadata": {
            "tags": []
          },
          "execution_count": 32
        }
      ]
    },
    {
      "metadata": {
        "id": "Q6ctwnYdJpop",
        "colab_type": "code",
        "colab": {
          "base_uri": "https://localhost:8080/",
          "height": 683
        },
        "outputId": "a27f1dd6-45ba-41da-a6c6-bb478d305888"
      },
      "cell_type": "code",
      "source": [
        "model.summary()"
      ],
      "execution_count": 33,
      "outputs": [
        {
          "output_type": "stream",
          "text": [
            "_________________________________________________________________\n",
            "Layer (type)                 Output Shape              Param #   \n",
            "=================================================================\n",
            "conv2d (Conv2D)              multiple                  448       \n",
            "_________________________________________________________________\n",
            "batch_normalization (BatchNo multiple                  64        \n",
            "_________________________________________________________________\n",
            "conv2d_1 (Conv2D)            multiple                  4640      \n",
            "_________________________________________________________________\n",
            "batch_normalization_1 (Batch multiple                  128       \n",
            "_________________________________________________________________\n",
            "conv2d_2 (Conv2D)            multiple                  18496     \n",
            "_________________________________________________________________\n",
            "batch_normalization_2 (Batch multiple                  256       \n",
            "_________________________________________________________________\n",
            "conv2d_3 (Conv2D)            multiple                  73856     \n",
            "_________________________________________________________________\n",
            "batch_normalization_3 (Batch multiple                  512       \n",
            "_________________________________________________________________\n",
            "conv2d_4 (Conv2D)            multiple                  295168    \n",
            "_________________________________________________________________\n",
            "batch_normalization_4 (Batch multiple                  1024      \n",
            "_________________________________________________________________\n",
            "dropout (Dropout)            multiple                  0         \n",
            "_________________________________________________________________\n",
            "flatten (Flatten)            multiple                  0         \n",
            "_________________________________________________________________\n",
            "dense (Dense)                multiple                  126878720 \n",
            "_________________________________________________________________\n",
            "dropout_1 (Dropout)          multiple                  0         \n",
            "_________________________________________________________________\n",
            "dense_1 (Dense)              multiple                  10250     \n",
            "=================================================================\n",
            "Total params: 127,283,562\n",
            "Trainable params: 127,282,570\n",
            "Non-trainable params: 992\n",
            "_________________________________________________________________\n"
          ],
          "name": "stdout"
        }
      ]
    },
    {
      "metadata": {
        "id": "74mywsIwLSIE",
        "colab_type": "code",
        "colab": {}
      },
      "cell_type": "code",
      "source": [
        "def loss_fn(y, y_pre):\n",
        "    return tf.keras.metrics.sparse_categorical_crossentropy(y, y_pre)\n",
        "\n",
        "def acc_fn(y, y_pre):\n",
        "    return tf.keras.metrics.sparse_categorical_accuracy(y, y_pre)\n",
        "\n",
        "optimizer = tf.train.AdamOptimizer()"
      ],
      "execution_count": 0,
      "outputs": []
    },
    {
      "metadata": {
        "id": "sEGbne1eJ-cn",
        "colab_type": "code",
        "colab": {}
      },
      "cell_type": "code",
      "source": [
        "def train(x, y):\n",
        "    with tf.device(\"/gpu:0\"):\n",
        "        with tf.GradientTape() as g:\n",
        "            y_pre = model(x)\n",
        "            loss = tf.reduce_sum(loss_fn(y, y_pre))\n",
        "        grads = g.gradient(loss, model.variables)\n",
        "        acc = tf.reduce_mean(acc_fn(y, y_pre))\n",
        "        optimizer.apply_gradients(zip(grads, model.variables))\n",
        "    return loss, acc\n",
        "\n",
        "train_graph = tf.contrib.eager.defun(train)"
      ],
      "execution_count": 0,
      "outputs": []
    },
    {
      "metadata": {
        "id": "ncjpEy-lKCbS",
        "colab_type": "code",
        "colab": {
          "base_uri": "https://localhost:8080/",
          "height": 593
        },
        "outputId": "94c3a7a9-f0ec-45de-8940-350235823e4e"
      },
      "cell_type": "code",
      "source": [
        "%%time\n",
        "for _ in range(10):\n",
        "    \n",
        "    running_loss = 0\n",
        "    running_acc = 0\n",
        "    for i, (x_, y_) in enumerate(data_set):\n",
        "#         loss, acc, = train(x_, y_)\n",
        "        loss, acc, = train_graph(x_, y_)\n",
        "        running_loss += loss\n",
        "        running_acc += acc\n",
        "    \n",
        "    print(\"***********************\")\n",
        "    print(\"loss\", running_loss.numpy() / (i+1) )\n",
        "    print(\"acc\", running_acc.numpy() / (i+1) )    "
      ],
      "execution_count": 40,
      "outputs": [
        {
          "output_type": "stream",
          "text": [
            "***********************\n",
            "loss 2.3023305892944337\n",
            "acc 0.1037109375\n",
            "***********************\n",
            "loss 2.3023033142089844\n",
            "acc 0.10517578125\n",
            "***********************\n",
            "loss 2.302598571777344\n",
            "acc 0.10224609375\n",
            "***********************\n",
            "loss 2.3023960113525392\n",
            "acc 0.10517578125\n",
            "***********************\n",
            "loss 2.3023252487182617\n",
            "acc 0.10517578125\n",
            "***********************\n",
            "loss 2.3024168014526367\n",
            "acc 0.1037109375\n",
            "***********************\n",
            "loss 2.302304267883301\n",
            "acc 0.10517578125\n",
            "***********************\n",
            "loss 2.3022958755493166\n",
            "acc 0.10517578125\n",
            "***********************\n",
            "loss 2.3024080276489256\n",
            "acc 0.10224609375\n",
            "***********************\n",
            "loss 2.3023279190063475\n",
            "acc 0.10224609375\n",
            "CPU times: user 1min 22s, sys: 28.7 s, total: 1min 51s\n",
            "Wall time: 1min 54s\n"
          ],
          "name": "stdout"
        }
      ]
    },
    {
      "metadata": {
        "id": "P3d0EtduKVWp",
        "colab_type": "code",
        "colab": {
          "base_uri": "https://localhost:8080/",
          "height": 145
        },
        "outputId": "30fbbe8f-e927-45af-efc7-723ebe90cf9e"
      },
      "cell_type": "code",
      "source": [
        "!pip install torch"
      ],
      "execution_count": 76,
      "outputs": [
        {
          "output_type": "stream",
          "text": [
            "Collecting torch\n",
            "\u001b[?25l  Downloading https://files.pythonhosted.org/packages/7e/60/66415660aa46b23b5e1b72bc762e816736ce8d7260213e22365af51e8f9c/torch-1.0.0-cp36-cp36m-manylinux1_x86_64.whl (591.8MB)\n",
            "\u001b[K    100% |████████████████████████████████| 591.8MB 26kB/s \n",
            "tcmalloc: large alloc 1073750016 bytes == 0x61abc000 @  0x7f40d3dea2a4 0x591a07 0x5b5d56 0x502e9a 0x506859 0x502209 0x502f3d 0x506859 0x504c28 0x502540 0x502f3d 0x506859 0x504c28 0x502540 0x502f3d 0x506859 0x504c28 0x502540 0x502f3d 0x507641 0x502209 0x502f3d 0x506859 0x504c28 0x502540 0x502f3d 0x507641 0x504c28 0x502540 0x502f3d 0x507641\n",
            "\u001b[?25hInstalling collected packages: torch\n",
            "Successfully installed torch-1.0.0\n"
          ],
          "name": "stdout"
        }
      ]
    },
    {
      "metadata": {
        "id": "4QAeb1OcQNlQ",
        "colab_type": "code",
        "colab": {}
      },
      "cell_type": "code",
      "source": [
        "import torch\n",
        "import torch.nn as nn\n",
        "import torch.nn.functional as F\n",
        "import torch.utils.data"
      ],
      "execution_count": 0,
      "outputs": []
    },
    {
      "metadata": {
        "id": "UNOjXTx-TGu2",
        "colab_type": "code",
        "colab": {}
      },
      "cell_type": "code",
      "source": [
        "X_torch = X.transpose(0, 3, 2, 1)\n",
        "y_torch = y.reshape(-1)"
      ],
      "execution_count": 0,
      "outputs": []
    },
    {
      "metadata": {
        "id": "tWVAb8WtREXI",
        "colab_type": "code",
        "colab": {}
      },
      "cell_type": "code",
      "source": [
        "model_conv = nn.Sequential(\n",
        "    nn.Conv2d(3, 16, 3),\n",
        "    nn.ReLU(inplace=True),\n",
        "    nn.BatchNorm2d(16),\n",
        "    nn.Conv2d(16, 32, 3),\n",
        "    nn.ReLU(inplace=True),\n",
        "    nn.BatchNorm2d(32),\n",
        "    nn.Conv2d(32, 64, 3),\n",
        "    nn.ReLU(inplace=True),\n",
        "    nn.BatchNorm2d(64),\n",
        "    nn.Conv2d(64, 128, 3),\n",
        "    nn.ReLU(inplace=True),\n",
        "    nn.BatchNorm2d(128),\n",
        "    nn.Conv2d(128, 256, 3),\n",
        "    nn.ReLU(inplace=True),\n",
        "    nn.BatchNorm2d(256),\n",
        "    nn.Dropout2d(0.5)\n",
        ")"
      ],
      "execution_count": 0,
      "outputs": []
    },
    {
      "metadata": {
        "id": "2CwiwQ5BS9Wl",
        "colab_type": "code",
        "colab": {
          "base_uri": "https://localhost:8080/",
          "height": 1835
        },
        "outputId": "25cde3e6-b5b8-44e8-861d-edb1c9a166cb"
      },
      "cell_type": "code",
      "source": [
        "model_conv(torch.from_numpy(X_torch)[:2])"
      ],
      "execution_count": 10,
      "outputs": [
        {
          "output_type": "execute_result",
          "data": {
            "text/plain": [
              "tensor([[[[ 1.5284, -0.9712, -0.9712,  ..., -0.8616, -0.9712, -0.9712],\n",
              "          [-0.4848, -0.9634, -0.9712,  ...,  3.0634, -0.9712, -0.3867],\n",
              "          [-0.9712, -0.9712,  0.2896,  ...,  1.3941,  0.2910,  2.0000],\n",
              "          ...,\n",
              "          [-0.1392, -0.7536, -0.1402,  ..., -0.8794,  2.5814, -0.9712],\n",
              "          [ 2.1451, -0.9712, -0.4530,  ..., -0.9712, -0.9712, -0.9712],\n",
              "          [-0.9712, -0.9712, -0.9712,  ..., -0.9712, -0.9712, -0.9712]],\n",
              "\n",
              "         [[ 0.0000, -0.0000, -0.0000,  ..., -0.0000,  0.0000, -0.0000],\n",
              "          [-0.0000,  0.0000, -0.0000,  ..., -0.0000, -0.0000, -0.0000],\n",
              "          [-0.0000, -0.0000, -0.0000,  ..., -0.0000,  0.0000, -0.0000],\n",
              "          ...,\n",
              "          [-0.0000, -0.0000,  0.0000,  ..., -0.0000,  0.0000, -0.0000],\n",
              "          [-0.0000, -0.0000, -0.0000,  ..., -0.0000, -0.0000, -0.0000],\n",
              "          [ 0.0000,  0.0000, -0.0000,  ...,  0.0000, -0.0000, -0.0000]],\n",
              "\n",
              "         [[ 0.0000,  0.0000,  0.0000,  ...,  0.0000, -0.0000, -0.0000],\n",
              "          [-0.0000, -0.0000, -0.0000,  ..., -0.0000, -0.0000, -0.0000],\n",
              "          [-0.0000,  0.0000,  0.0000,  ..., -0.0000, -0.0000, -0.0000],\n",
              "          ...,\n",
              "          [-0.0000, -0.0000, -0.0000,  ...,  0.0000, -0.0000, -0.0000],\n",
              "          [-0.0000, -0.0000,  0.0000,  ...,  0.0000, -0.0000,  0.0000],\n",
              "          [ 0.0000, -0.0000,  0.0000,  ..., -0.0000, -0.0000, -0.0000]],\n",
              "\n",
              "         ...,\n",
              "\n",
              "         [[-0.0000, -0.0000,  0.0000,  ..., -0.0000, -0.0000, -0.0000],\n",
              "          [-0.0000, -0.0000, -0.0000,  ..., -0.0000, -0.0000, -0.0000],\n",
              "          [ 0.0000,  0.0000,  0.0000,  ..., -0.0000, -0.0000, -0.0000],\n",
              "          ...,\n",
              "          [-0.0000, -0.0000, -0.0000,  ..., -0.0000, -0.0000, -0.0000],\n",
              "          [-0.0000, -0.0000,  0.0000,  ..., -0.0000,  0.0000,  0.0000],\n",
              "          [ 0.0000,  0.0000, -0.0000,  ...,  0.0000, -0.0000, -0.0000]],\n",
              "\n",
              "         [[-0.9063, -0.4916,  0.1511,  ..., -0.4233, -0.9063, -0.9063],\n",
              "          [-0.9063, -0.0782, -0.9063,  ..., -0.9063, -0.9063, -0.9063],\n",
              "          [ 1.6110, -0.2028,  0.8209,  ..., -0.9063, -0.9063,  2.4336],\n",
              "          ...,\n",
              "          [ 1.2541,  2.1523, -0.9063,  ..., -0.1599, -0.9063, -0.9063],\n",
              "          [ 0.6277, -0.9063, -0.9063,  ...,  0.9148, -0.9063,  2.6198],\n",
              "          [-0.8571,  0.3882, -0.9063,  ..., -0.9063, -0.9063, -0.9063]],\n",
              "\n",
              "         [[ 2.6014, -0.9871, -0.0178,  ...,  8.2930, -0.0847,  0.9474],\n",
              "          [-0.9871, -0.9871, -0.9871,  ..., -0.1303, -0.9871,  4.3791],\n",
              "          [-0.9871, -0.9871, -0.8230,  ..., -0.9871,  4.8003,  0.1487],\n",
              "          ...,\n",
              "          [-0.9871, -0.9871, -0.9871,  ...,  0.5778, -0.9871, -0.9871],\n",
              "          [-0.9871,  0.6115, -0.9871,  ...,  0.1501, -0.9871, -0.9871],\n",
              "          [-0.9871, -0.9871,  4.2775,  ..., -0.9871,  4.0460, -0.9871]]],\n",
              "\n",
              "\n",
              "        [[[ 3.7811, -0.9712,  1.0082,  ...,  4.3102,  1.5408, -0.9712],\n",
              "          [-0.9712, -0.9712,  2.0133,  ..., -0.9712, -0.9712, -0.9712],\n",
              "          [-0.9712, -0.9712, -0.9712,  ..., -0.9712,  1.9038, -0.9712],\n",
              "          ...,\n",
              "          [-0.9712, -0.9712, -0.7643,  ..., -0.0796,  0.2037, -0.9712],\n",
              "          [-0.9712, -0.9712, -0.9712,  ..., -0.1747, -0.9712,  1.5350],\n",
              "          [-0.9712,  0.5911,  1.6672,  ..., -0.9712, -0.9712, -0.9712]],\n",
              "\n",
              "         [[-0.0000, -0.0000,  0.0000,  ..., -0.0000, -0.0000,  0.0000],\n",
              "          [ 0.0000, -0.0000, -0.0000,  ...,  0.0000, -0.0000, -0.0000],\n",
              "          [-0.0000,  0.0000, -0.0000,  ..., -0.0000, -0.0000, -0.0000],\n",
              "          ...,\n",
              "          [ 0.0000, -0.0000,  0.0000,  ..., -0.0000, -0.0000,  0.0000],\n",
              "          [-0.0000, -0.0000, -0.0000,  ...,  0.0000, -0.0000, -0.0000],\n",
              "          [-0.0000, -0.0000, -0.0000,  ..., -0.0000,  0.0000, -0.0000]],\n",
              "\n",
              "         [[-0.0000,  0.0000,  0.0000,  ..., -0.0000, -0.0000, -0.0000],\n",
              "          [ 0.0000, -0.0000,  0.0000,  ...,  0.0000,  0.0000,  0.0000],\n",
              "          [-0.0000,  0.0000, -0.0000,  ...,  0.0000, -0.0000, -0.0000],\n",
              "          ...,\n",
              "          [ 0.0000,  0.0000, -0.0000,  ...,  0.0000, -0.0000, -0.0000],\n",
              "          [-0.0000, -0.0000, -0.0000,  ..., -0.0000, -0.0000,  0.0000],\n",
              "          [-0.0000, -0.0000,  0.0000,  ..., -0.0000, -0.0000, -0.0000]],\n",
              "\n",
              "         ...,\n",
              "\n",
              "         [[-0.3071, -0.3071, -0.3071,  ...,  0.2051,  1.4235, -0.3071],\n",
              "          [-0.3071, -0.3071, -0.3071,  ..., -0.3071,  0.0564,  1.0173],\n",
              "          [ 0.1846, -0.3071, -0.3071,  ..., -0.3071, -0.3071, -0.3071],\n",
              "          ...,\n",
              "          [ 1.0558, -0.3071, -0.3071,  ...,  0.4144,  0.2039, -0.3071],\n",
              "          [-0.1709, -0.3071, -0.3071,  ..., -0.3071,  0.3430,  0.4186],\n",
              "          [-0.2257, -0.3071,  0.1165,  ...,  0.2101, -0.3071, -0.3071]],\n",
              "\n",
              "         [[-0.0000,  0.0000,  0.0000,  ..., -0.0000,  0.0000,  0.0000],\n",
              "          [ 0.0000, -0.0000, -0.0000,  ..., -0.0000, -0.0000, -0.0000],\n",
              "          [ 0.0000,  0.0000,  0.0000,  ..., -0.0000,  0.0000, -0.0000],\n",
              "          ...,\n",
              "          [ 0.0000,  0.0000, -0.0000,  ...,  0.0000, -0.0000,  0.0000],\n",
              "          [-0.0000,  0.0000, -0.0000,  ..., -0.0000, -0.0000, -0.0000],\n",
              "          [-0.0000, -0.0000,  0.0000,  ..., -0.0000, -0.0000, -0.0000]],\n",
              "\n",
              "         [[-0.0000, -0.0000,  0.0000,  ...,  0.0000,  0.0000, -0.0000],\n",
              "          [-0.0000, -0.0000, -0.0000,  ...,  0.0000, -0.0000, -0.0000],\n",
              "          [-0.0000, -0.0000, -0.0000,  ...,  0.0000,  0.0000,  0.0000],\n",
              "          ...,\n",
              "          [ 0.0000, -0.0000, -0.0000,  ..., -0.0000, -0.0000, -0.0000],\n",
              "          [-0.0000, -0.0000, -0.0000,  ..., -0.0000, -0.0000, -0.0000],\n",
              "          [-0.0000, -0.0000, -0.0000,  ..., -0.0000,  0.0000, -0.0000]]]],\n",
              "       grad_fn=<MulBackward0>)"
            ]
          },
          "metadata": {
            "tags": []
          },
          "execution_count": 10
        }
      ]
    },
    {
      "metadata": {
        "id": "nCfwT9g9Sqll",
        "colab_type": "code",
        "colab": {}
      },
      "cell_type": "code",
      "source": [
        "class Model_torch(nn.Module):\n",
        "    def __init__(self):\n",
        "        super(Model_torch, self).__init__()\n",
        "        self.conv = model_conv\n",
        "        self.linear = nn.Sequential(\n",
        "            nn.Linear(256*22*22, 1024),\n",
        "            nn.ReLU(inplace=True),\n",
        "            nn.Dropout(0.2),\n",
        "            nn.Linear(1024, 10),\n",
        "        )\n",
        "    \n",
        "    def forward(self, x):\n",
        "        x = self.conv(x)\n",
        "        x = x.view(-1, 256*22*22).contiguous()\n",
        "        x = self.linear(x)\n",
        "        return x"
      ],
      "execution_count": 0,
      "outputs": []
    },
    {
      "metadata": {
        "id": "82oEezGTUV3u",
        "colab_type": "code",
        "colab": {}
      },
      "cell_type": "code",
      "source": [
        "model_torch = Model_torch().to(\"cuda\")\n",
        "model_torch"
      ],
      "execution_count": 0,
      "outputs": []
    },
    {
      "metadata": {
        "id": "zdx4TaZpUZau",
        "colab_type": "code",
        "colab": {}
      },
      "cell_type": "code",
      "source": [
        "criterion = torch.nn.CrossEntropyLoss()\n",
        "optimizer = torch.optim.Adam(model_torch.parameters())"
      ],
      "execution_count": 0,
      "outputs": []
    },
    {
      "metadata": {
        "id": "Rh2LMBB4WCvo",
        "colab_type": "code",
        "colab": {}
      },
      "cell_type": "code",
      "source": [
        "data_set_torch = torch.utils.data.TensorDataset(torch.from_numpy(X_torch), \n",
        "                                                torch.from_numpy(y_torch))"
      ],
      "execution_count": 0,
      "outputs": []
    },
    {
      "metadata": {
        "id": "i16RcINXXEv6",
        "colab_type": "code",
        "colab": {}
      },
      "cell_type": "code",
      "source": [
        "dataset_torch = torch.utils.data.DataLoader(data_set_torch, batch_size=256)\n"
      ],
      "execution_count": 0,
      "outputs": []
    },
    {
      "metadata": {
        "id": "FtOVYKN8YioZ",
        "colab_type": "code",
        "colab": {}
      },
      "cell_type": "code",
      "source": [
        "def train_torch(x, y):\n",
        "    \n",
        "    optimizer.zero_grad() \n",
        "    y_pre = model_torch(x)\n",
        "    loss = criterion(y_pre, y)\n",
        "    loss.backward()\n",
        "    optimizer.step()\n",
        "    _, preds = torch.max(y_pre, 1)\n",
        "    acc = torch.sum(preds == y) / y.size(0)\n",
        "    return loss.item(), acc.item()\n"
      ],
      "execution_count": 0,
      "outputs": []
    },
    {
      "metadata": {
        "id": "9PN1bedaayNO",
        "colab_type": "code",
        "colab": {
          "base_uri": "https://localhost:8080/",
          "height": 593
        },
        "outputId": "61a49409-129b-453a-f4c8-3b7e09b940bb"
      },
      "cell_type": "code",
      "source": [
        "%%time\n",
        "for _ in range(10):\n",
        "    \n",
        "    running_loss = 0\n",
        "    running_acc = 0\n",
        "    for i, (x_, y_) in enumerate(dataset_torch):\n",
        "        loss, acc, = train_torch(x_.to(\"cuda\"), y_.to(\"cuda\"))\n",
        "        running_loss += loss\n",
        "        running_acc += acc\n",
        "    \n",
        "    print(\"***********************\")\n",
        "    print(\"loss\", running_loss / (i+1) )\n",
        "    print(\"acc\", running_acc / (i+1) )    "
      ],
      "execution_count": 25,
      "outputs": [
        {
          "output_type": "stream",
          "text": [
            "***********************\n",
            "loss 0.002378651115577668\n",
            "acc 0.975\n",
            "***********************\n",
            "loss 0.0015758836641907692\n",
            "acc 1.0\n",
            "***********************\n",
            "loss 0.0023638030514121057\n",
            "acc 0.9\n",
            "***********************\n",
            "loss 0.002076438756193966\n",
            "acc 0.975\n",
            "***********************\n",
            "loss 0.0016074220882728695\n",
            "acc 0.975\n",
            "***********************\n",
            "loss 0.0013330027111805975\n",
            "acc 0.95\n",
            "***********************\n",
            "loss 0.001690656109713018\n",
            "acc 0.9\n",
            "***********************\n",
            "loss 0.0021041302708908914\n",
            "acc 0.95\n",
            "***********************\n",
            "loss 0.003921843133866787\n",
            "acc 0.775\n",
            "***********************\n",
            "loss 0.004420859855599701\n",
            "acc 0.85\n",
            "CPU times: user 1min 27s, sys: 52.1 s, total: 2min 19s\n",
            "Wall time: 2min 20s\n"
          ],
          "name": "stdout"
        }
      ]
    },
    {
      "metadata": {
        "id": "PnL8XYdMbUdI",
        "colab_type": "code",
        "colab": {}
      },
      "cell_type": "code",
      "source": [
        ""
      ],
      "execution_count": 0,
      "outputs": []
    }
  ]
}