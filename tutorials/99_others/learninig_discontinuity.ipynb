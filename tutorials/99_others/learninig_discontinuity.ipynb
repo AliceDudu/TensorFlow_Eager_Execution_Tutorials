{
  "nbformat": 4,
  "nbformat_minor": 0,
  "metadata": {
    "colab": {
      "name": "learninig_discontinuity.ipynb",
      "version": "0.3.2",
      "provenance": [],
      "collapsed_sections": [],
      "include_colab_link": true
    },
    "kernelspec": {
      "name": "python3",
      "display_name": "Python 3"
    }
  },
  "cells": [
    {
      "cell_type": "markdown",
      "metadata": {
        "id": "view-in-github",
        "colab_type": "text"
      },
      "source": [
        "<a href=\"https://colab.research.google.com/github/hellocybernetics/TensorFlow_Eager_Execution_Tutorials/blob/master/tutorials/99_others/learninig_discontinuity.ipynb\" target=\"_parent\"><img src=\"https://colab.research.google.com/assets/colab-badge.svg\" alt=\"Open In Colab\"/></a>"
      ]
    },
    {
      "metadata": {
        "id": "3kLp3Z1aEx0E",
        "colab_type": "code",
        "colab": {}
      },
      "cell_type": "code",
      "source": [
        "import numpy as np\n",
        "import pandas as pd\n",
        "import tensorflow as tf\n",
        "import matplotlib.pyplot as plt\n",
        "%matplotlib inline"
      ],
      "execution_count": 0,
      "outputs": []
    },
    {
      "metadata": {
        "id": "OUoVujafE3fI",
        "colab_type": "code",
        "colab": {}
      },
      "cell_type": "code",
      "source": [
        "tf.enable_eager_execution()\n",
        "L = tf.keras.layers"
      ],
      "execution_count": 0,
      "outputs": []
    },
    {
      "metadata": {
        "id": "RGjVOTq5YfD4",
        "colab_type": "text"
      },
      "cell_type": "markdown",
      "source": [
        "### 入力データ\n",
        "入力データは学習データが連続値が５種類、カテゴリ値が１種類、離散値が１種類とする。"
      ]
    },
    {
      "metadata": {
        "id": "kWZKoIOSE_8K",
        "colab_type": "code",
        "colab": {}
      },
      "cell_type": "code",
      "source": [
        "X_feature = np.random.randn(100, 5)\n",
        "X_categorical_feature = np.random.randint(0, 3, 100)[:, np.newaxis]\n",
        "X_discreat_feature = np.random.randint(0, 4, 100)[:, np.newaxis]"
      ],
      "execution_count": 0,
      "outputs": []
    },
    {
      "metadata": {
        "id": "_tNO3e4CFW9e",
        "colab_type": "code",
        "colab": {}
      },
      "cell_type": "code",
      "source": [
        "X = np.hstack([X_feature, X_categorical_feature, X_discreat_feature])"
      ],
      "execution_count": 0,
      "outputs": []
    },
    {
      "metadata": {
        "id": "2ixyj-YCFncq",
        "colab_type": "code",
        "colab": {
          "base_uri": "https://localhost:8080/",
          "height": 204
        },
        "outputId": "d30cc86c-32af-4d4f-9083-284d41162b0c"
      },
      "cell_type": "code",
      "source": [
        "df = pd.DataFrame(X, columns=[\"feature1\",\n",
        "                              \"feature2\",\n",
        "                              \"feature3\",\n",
        "                              \"feature4\",\n",
        "                              \"feature5\",\n",
        "                              \"categori_feature\",\n",
        "                              \"discreate_feature\"])\n",
        "df.head()"
      ],
      "execution_count": 28,
      "outputs": [
        {
          "output_type": "execute_result",
          "data": {
            "text/html": [
              "<div>\n",
              "<style scoped>\n",
              "    .dataframe tbody tr th:only-of-type {\n",
              "        vertical-align: middle;\n",
              "    }\n",
              "\n",
              "    .dataframe tbody tr th {\n",
              "        vertical-align: top;\n",
              "    }\n",
              "\n",
              "    .dataframe thead th {\n",
              "        text-align: right;\n",
              "    }\n",
              "</style>\n",
              "<table border=\"1\" class=\"dataframe\">\n",
              "  <thead>\n",
              "    <tr style=\"text-align: right;\">\n",
              "      <th></th>\n",
              "      <th>feature1</th>\n",
              "      <th>feature2</th>\n",
              "      <th>feature3</th>\n",
              "      <th>feature4</th>\n",
              "      <th>feature5</th>\n",
              "      <th>categori_feature</th>\n",
              "      <th>discreate_feature</th>\n",
              "    </tr>\n",
              "  </thead>\n",
              "  <tbody>\n",
              "    <tr>\n",
              "      <th>0</th>\n",
              "      <td>0.601079</td>\n",
              "      <td>0.278265</td>\n",
              "      <td>0.196967</td>\n",
              "      <td>-0.226083</td>\n",
              "      <td>-0.231702</td>\n",
              "      <td>1.0</td>\n",
              "      <td>2.0</td>\n",
              "    </tr>\n",
              "    <tr>\n",
              "      <th>1</th>\n",
              "      <td>0.441099</td>\n",
              "      <td>1.074026</td>\n",
              "      <td>0.185914</td>\n",
              "      <td>-0.200806</td>\n",
              "      <td>-0.588992</td>\n",
              "      <td>1.0</td>\n",
              "      <td>3.0</td>\n",
              "    </tr>\n",
              "    <tr>\n",
              "      <th>2</th>\n",
              "      <td>-0.675723</td>\n",
              "      <td>-0.006905</td>\n",
              "      <td>1.726680</td>\n",
              "      <td>-0.614718</td>\n",
              "      <td>-0.374511</td>\n",
              "      <td>1.0</td>\n",
              "      <td>3.0</td>\n",
              "    </tr>\n",
              "    <tr>\n",
              "      <th>3</th>\n",
              "      <td>-0.285753</td>\n",
              "      <td>-0.113059</td>\n",
              "      <td>1.201374</td>\n",
              "      <td>-0.497563</td>\n",
              "      <td>-0.540697</td>\n",
              "      <td>2.0</td>\n",
              "      <td>1.0</td>\n",
              "    </tr>\n",
              "    <tr>\n",
              "      <th>4</th>\n",
              "      <td>0.283813</td>\n",
              "      <td>-0.451710</td>\n",
              "      <td>0.244722</td>\n",
              "      <td>-0.545862</td>\n",
              "      <td>-0.405046</td>\n",
              "      <td>2.0</td>\n",
              "      <td>0.0</td>\n",
              "    </tr>\n",
              "  </tbody>\n",
              "</table>\n",
              "</div>"
            ],
            "text/plain": [
              "   feature1  feature2  feature3  feature4  feature5  categori_feature  \\\n",
              "0  0.601079  0.278265  0.196967 -0.226083 -0.231702               1.0   \n",
              "1  0.441099  1.074026  0.185914 -0.200806 -0.588992               1.0   \n",
              "2 -0.675723 -0.006905  1.726680 -0.614718 -0.374511               1.0   \n",
              "3 -0.285753 -0.113059  1.201374 -0.497563 -0.540697               2.0   \n",
              "4  0.283813 -0.451710  0.244722 -0.545862 -0.405046               2.0   \n",
              "\n",
              "   discreate_feature  \n",
              "0                2.0  \n",
              "1                3.0  \n",
              "2                3.0  \n",
              "3                1.0  \n",
              "4                0.0  "
            ]
          },
          "metadata": {
            "tags": []
          },
          "execution_count": 28
        }
      ]
    },
    {
      "metadata": {
        "id": "5vr1P2kGYt6d",
        "colab_type": "text"
      },
      "cell_type": "markdown",
      "source": [
        "### カテゴリ値と離散値\n",
        "例えば、気温が「高い」か「普通」か「低い」かは、「気温」という数値データを離散的に表現したものであると言える。本質的には数値であるものなので、低い方から「１，２，３」を数値を割り当ててしまってもいいかもしれない（数字の並びに意味があれば良い）。\n",
        "\n",
        "しかし、例えば男・女などの場合「０と１」という並びに意味はなくなる。このようなデータはカテゴリデータとして扱い、入力に使う場合はワン・ホット・エンコーディングをすることが好ましい。"
      ]
    },
    {
      "metadata": {
        "id": "-CfhQ7HrGOrv",
        "colab_type": "code",
        "colab": {}
      },
      "cell_type": "code",
      "source": [
        "df_transed = pd.get_dummies(df, columns=[\"categori_feature\"], sparse=False)"
      ],
      "execution_count": 0,
      "outputs": []
    },
    {
      "metadata": {
        "id": "K5uET-YAG-3g",
        "colab_type": "code",
        "colab": {
          "base_uri": "https://localhost:8080/",
          "height": 204
        },
        "outputId": "f8af1587-4582-42e8-fea2-0ebcba2a0176"
      },
      "cell_type": "code",
      "source": [
        "df_transed.head()"
      ],
      "execution_count": 161,
      "outputs": [
        {
          "output_type": "execute_result",
          "data": {
            "text/html": [
              "<div>\n",
              "<style scoped>\n",
              "    .dataframe tbody tr th:only-of-type {\n",
              "        vertical-align: middle;\n",
              "    }\n",
              "\n",
              "    .dataframe tbody tr th {\n",
              "        vertical-align: top;\n",
              "    }\n",
              "\n",
              "    .dataframe thead th {\n",
              "        text-align: right;\n",
              "    }\n",
              "</style>\n",
              "<table border=\"1\" class=\"dataframe\">\n",
              "  <thead>\n",
              "    <tr style=\"text-align: right;\">\n",
              "      <th></th>\n",
              "      <th>feature1</th>\n",
              "      <th>feature2</th>\n",
              "      <th>feature3</th>\n",
              "      <th>feature4</th>\n",
              "      <th>feature5</th>\n",
              "      <th>discreate_feature</th>\n",
              "      <th>outputs</th>\n",
              "      <th>categori_feature_0.0</th>\n",
              "      <th>categori_feature_1.0</th>\n",
              "      <th>categori_feature_2.0</th>\n",
              "    </tr>\n",
              "  </thead>\n",
              "  <tbody>\n",
              "    <tr>\n",
              "      <th>0</th>\n",
              "      <td>0.601079</td>\n",
              "      <td>0.278265</td>\n",
              "      <td>0.196967</td>\n",
              "      <td>-0.226083</td>\n",
              "      <td>-0.231702</td>\n",
              "      <td>2.0</td>\n",
              "      <td>1.042512</td>\n",
              "      <td>0</td>\n",
              "      <td>1</td>\n",
              "      <td>0</td>\n",
              "    </tr>\n",
              "    <tr>\n",
              "      <th>1</th>\n",
              "      <td>0.441099</td>\n",
              "      <td>1.074026</td>\n",
              "      <td>0.185914</td>\n",
              "      <td>-0.200806</td>\n",
              "      <td>-0.588992</td>\n",
              "      <td>3.0</td>\n",
              "      <td>1.034850</td>\n",
              "      <td>0</td>\n",
              "      <td>1</td>\n",
              "      <td>0</td>\n",
              "    </tr>\n",
              "    <tr>\n",
              "      <th>2</th>\n",
              "      <td>-0.675723</td>\n",
              "      <td>-0.006905</td>\n",
              "      <td>1.726680</td>\n",
              "      <td>-0.614718</td>\n",
              "      <td>-0.374511</td>\n",
              "      <td>3.0</td>\n",
              "      <td>0.990466</td>\n",
              "      <td>0</td>\n",
              "      <td>1</td>\n",
              "      <td>0</td>\n",
              "    </tr>\n",
              "    <tr>\n",
              "      <th>3</th>\n",
              "      <td>-0.285753</td>\n",
              "      <td>-0.113059</td>\n",
              "      <td>1.201374</td>\n",
              "      <td>-0.497563</td>\n",
              "      <td>-0.540697</td>\n",
              "      <td>1.0</td>\n",
              "      <td>1.106642</td>\n",
              "      <td>0</td>\n",
              "      <td>0</td>\n",
              "      <td>1</td>\n",
              "    </tr>\n",
              "    <tr>\n",
              "      <th>4</th>\n",
              "      <td>0.283813</td>\n",
              "      <td>-0.451710</td>\n",
              "      <td>0.244722</td>\n",
              "      <td>-0.545862</td>\n",
              "      <td>-0.405046</td>\n",
              "      <td>0.0</td>\n",
              "      <td>1.138304</td>\n",
              "      <td>0</td>\n",
              "      <td>0</td>\n",
              "      <td>1</td>\n",
              "    </tr>\n",
              "  </tbody>\n",
              "</table>\n",
              "</div>"
            ],
            "text/plain": [
              "   feature1  feature2  feature3  feature4  feature5  discreate_feature  \\\n",
              "0  0.601079  0.278265  0.196967 -0.226083 -0.231702                2.0   \n",
              "1  0.441099  1.074026  0.185914 -0.200806 -0.588992                3.0   \n",
              "2 -0.675723 -0.006905  1.726680 -0.614718 -0.374511                3.0   \n",
              "3 -0.285753 -0.113059  1.201374 -0.497563 -0.540697                1.0   \n",
              "4  0.283813 -0.451710  0.244722 -0.545862 -0.405046                0.0   \n",
              "\n",
              "    outputs  categori_feature_0.0  categori_feature_1.0  categori_feature_2.0  \n",
              "0  1.042512                     0                     1                     0  \n",
              "1  1.034850                     0                     1                     0  \n",
              "2  0.990466                     0                     1                     0  \n",
              "3  1.106642                     0                     0                     1  \n",
              "4  1.138304                     0                     0                     1  "
            ]
          },
          "metadata": {
            "tags": []
          },
          "execution_count": 161
        }
      ]
    },
    {
      "metadata": {
        "id": "JgKxAjwbZkW7",
        "colab_type": "text"
      },
      "cell_type": "markdown",
      "source": [
        "### 出力データ\n",
        "出力データは下記のように、不連続のデータにノイズが載ったものとする。"
      ]
    },
    {
      "metadata": {
        "id": "w2wvj47BH-r2",
        "colab_type": "code",
        "colab": {
          "base_uri": "https://localhost:8080/",
          "height": 283
        },
        "outputId": "a383083a-7685-45b8-f80d-fc98cc2b02b5"
      },
      "cell_type": "code",
      "source": [
        "y1 = 1.0 * np.ones([30, 1]) + 0.1 * np.random.randn(30, 1)\n",
        "y2 = 2.0 * np.ones([30, 1]) + 0.1 * np.random.randn(30, 1)\n",
        "y3 = 2.5 * np.ones([40, 1]) + 0.1 * np.random.randn(40, 1)\n",
        "\n",
        "y = np.vstack([y1, y2, y3])\n",
        "\n",
        "plt.plot(y, \"bo\")"
      ],
      "execution_count": 41,
      "outputs": [
        {
          "output_type": "execute_result",
          "data": {
            "text/plain": [
              "[<matplotlib.lines.Line2D at 0x7f94e097cb38>]"
            ]
          },
          "metadata": {
            "tags": []
          },
          "execution_count": 41
        },
        {
          "output_type": "display_data",
          "data": {
            "image/png": "[encoded data removed]",
            "text/plain": [
              "<matplotlib.figure.Figure at 0x7f94e0b245c0>"
            ]
          },
          "metadata": {
            "tags": []
          }
        }
      ]
    },
    {
      "metadata": {
        "id": "ay6QedZRZxTg",
        "colab_type": "text"
      },
      "cell_type": "markdown",
      "source": [
        "### データ全体\n",
        "データ全体は下記のようになる。\n",
        "今回は特に意味のないデータなのだが、特徴量が連続であったり離散であったり、カテゴリ値であったり、様々なものが混ざっているケースが通常データ解析の場面では当たり前である。"
      ]
    },
    {
      "metadata": {
        "id": "B8wWtEzcRpOX",
        "colab_type": "code",
        "colab": {
          "base_uri": "https://localhost:8080/",
          "height": 204
        },
        "outputId": "11f2f3c9-f028-4f06-ca9b-e7c13cab2c58"
      },
      "cell_type": "code",
      "source": [
        "df[\"outputs\"] = y\n",
        "df_transed[\"outputs\"] = y\n",
        "df_transed.head()"
      ],
      "execution_count": 85,
      "outputs": [
        {
          "output_type": "execute_result",
          "data": {
            "text/html": [
              "<div>\n",
              "<style scoped>\n",
              "    .dataframe tbody tr th:only-of-type {\n",
              "        vertical-align: middle;\n",
              "    }\n",
              "\n",
              "    .dataframe tbody tr th {\n",
              "        vertical-align: top;\n",
              "    }\n",
              "\n",
              "    .dataframe thead th {\n",
              "        text-align: right;\n",
              "    }\n",
              "</style>\n",
              "<table border=\"1\" class=\"dataframe\">\n",
              "  <thead>\n",
              "    <tr style=\"text-align: right;\">\n",
              "      <th></th>\n",
              "      <th>feature1</th>\n",
              "      <th>feature2</th>\n",
              "      <th>feature3</th>\n",
              "      <th>feature4</th>\n",
              "      <th>feature5</th>\n",
              "      <th>discreate_feature</th>\n",
              "      <th>categori_feature_0.0</th>\n",
              "      <th>categori_feature_1.0</th>\n",
              "      <th>categori_feature_2.0</th>\n",
              "      <th>outputs</th>\n",
              "    </tr>\n",
              "  </thead>\n",
              "  <tbody>\n",
              "    <tr>\n",
              "      <th>0</th>\n",
              "      <td>0.601079</td>\n",
              "      <td>0.278265</td>\n",
              "      <td>0.196967</td>\n",
              "      <td>-0.226083</td>\n",
              "      <td>-0.231702</td>\n",
              "      <td>2.0</td>\n",
              "      <td>0</td>\n",
              "      <td>1</td>\n",
              "      <td>0</td>\n",
              "      <td>1.042512</td>\n",
              "    </tr>\n",
              "    <tr>\n",
              "      <th>1</th>\n",
              "      <td>0.441099</td>\n",
              "      <td>1.074026</td>\n",
              "      <td>0.185914</td>\n",
              "      <td>-0.200806</td>\n",
              "      <td>-0.588992</td>\n",
              "      <td>3.0</td>\n",
              "      <td>0</td>\n",
              "      <td>1</td>\n",
              "      <td>0</td>\n",
              "      <td>1.034850</td>\n",
              "    </tr>\n",
              "    <tr>\n",
              "      <th>2</th>\n",
              "      <td>-0.675723</td>\n",
              "      <td>-0.006905</td>\n",
              "      <td>1.726680</td>\n",
              "      <td>-0.614718</td>\n",
              "      <td>-0.374511</td>\n",
              "      <td>3.0</td>\n",
              "      <td>0</td>\n",
              "      <td>1</td>\n",
              "      <td>0</td>\n",
              "      <td>0.990466</td>\n",
              "    </tr>\n",
              "    <tr>\n",
              "      <th>3</th>\n",
              "      <td>-0.285753</td>\n",
              "      <td>-0.113059</td>\n",
              "      <td>1.201374</td>\n",
              "      <td>-0.497563</td>\n",
              "      <td>-0.540697</td>\n",
              "      <td>1.0</td>\n",
              "      <td>0</td>\n",
              "      <td>0</td>\n",
              "      <td>1</td>\n",
              "      <td>1.106642</td>\n",
              "    </tr>\n",
              "    <tr>\n",
              "      <th>4</th>\n",
              "      <td>0.283813</td>\n",
              "      <td>-0.451710</td>\n",
              "      <td>0.244722</td>\n",
              "      <td>-0.545862</td>\n",
              "      <td>-0.405046</td>\n",
              "      <td>0.0</td>\n",
              "      <td>0</td>\n",
              "      <td>0</td>\n",
              "      <td>1</td>\n",
              "      <td>1.138304</td>\n",
              "    </tr>\n",
              "  </tbody>\n",
              "</table>\n",
              "</div>"
            ],
            "text/plain": [
              "   feature1  feature2  feature3  feature4  feature5  discreate_feature  \\\n",
              "0  0.601079  0.278265  0.196967 -0.226083 -0.231702                2.0   \n",
              "1  0.441099  1.074026  0.185914 -0.200806 -0.588992                3.0   \n",
              "2 -0.675723 -0.006905  1.726680 -0.614718 -0.374511                3.0   \n",
              "3 -0.285753 -0.113059  1.201374 -0.497563 -0.540697                1.0   \n",
              "4  0.283813 -0.451710  0.244722 -0.545862 -0.405046                0.0   \n",
              "\n",
              "   categori_feature_0.0  categori_feature_1.0  categori_feature_2.0   outputs  \n",
              "0                     0                     1                     0  1.042512  \n",
              "1                     0                     1                     0  1.034850  \n",
              "2                     0                     1                     0  0.990466  \n",
              "3                     0                     0                     1  1.106642  \n",
              "4                     0                     0                     1  1.138304  "
            ]
          },
          "metadata": {
            "tags": []
          },
          "execution_count": 85
        }
      ]
    },
    {
      "metadata": {
        "id": "S4zz54d6aDvX",
        "colab_type": "text"
      },
      "cell_type": "markdown",
      "source": [
        "### モデルと学習\n",
        "今回は適当な数の中間層を持つDNNをつかう。特に意味はない。"
      ]
    },
    {
      "metadata": {
        "id": "epjAlRkGPz32",
        "colab_type": "code",
        "colab": {
          "base_uri": "https://localhost:8080/",
          "height": 503
        },
        "outputId": "7f466e26-ea91-4537-f644-89e5b996cd34"
      },
      "cell_type": "code",
      "source": [
        "model = tf.keras.Sequential([\n",
        "    L.InputLayer([9]),\n",
        "    L.Dense(20, activation=tf.nn.relu),\n",
        "    L.Dense(20, activation=tf.nn.relu),\n",
        "    L.Dense(20, activation=tf.nn.relu),\n",
        "    L.Dense(20, activation=tf.nn.relu),\n",
        "    L.Dense(20, activation=tf.nn.relu),\n",
        "    L.Dense(20, activation=tf.nn.relu),\n",
        "    L.Dense(20, activation=tf.nn.relu),\n",
        "    L.Dense(20, activation=tf.nn.relu),\n",
        "    L.Dense(20, activation=tf.nn.relu),\n",
        "    L.Dense(1)\n",
        "])\n",
        "\n",
        "model.summary()"
      ],
      "execution_count": 162,
      "outputs": [
        {
          "output_type": "stream",
          "text": [
            "_________________________________________________________________\n",
            "Layer (type)                 Output Shape              Param #   \n",
            "=================================================================\n",
            "dense_30 (Dense)             (None, 20)                200       \n",
            "_________________________________________________________________\n",
            "dense_31 (Dense)             (None, 20)                420       \n",
            "_________________________________________________________________\n",
            "dense_32 (Dense)             (None, 20)                420       \n",
            "_________________________________________________________________\n",
            "dense_33 (Dense)             (None, 20)                420       \n",
            "_________________________________________________________________\n",
            "dense_34 (Dense)             (None, 20)                420       \n",
            "_________________________________________________________________\n",
            "dense_35 (Dense)             (None, 20)                420       \n",
            "_________________________________________________________________\n",
            "dense_36 (Dense)             (None, 20)                420       \n",
            "_________________________________________________________________\n",
            "dense_37 (Dense)             (None, 20)                420       \n",
            "_________________________________________________________________\n",
            "dense_38 (Dense)             (None, 20)                420       \n",
            "_________________________________________________________________\n",
            "dense_39 (Dense)             (None, 1)                 21        \n",
            "=================================================================\n",
            "Total params: 3,581\n",
            "Trainable params: 3,581\n",
            "Non-trainable params: 0\n",
            "_________________________________________________________________\n"
          ],
          "name": "stdout"
        }
      ]
    },
    {
      "metadata": {
        "id": "McHYfUj_aU26",
        "colab_type": "text"
      },
      "cell_type": "markdown",
      "source": [
        "### 学習の設定\n",
        "下記のコードで学習の設定が可能。\n",
        "\n",
        "ここで決めるのはオプティマイザーと損失関数である。学習コードを書くのが面倒なので、keras APIを使う。eager_executionなのでmodel.compile自体も動的に何度でもやり直せる（途中で学習率を変えたり、損失関数を変えたり出来る）。"
      ]
    },
    {
      "metadata": {
        "id": "-a-S-NpXRFwK",
        "colab_type": "code",
        "colab": {}
      },
      "cell_type": "code",
      "source": [
        "model.compile(optimizer=tf.train.GradientDescentOptimizer(1e-4),\n",
        "              loss=tf.losses.mean_squared_error)"
      ],
      "execution_count": 0,
      "outputs": []
    },
    {
      "metadata": {
        "id": "GxrBbK6das6_",
        "colab_type": "text"
      },
      "cell_type": "markdown",
      "source": [
        "### 学習\n",
        "実は今回の下記の学習では、学習が上手く進まない。lossが必ず停滞する。その停滞に応じて、上のコードの学習率を書き換えて再度下記のコードで学習を行うことで、なんとかlossを下げて見て欲しい（ちゃんと学習は続きから行われる）。結構面倒臭い。"
      ]
    },
    {
      "metadata": {
        "id": "WEPzHLt9RVVN",
        "colab_type": "code",
        "colab": {
          "base_uri": "https://localhost:8080/",
          "height": 3635
        },
        "outputId": "bc743ca5-f428-45e1-82ae-c84f36c59cd0"
      },
      "cell_type": "code",
      "source": [
        "model.fit(x=df_transed.loc[:, df_transed.columns != 'outputs'],\n",
        "          y=df_transed['outputs'],\n",
        "          epochs=100)"
      ],
      "execution_count": 157,
      "outputs": [
        {
          "output_type": "stream",
          "text": [
            "Epoch 1/100\n",
            "4/4 [==============================] - 0s 8ms/step - loss: 0.0538\n",
            "Epoch 2/100\n",
            "4/4 [==============================] - 0s 8ms/step - loss: 0.0537\n",
            "Epoch 3/100\n",
            "4/4 [==============================] - 0s 8ms/step - loss: 0.0537\n",
            "Epoch 4/100\n",
            "4/4 [==============================] - 0s 8ms/step - loss: 0.0536\n",
            "Epoch 5/100\n",
            "4/4 [==============================] - 0s 8ms/step - loss: 0.0535\n",
            "Epoch 6/100\n",
            "4/4 [==============================] - 0s 8ms/step - loss: 0.0535\n",
            "Epoch 7/100\n",
            "4/4 [==============================] - 0s 8ms/step - loss: 0.0534\n",
            "Epoch 8/100\n",
            "4/4 [==============================] - 0s 8ms/step - loss: 0.0534\n",
            "Epoch 9/100\n",
            "4/4 [==============================] - 0s 8ms/step - loss: 0.0533\n",
            "Epoch 10/100\n",
            "4/4 [==============================] - 0s 8ms/step - loss: 0.0533\n",
            "Epoch 11/100\n",
            "4/4 [==============================] - 0s 7ms/step - loss: 0.0532\n",
            "Epoch 12/100\n",
            "4/4 [==============================] - 0s 7ms/step - loss: 0.0532\n",
            "Epoch 13/100\n",
            "4/4 [==============================] - 0s 8ms/step - loss: 0.0531\n",
            "Epoch 14/100\n",
            "4/4 [==============================] - 0s 8ms/step - loss: 0.0531\n",
            "Epoch 15/100\n",
            "4/4 [==============================] - 0s 7ms/step - loss: 0.0530\n",
            "Epoch 16/100\n",
            "4/4 [==============================] - 0s 8ms/step - loss: 0.0530\n",
            "Epoch 17/100\n",
            "4/4 [==============================] - 0s 9ms/step - loss: 0.0530\n",
            "Epoch 18/100\n",
            "4/4 [==============================] - 0s 8ms/step - loss: 0.0529\n",
            "Epoch 19/100\n",
            "4/4 [==============================] - 0s 8ms/step - loss: 0.0529\n",
            "Epoch 20/100\n",
            "4/4 [==============================] - 0s 9ms/step - loss: 0.0528\n",
            "Epoch 21/100\n",
            "4/4 [==============================] - 0s 8ms/step - loss: 0.0528\n",
            "Epoch 22/100\n",
            "4/4 [==============================] - 0s 10ms/step - loss: 0.0527\n",
            "Epoch 23/100\n",
            "4/4 [==============================] - 0s 8ms/step - loss: 0.0527\n",
            "Epoch 24/100\n",
            "4/4 [==============================] - 0s 8ms/step - loss: 0.0526\n",
            "Epoch 25/100\n",
            "4/4 [==============================] - 0s 8ms/step - loss: 0.0526\n",
            "Epoch 26/100\n",
            "4/4 [==============================] - 0s 8ms/step - loss: 0.0525\n",
            "Epoch 27/100\n",
            "4/4 [==============================] - 0s 7ms/step - loss: 0.0525\n",
            "Epoch 28/100\n",
            "4/4 [==============================] - 0s 8ms/step - loss: 0.0524\n",
            "Epoch 29/100\n",
            "4/4 [==============================] - 0s 7ms/step - loss: 0.0524\n",
            "Epoch 30/100\n",
            "4/4 [==============================] - 0s 8ms/step - loss: 0.0524\n",
            "Epoch 31/100\n",
            "4/4 [==============================] - 0s 8ms/step - loss: 0.0523\n",
            "Epoch 32/100\n",
            "4/4 [==============================] - 0s 9ms/step - loss: 0.0523\n",
            "Epoch 33/100\n",
            "4/4 [==============================] - 0s 7ms/step - loss: 0.0522\n",
            "Epoch 34/100\n",
            "4/4 [==============================] - 0s 8ms/step - loss: 0.0522\n",
            "Epoch 35/100\n",
            "4/4 [==============================] - 0s 8ms/step - loss: 0.0521\n",
            "Epoch 36/100\n",
            "4/4 [==============================] - 0s 8ms/step - loss: 0.0521\n",
            "Epoch 37/100\n",
            "4/4 [==============================] - 0s 8ms/step - loss: 0.0521\n",
            "Epoch 38/100\n",
            "4/4 [==============================] - 0s 8ms/step - loss: 0.0520\n",
            "Epoch 39/100\n",
            "4/4 [==============================] - 0s 7ms/step - loss: 0.0520\n",
            "Epoch 40/100\n",
            "4/4 [==============================] - 0s 8ms/step - loss: 0.0519\n",
            "Epoch 41/100\n",
            "4/4 [==============================] - 0s 7ms/step - loss: 0.0519\n",
            "Epoch 42/100\n",
            "4/4 [==============================] - 0s 8ms/step - loss: 0.0518\n",
            "Epoch 43/100\n",
            "4/4 [==============================] - 0s 8ms/step - loss: 0.0518\n",
            "Epoch 44/100\n",
            "4/4 [==============================] - 0s 8ms/step - loss: 0.0518\n",
            "Epoch 45/100\n",
            "4/4 [==============================] - 0s 7ms/step - loss: 0.0517\n",
            "Epoch 46/100\n",
            "4/4 [==============================] - 0s 7ms/step - loss: 0.0517\n",
            "Epoch 47/100\n",
            "4/4 [==============================] - 0s 7ms/step - loss: 0.0516\n",
            "Epoch 48/100\n",
            "4/4 [==============================] - 0s 8ms/step - loss: 0.0516\n",
            "Epoch 49/100\n",
            "4/4 [==============================] - 0s 7ms/step - loss: 0.0515\n",
            "Epoch 50/100\n",
            "4/4 [==============================] - 0s 8ms/step - loss: 0.0515\n",
            "Epoch 51/100\n",
            "4/4 [==============================] - 0s 8ms/step - loss: 0.0515\n",
            "Epoch 52/100\n",
            "4/4 [==============================] - 0s 7ms/step - loss: 0.0514\n",
            "Epoch 53/100\n",
            "4/4 [==============================] - 0s 7ms/step - loss: 0.0514\n",
            "Epoch 54/100\n",
            "4/4 [==============================] - 0s 7ms/step - loss: 0.0513\n",
            "Epoch 55/100\n",
            "4/4 [==============================] - 0s 7ms/step - loss: 0.0513\n",
            "Epoch 56/100\n",
            "4/4 [==============================] - 0s 7ms/step - loss: 0.0512\n",
            "Epoch 57/100\n",
            "4/4 [==============================] - 0s 7ms/step - loss: 0.0512\n",
            "Epoch 58/100\n",
            "4/4 [==============================] - 0s 7ms/step - loss: 0.0512\n",
            "Epoch 59/100\n",
            "4/4 [==============================] - 0s 7ms/step - loss: 0.0511\n",
            "Epoch 60/100\n",
            "4/4 [==============================] - 0s 7ms/step - loss: 0.0511\n",
            "Epoch 61/100\n",
            "4/4 [==============================] - 0s 7ms/step - loss: 0.0511\n",
            "Epoch 62/100\n",
            "4/4 [==============================] - 0s 8ms/step - loss: 0.0510\n",
            "Epoch 63/100\n",
            "4/4 [==============================] - 0s 8ms/step - loss: 0.0510\n",
            "Epoch 64/100\n",
            "4/4 [==============================] - 0s 7ms/step - loss: 0.0509\n",
            "Epoch 65/100\n",
            "4/4 [==============================] - 0s 7ms/step - loss: 0.0509\n",
            "Epoch 66/100\n",
            "4/4 [==============================] - 0s 8ms/step - loss: 0.0509\n",
            "Epoch 67/100\n",
            "4/4 [==============================] - 0s 9ms/step - loss: 0.0508\n",
            "Epoch 68/100\n",
            "4/4 [==============================] - 0s 10ms/step - loss: 0.0508\n",
            "Epoch 69/100\n",
            "4/4 [==============================] - 0s 8ms/step - loss: 0.0508\n",
            "Epoch 70/100\n",
            "4/4 [==============================] - 0s 8ms/step - loss: 0.0507\n",
            "Epoch 71/100\n",
            "4/4 [==============================] - 0s 8ms/step - loss: 0.0507\n",
            "Epoch 72/100\n",
            "4/4 [==============================] - 0s 8ms/step - loss: 0.0507\n",
            "Epoch 73/100\n",
            "4/4 [==============================] - 0s 8ms/step - loss: 0.0506\n",
            "Epoch 74/100\n",
            "4/4 [==============================] - 0s 8ms/step - loss: 0.0506\n",
            "Epoch 75/100\n",
            "4/4 [==============================] - 0s 8ms/step - loss: 0.0506\n",
            "Epoch 76/100\n",
            "4/4 [==============================] - 0s 8ms/step - loss: 0.0505\n",
            "Epoch 77/100\n",
            "4/4 [==============================] - 0s 8ms/step - loss: 0.0505\n",
            "Epoch 78/100\n",
            "4/4 [==============================] - 0s 8ms/step - loss: 0.0505\n",
            "Epoch 79/100\n",
            "4/4 [==============================] - 0s 8ms/step - loss: 0.0504\n",
            "Epoch 80/100\n",
            "4/4 [==============================] - 0s 9ms/step - loss: 0.0504\n",
            "Epoch 81/100\n",
            "4/4 [==============================] - 0s 9ms/step - loss: 0.0504\n",
            "Epoch 82/100\n",
            "4/4 [==============================] - 0s 8ms/step - loss: 0.0504\n",
            "Epoch 83/100\n",
            "4/4 [==============================] - 0s 10ms/step - loss: 0.0503\n",
            "Epoch 84/100\n",
            "4/4 [==============================] - 0s 8ms/step - loss: 0.0503\n",
            "Epoch 85/100\n",
            "4/4 [==============================] - 0s 8ms/step - loss: 0.0503\n",
            "Epoch 86/100\n",
            "4/4 [==============================] - 0s 8ms/step - loss: 0.0502\n",
            "Epoch 87/100\n",
            "4/4 [==============================] - 0s 8ms/step - loss: 0.0502\n",
            "Epoch 88/100\n",
            "4/4 [==============================] - 0s 8ms/step - loss: 0.0502\n",
            "Epoch 89/100\n",
            "4/4 [==============================] - 0s 8ms/step - loss: 0.0502\n",
            "Epoch 90/100\n",
            "4/4 [==============================] - 0s 9ms/step - loss: 0.0501\n",
            "Epoch 91/100\n",
            "4/4 [==============================] - 0s 8ms/step - loss: 0.0501\n",
            "Epoch 92/100\n",
            "4/4 [==============================] - 0s 8ms/step - loss: 0.0501\n",
            "Epoch 93/100\n",
            "4/4 [==============================] - 0s 8ms/step - loss: 0.0501\n",
            "Epoch 94/100\n",
            "4/4 [==============================] - 0s 8ms/step - loss: 0.0500\n",
            "Epoch 95/100\n",
            "4/4 [==============================] - 0s 8ms/step - loss: 0.0500\n",
            "Epoch 96/100\n",
            "4/4 [==============================] - 0s 8ms/step - loss: 0.0500\n",
            "Epoch 97/100\n",
            "4/4 [==============================] - 0s 8ms/step - loss: 0.0499\n",
            "Epoch 98/100\n",
            "4/4 [==============================] - 0s 8ms/step - loss: 0.0499\n",
            "Epoch 99/100\n",
            "4/4 [==============================] - 0s 8ms/step - loss: 0.0499\n",
            "Epoch 100/100\n",
            "4/4 [==============================] - 0s 8ms/step - loss: 0.0499\n"
          ],
          "name": "stdout"
        },
        {
          "output_type": "execute_result",
          "data": {
            "text/plain": [
              "<tensorflow.python.keras.callbacks.History at 0x7f94ddcc1eb8>"
            ]
          },
          "metadata": {
            "tags": []
          },
          "execution_count": 157
        }
      ]
    },
    {
      "metadata": {
        "id": "5sislIyFbKXR",
        "colab_type": "text"
      },
      "cell_type": "markdown",
      "source": [
        "### 学習結果可視化\n",
        "元のデータを青、学習後のデータを赤とする。\n",
        "頑張ってみたが「学習データでさえ」下記の結果となった。今回は使ったデータに特に意味はなく、ある意味「秩序のない学習のしどころがわからないデータ」だったため、学習が上手く行かなかったのかもしれない。"
      ]
    },
    {
      "metadata": {
        "id": "ARTrK2RnVvzN",
        "colab_type": "code",
        "colab": {}
      },
      "cell_type": "code",
      "source": [
        "y_predict = model.predict(df_transed.loc[:, df_transed.columns != 'outputs'])"
      ],
      "execution_count": 0,
      "outputs": []
    },
    {
      "metadata": {
        "id": "8FIC-VDpTVXz",
        "colab_type": "code",
        "colab": {
          "base_uri": "https://localhost:8080/",
          "height": 283
        },
        "outputId": "28e2c7af-6b48-4076-b020-a567c08cf39b"
      },
      "cell_type": "code",
      "source": [
        "plt.plot(df_transed['outputs'], \"bo\", alpha=0.5)\n",
        "plt.plot(y_predict, \"ro\", alpha=0.9)"
      ],
      "execution_count": 163,
      "outputs": [
        {
          "output_type": "execute_result",
          "data": {
            "text/plain": [
              "[<matplotlib.lines.Line2D at 0x7f94ddc1d828>]"
            ]
          },
          "metadata": {
            "tags": []
          },
          "execution_count": 163
        },
        {
          "output_type": "display_data",
          "data": {
            "image/png": "[encoded data removed]",
            "text/plain": [
              "<matplotlib.figure.Figure at 0x7f94ddc1d320>"
            ]
          },
          "metadata": {
            "tags": []
          }
        }
      ]
    },
    {
      "metadata": {
        "id": "NCVu2vFFXaNX",
        "colab_type": "text"
      },
      "cell_type": "markdown",
      "source": [
        "### 総括\n",
        "今回は無意味なデータを使った。本当に意味のあるデータを使っていれば、ちゃんと良く利いてくる特徴量を上手く学習することが可能なはずである。だから、上記のように「学習データでさえ」完璧に学習できなかった、ということは起こらないと思いたい。\n",
        "\n",
        "しかし、それにしても、今回の無秩序なデータに対してぶつけたモデルも反則的にパラメータの数が多く「問題を丸暗記できる程度の自由度」を有している。なので、あとは無秩序に見えるデータをどのように上手く学習させるか（丸暗記させるか）という話になるが、それが結構面倒であることを見た。\n",
        "\n",
        "実データに対しては、丸暗記は許されずテストデータに対しても性能が発揮されなければならない。実データならば（ちゃんと収集していれば）無秩序ということはなく、学習のしどころが（人間に分かるかはともかくとして）存在するはずである。<b>データの秩序は整う一方で、求められる学習のクオリティは更に高いものとなる。</b>ということである。その際の学習率を含めたハイパーパラメータの調整の困難さが、どのように変化するのかは謎である。\n",
        "\n",
        "\n",
        "### ハイパーパラメータの自動調整\n",
        "ハイパーパラメータの自動調整を行うアプリケーションは意外と多い。その中でもPFN製のOptunaは使いやすい。下記に利用例を載せた。\n",
        "\n",
        "[Optuna tutorial](https://github.com/hellocybernetics/TensorFlow_Eager_Execution_Tutorials/blob/master/tutorials/99_others/hyper_parameter_optimization_using_optuna.ipynb)"
      ]
    },
    {
      "metadata": {
        "id": "kD9VBe1yc9Fl",
        "colab_type": "code",
        "colab": {}
      },
      "cell_type": "code",
      "source": [
        ""
      ],
      "execution_count": 0,
      "outputs": []
    }
  ]
}