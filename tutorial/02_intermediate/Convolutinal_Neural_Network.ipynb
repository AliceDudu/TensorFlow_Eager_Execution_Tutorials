{
  "nbformat": 4,
  "nbformat_minor": 0,
  "metadata": {
    "colab": {
      "name": "Convolutinal_Neural_Network",
      "version": "0.3.2",
      "provenance": [],
      "collapsed_sections": [],
      "include_colab_link": true
    },
    "kernelspec": {
      "name": "python3",
      "display_name": "Python 3"
    },
    "accelerator": "GPU"
  },
  "cells": [
    {
      "cell_type": "markdown",
      "metadata": {
        "id": "view-in-github",
        "colab_type": "text"
      },
      "source": [
        "<a href=\"https://colab.research.google.com/github/hellocybernetics/TensorFlow_Eager_Execution_Tutorials/blob/master/tutorial/02_intermediate/Convolutinal_Neural_Network.ipynb\" target=\"_parent\"><img src=\"https://colab.research.google.com/assets/colab-badge.svg\" alt=\"Open In Colab\"/></a>"
      ]
    },
    {
      "metadata": {
        "id": "Wzbzil3EquvD",
        "colab_type": "code",
        "colab": {}
      },
      "cell_type": "code",
      "source": [
        "import tensorflow as tf\n",
        "import numpy as np\n",
        "\n",
        "tf.enable_eager_execution()\n",
        "tfe = tf.contrib.eager\n",
        "tfk = tf.keras"
      ],
      "execution_count": 0,
      "outputs": []
    },
    {
      "metadata": {
        "id": "_b3wl5DyrGbv",
        "colab_type": "code",
        "outputId": "d220cab9-7499-4529-d376-c9f521fe3f02",
        "colab": {
          "base_uri": "https://localhost:8080/",
          "height": 161
        }
      },
      "cell_type": "code",
      "source": [
        "# Hyper parameters\n",
        "num_epochs = 10\n",
        "num_classes = 10\n",
        "batch_size = 1024\n",
        "learning_rate = 0.001\n",
        "\n",
        "(x_train, y_train), (x_test, y_test) = tfk.datasets.cifar10.load_data()\n",
        "\n",
        "print(\"training_data\\n\", x_train.shape)\n",
        "print(\"test_data\\n\", x_test.shape)\n",
        "print(\"training_label\\n\", y_train.shape)\n",
        "print(\"test_label\\n\", y_test.shape)"
      ],
      "execution_count": 10,
      "outputs": [
        {
          "output_type": "stream",
          "text": [
            "training_data\n",
            " (50000, 32, 32, 3)\n",
            "test_data\n",
            " (10000, 32, 32, 3)\n",
            "training_label\n",
            " (50000, 1)\n",
            "test_label\n",
            " (10000, 1)\n"
          ],
          "name": "stdout"
        }
      ]
    },
    {
      "metadata": {
        "id": "zQ9dPufBDY_e",
        "colab_type": "code",
        "outputId": "aefb4022-f220-4bec-a09e-2eadf72d110e",
        "colab": {
          "base_uri": "https://localhost:8080/",
          "height": 53
        }
      },
      "cell_type": "code",
      "source": [
        "x_train_ = tf.transpose(tf.convert_to_tensor(x_train, dtype=tf.float32), \n",
        "                        [0, 3, 1, 2])\n",
        "y_train_ = tf.reshape(tf.one_hot(y_train, 10), (-1, 10))\n",
        "\n",
        "print(x_train_.shape)\n",
        "print(y_train_.shape)"
      ],
      "execution_count": 19,
      "outputs": [
        {
          "output_type": "stream",
          "text": [
            "(50000, 3, 32, 32)\n",
            "(50000, 10)\n"
          ],
          "name": "stdout"
        }
      ]
    },
    {
      "metadata": {
        "id": "EIFr75qmBuM-",
        "colab_type": "code",
        "outputId": "79a90c99-eb94-4118-a0de-e527a429441b",
        "colab": {
          "base_uri": "https://localhost:8080/",
          "height": 35
        }
      },
      "cell_type": "code",
      "source": [
        "train_dataset = (\n",
        "    tf.data.Dataset.from_tensor_slices((x_train, y_train))\n",
        "    .batch(batch_size)\n",
        "    .shuffle(10000)\n",
        ")\n",
        "\n",
        "train_dataset = (\n",
        "    train_dataset.map(lambda x, y: \n",
        "                      (tf.div(tf.cast(\n",
        "                          tf.transpose(x, [0, 3, 1, 2]), tf.float32), 255.0), \n",
        "                       tf.reshape(tf.one_hot(y, 10), (-1, 10))))\n",
        ")\n",
        "\n",
        "print(train_dataset)"
      ],
      "execution_count": 20,
      "outputs": [
        {
          "output_type": "stream",
          "text": [
            "<MapDataset shapes: ((?, 3, 32, 32), (?, 10)), types: (tf.float32, tf.float32)>\n"
          ],
          "name": "stdout"
        }
      ]
    },
    {
      "metadata": {
        "id": "jNdtaRRB7d5O",
        "colab_type": "code",
        "outputId": "1d3eecd2-65a7-4c63-e947-eb476b0dcc29",
        "colab": {
          "base_uri": "https://localhost:8080/",
          "height": 35
        }
      },
      "cell_type": "code",
      "source": [
        "test_dataset = (\n",
        "    tf.data.Dataset.from_tensor_slices((x_test, y_test))\n",
        "    .batch(1000)\n",
        "    .shuffle(10000)\n",
        ")\n",
        "test_dataset = (\n",
        "    test_dataset.map(lambda x, y: \n",
        "                      (tf.div(tf.cast(\n",
        "                          tf.transpose(x, [0, 3, 1, 2]), tf.float32), 255.0), \n",
        "                       tf.reshape(tf.one_hot(y, 10), (-1, 10))))\n",
        ")\n",
        "print(test_dataset)"
      ],
      "execution_count": 21,
      "outputs": [
        {
          "output_type": "stream",
          "text": [
            "<MapDataset shapes: ((?, 3, 32, 32), (?, 10)), types: (tf.float32, tf.float32)>\n"
          ],
          "name": "stdout"
        }
      ]
    },
    {
      "metadata": {
        "id": "P5PNiSQWrfAF",
        "colab_type": "code",
        "colab": {}
      },
      "cell_type": "code",
      "source": [
        ""
      ],
      "execution_count": 0,
      "outputs": []
    },
    {
      "metadata": {
        "id": "S2mYcv4D2UGO",
        "colab_type": "code",
        "colab": {}
      },
      "cell_type": "code",
      "source": [
        "class Cifar10Model(tfk.Model):\n",
        "    def __init__(self):\n",
        "        super(Cifar10Model, self).__init__(name='cifar_cnn')\n",
        "        \n",
        "        self.conv_block1 = tfk.Sequential([\n",
        "            tfk.layers.Conv2D(\n",
        "                8, \n",
        "                5,\n",
        "                padding='same',\n",
        "                activation=tf.nn.relu,\n",
        "                kernel_initializer=tf.initializers.variance_scaling,\n",
        "                kernel_regularizer=tfk.regularizers.l2(l=0.001),\n",
        "                data_format=\"channels_first\"\n",
        "            ),\n",
        "            tfk.layers.MaxPooling2D(\n",
        "                (3, 3), \n",
        "                (2, 2), \n",
        "                padding='same',\n",
        "                data_format=\"channels_first\"\n",
        "            ),\n",
        "            tfk.layers.BatchNormalization(axis=1),\n",
        "        ])\n",
        "\n",
        "        self.conv_block2 = tfk.Sequential([\n",
        "            tfk.layers.Conv2D(\n",
        "                16, \n",
        "                5,\n",
        "                padding='same',\n",
        "                activation=tf.nn.relu,\n",
        "                kernel_initializer=tf.initializers.variance_scaling,\n",
        "                kernel_regularizer=tfk.regularizers.l2(l=0.001),\n",
        "                data_format=\"channels_first\"\n",
        "            ),\n",
        "            tfk.layers.MaxPooling2D(\n",
        "                (3, 3), \n",
        "                (2, 2), \n",
        "                padding='same',\n",
        "                data_format=\"channels_first\"\n",
        "            ),\n",
        "            tfk.layers.BatchNormalization(axis=1),\n",
        "        ])\n",
        "        \n",
        "        self.conv_block3 = tfk.Sequential([\n",
        "            tfk.layers.Conv2D(\n",
        "                32, \n",
        "                5,\n",
        "                padding='same',\n",
        "                activation=tf.nn.relu,\n",
        "                kernel_initializer=tf.initializers.variance_scaling,\n",
        "                kernel_regularizer=tfk.regularizers.l2(l=0.001),\n",
        "                data_format=\"channels_first\"\n",
        "            ),\n",
        "            tfk.layers.MaxPooling2D(\n",
        "                (3, 3), \n",
        "                (2, 2), \n",
        "                padding='same',\n",
        "                data_format=\"channels_first\"\n",
        "            ),\n",
        "            tfk.layers.BatchNormalization(axis=1),\n",
        "        ])\n",
        "        \n",
        "        self.flatten = tfk.layers.Flatten()\n",
        "        self.fc1 = tfk.layers.Dense(\n",
        "            256, \n",
        "            activation=tf.nn.relu,\n",
        "            kernel_initializer=tf.initializers.variance_scaling,\n",
        "            kernel_regularizer=tfk.regularizers.l2(l=0.001))\n",
        "        self.dropout = tfk.layers.Dropout(0.8)\n",
        "        self.fc2 = tfk.layers.Dense(10)\n",
        "        self.softmax = tfk.layers.Softmax()\n",
        "\n",
        "    def call(self, x):\n",
        "        x = self.conv_block1(x)\n",
        "        x = self.conv_block2(x)\n",
        "        x = self.conv_block3(x)\n",
        "        x = self.flatten(x)\n",
        "        x = self.dropout(self.fc1(x))\n",
        "        x = self.fc2(x)\n",
        "        return self.softmax(x)"
      ],
      "execution_count": 0,
      "outputs": []
    },
    {
      "metadata": {
        "id": "6VyzP7OTtDGf",
        "colab_type": "code",
        "colab": {}
      },
      "cell_type": "code",
      "source": [
        "model = Cifar10Model()\n",
        "\n",
        "def loss_fn(model, x, y):\n",
        "    y_pre = model(x)\n",
        "    return tfk.losses.categorical_crossentropy(y, y_pre)\n",
        "\n",
        "def accuracy(model, x, y):\n",
        "    y_pre = model(x)\n",
        "    return tfk.metrics.categorical_accuracy(y, y_pre)\n",
        "\n",
        "optimizer = tf.train.AdamOptimizer(learning_rate)"
      ],
      "execution_count": 0,
      "outputs": []
    },
    {
      "metadata": {
        "id": "7zrxUvWPu6PK",
        "colab_type": "code",
        "outputId": "e3b65c6e-5951-4ca6-9a0e-05125c65e466",
        "colab": {
          "base_uri": "https://localhost:8080/",
          "height": 557
        }
      },
      "cell_type": "code",
      "source": [
        "for j in range(num_epochs):\n",
        "    \n",
        "    running_loss = 0\n",
        "    running_acc = 0\n",
        "\n",
        "    for i, (x_, y_) in enumerate(train_dataset):\n",
        "        \n",
        "        with tf.device(\"/gpu:0\"):\n",
        "            with tf.GradientTape() as tape:\n",
        "                loss = loss_fn(model, x_, y_)\n",
        "            acc = accuracy(model, x_, y_)\n",
        "            grads = tape.gradient(loss, model.variables)\n",
        "            optimizer.apply_gradients(zip(grads, model.variables))\n",
        "            running_loss += tf.reduce_mean(loss)\n",
        "            running_acc += tf.reduce_mean(acc)\n",
        "    \n",
        "    print(\"-----epoch {} -----\".format(j + 1))\n",
        "    print(\"loss: \", running_loss.numpy()/(i + 1))\n",
        "    print(\"acc: \", running_acc.numpy()/(i + 1))    "
      ],
      "execution_count": 45,
      "outputs": [
        {
          "output_type": "stream",
          "text": [
            "-----epoch 1 -----\n",
            "loss:  1.9387904575892858\n",
            "acc:  0.29365350762192083\n",
            "-----epoch 2 -----\n",
            "loss:  1.5621210215043049\n",
            "acc:  0.43229566301618305\n",
            "-----epoch 3 -----\n",
            "loss:  1.4413411665935905\n",
            "acc:  0.48328862871442524\n",
            "-----epoch 4 -----\n",
            "loss:  1.3570086420798788\n",
            "acc:  0.5132680231211136\n",
            "-----epoch 5 -----\n",
            "loss:  1.300194720832669\n",
            "acc:  0.5373571746203364\n",
            "-----epoch 6 -----\n",
            "loss:  1.2398374907824459\n",
            "acc:  0.5596067856769172\n",
            "-----epoch 7 -----\n",
            "loss:  1.197290459457709\n",
            "acc:  0.5755784949477838\n",
            "-----epoch 8 -----\n",
            "loss:  1.154668379803093\n",
            "acc:  0.5920901785091478\n",
            "-----epoch 9 -----\n",
            "loss:  1.130118311667929\n",
            "acc:  0.600405790367905\n",
            "-----epoch 10 -----\n",
            "loss:  1.1001540981993383\n",
            "acc:  0.6116759631098533\n"
          ],
          "name": "stdout"
        }
      ]
    },
    {
      "metadata": {
        "id": "8m2XzQv3G-na",
        "colab_type": "code",
        "outputId": "ebdcd658-7392-4c43-f688-be07ea468c1d",
        "colab": {
          "base_uri": "https://localhost:8080/",
          "height": 35
        }
      },
      "cell_type": "code",
      "source": [
        "test_accuracy = 0\n",
        "for i, (x_, y_) in enumerate(test_dataset):\n",
        "    test_accuracy += tf.reduce_mean(accuracy(model, x_, y_))\n",
        "test_accuracy /= i + 1\n",
        "\n",
        "print(\"test accuracy {:0.3f}\".format(test_accuracy.numpy()))"
      ],
      "execution_count": 47,
      "outputs": [
        {
          "output_type": "stream",
          "text": [
            "test accuracy 0.605\n"
          ],
          "name": "stdout"
        }
      ]
    },
    {
      "metadata": {
        "id": "dnuY_yuOLrO-",
        "colab_type": "code",
        "colab": {}
      },
      "cell_type": "code",
      "source": [
        ""
      ],
      "execution_count": 0,
      "outputs": []
    },
    {
      "metadata": {
        "id": "Rzz2FNtOqzdC",
        "colab_type": "code",
        "colab": {}
      },
      "cell_type": "code",
      "source": [
        ""
      ],
      "execution_count": 0,
      "outputs": []
    }
  ]
}